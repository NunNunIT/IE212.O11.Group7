{
 "cells": [
  {
   "cell_type": "code",
   "execution_count": null,
   "metadata": {},
   "outputs": [],
   "source": [
    "!pip install nltk\n",
    "!pip install pandas\n",
    "!pip install textblob\n",
    "!pip install scikit-learn\n",
    "!pip install matplotlib"
   ]
  },
  {
   "cell_type": "markdown",
   "metadata": {},
   "source": [
    "## Sentence Sentiment based rating prediction with added tweaks - Model 04 (Refer to the last model which is the ultimatum in our analysis)"
   ]
  },
  {
   "cell_type": "code",
   "execution_count": 149,
   "metadata": {},
   "outputs": [
    {
     "name": "stderr",
     "output_type": "stream",
     "text": [
      "[nltk_data] Downloading package stopwords to\n",
      "[nltk_data]     C:\\Users\\NUNNUN\\AppData\\Roaming\\nltk_data...\n",
      "[nltk_data]   Package stopwords is already up-to-date!\n"
     ]
    }
   ],
   "source": [
    "import gzip\n",
    "import pandas as pd\n",
    "import goslate\n",
    "import json\n",
    "import requests\n",
    "\n",
    "import nltk\n",
    "import string\n",
    "from nltk.stem.porter import *\n",
    "from nltk.corpus import stopwords\n",
    "nltk.download(\"stopwords\")\n",
    "from textblob import TextBlob\n",
    "\n",
    "from sklearn import linear_model\n",
    "from collections import defaultdict\n",
    "from datetime import datetime\n",
    "import matplotlib.pyplot as plt"
   ]
  },
  {
   "cell_type": "markdown",
   "metadata": {},
   "source": [
    "**Note**: Use cd .. or pwd commands to read the data files if required."
   ]
  },
  {
   "cell_type": "code",
   "execution_count": 9,
   "metadata": {},
   "outputs": [
    {
     "name": "stdout",
     "output_type": "stream",
     "text": [
      "E:\\ASTUDY\\HK-5\\BIGDATA\\rating-prediction-google-local\n"
     ]
    },
    {
     "name": "stderr",
     "output_type": "stream",
     "text": [
      "C:\\Users\\NUNNUN\\AppData\\Local\\Packages\\PythonSoftwareFoundation.Python.3.9_qbz5n2kfra8p0\\LocalCache\\local-packages\\Python39\\site-packages\\IPython\\core\\magics\\osm.py:417: UserWarning: using dhist requires you to install the `pickleshare` library.\n",
      "  self.shell.db['dhist'] = compress_dhist(dhist)[-100:]\n"
     ]
    }
   ],
   "source": [
    "cd .."
   ]
  },
  {
   "cell_type": "code",
   "execution_count": 150,
   "metadata": {},
   "outputs": [],
   "source": [
    "data_places = []\n",
    "with gzip.open(\"data/places.clean.json.gz\") as f:\n",
    "    for l in f:\n",
    "        data_places.append(eval(l))"
   ]
  },
  {
   "cell_type": "code",
   "execution_count": 13,
   "metadata": {},
   "outputs": [
    {
     "data": {
      "text/plain": [
       "(3114353,\n",
       " [{'name': 'Diamond Valley Lake Marina',\n",
       "   'price': None,\n",
       "   'address': ['2615 Angler Ave', 'Hemet, CA 92545'],\n",
       "   'hours': [['Monday', [['6:30 am--4:15 pm']]],\n",
       "    ['Tuesday', [['6:30 am--4:15 pm']]],\n",
       "    ['Wednesday', [['6:30 am--4:15 pm']], 1],\n",
       "    ['Thursday', [['6:30 am--4:15 pm']]],\n",
       "    ['Friday', [['6:30 am--4:15 pm']]],\n",
       "    ['Saturday', [['6:30 am--4:15 pm']]],\n",
       "    ['Sunday', [['6:30 am--4:15 pm']]]],\n",
       "   'phone': '(951) 926-7201',\n",
       "   'closed': False,\n",
       "   'gPlusPlaceId': '104699454385822125632',\n",
       "   'gps': [33.703804, -117.003209]}])"
      ]
     },
     "execution_count": 13,
     "metadata": {},
     "output_type": "execute_result"
    }
   ],
   "source": [
    "len(data_places), data_places[:1]"
   ]
  },
  {
   "cell_type": "code",
   "execution_count": 157,
   "metadata": {},
   "outputs": [],
   "source": [
    "N = 4000000\n",
    "data_reviews = []\n",
    "with gzip.open(\"data/reviews.clean.json.gz\") as f:\n",
    "    head = [next(f) for x in range(N)]\n",
    "    # for l in f:\n",
    "    #     data_reviews.append(eval(l))\n",
    "    #print(head)"
   ]
  },
  {
   "cell_type": "code",
   "execution_count": 15,
   "metadata": {},
   "outputs": [],
   "source": [
    "for l in head:\n",
    "    data_reviews.append(eval(l))"
   ]
  },
  {
   "cell_type": "code",
   "execution_count": 19,
   "metadata": {},
   "outputs": [
    {
     "data": {
      "text/plain": [
       "4000000"
      ]
     },
     "execution_count": 19,
     "metadata": {},
     "output_type": "execute_result"
    }
   ],
   "source": [
    "len(data_reviews)"
   ]
  },
  {
   "cell_type": "code",
   "execution_count": 20,
   "metadata": {},
   "outputs": [
    {
     "data": {
      "text/plain": [
       "[b\"{'rating': 3.0, 'reviewerName': u'an lam', 'reviewText': u'Ch\\\\u1ea5t l\\\\u01b0\\\\u1ee3ng t\\\\u1ea1m \\\\u1ed5n', 'categories': [u'Gi\\\\u1ea3i Tr\\\\xed - Caf\\\\xe9'], 'gPlusPlaceId': u'108103314380004200232', 'unixReviewTime': 1372686659, 'reviewTime': u'Jul 1, 2013', 'gPlusUserId': u'100000010817154263736'}\\n\"]"
      ]
     },
     "execution_count": 20,
     "metadata": {},
     "output_type": "execute_result"
    }
   ],
   "source": [
    "head = data_reviews\n",
    "head[:1]"
   ]
  },
  {
   "cell_type": "code",
   "execution_count": 21,
   "metadata": {},
   "outputs": [
    {
     "data": {
      "text/plain": [
       "([{'rating': 3.0,\n",
       "   'reviewerName': 'an lam',\n",
       "   'reviewText': 'Chất lượng tạm ổn',\n",
       "   'categories': ['Giải Trí - Café'],\n",
       "   'gPlusPlaceId': '108103314380004200232',\n",
       "   'unixReviewTime': 1372686659,\n",
       "   'reviewTime': 'Jul 1, 2013',\n",
       "   'gPlusUserId': '100000010817154263736'}],\n",
       " 4000000)"
      ]
     },
     "execution_count": 21,
     "metadata": {},
     "output_type": "execute_result"
    }
   ],
   "source": [
    "data_reviews[:1], len(data_reviews)"
   ]
  },
  {
   "cell_type": "code",
   "execution_count": 152,
   "metadata": {},
   "outputs": [],
   "source": [
    "df_data_reviews = pd.DataFrame.from_dict(data_reviews)"
   ]
  },
  {
   "cell_type": "code",
   "execution_count": 23,
   "metadata": {},
   "outputs": [
    {
     "data": {
      "text/html": [
       "<div>\n",
       "<style scoped>\n",
       "    .dataframe tbody tr th:only-of-type {\n",
       "        vertical-align: middle;\n",
       "    }\n",
       "\n",
       "    .dataframe tbody tr th {\n",
       "        vertical-align: top;\n",
       "    }\n",
       "\n",
       "    .dataframe thead th {\n",
       "        text-align: right;\n",
       "    }\n",
       "</style>\n",
       "<table border=\"1\" class=\"dataframe\">\n",
       "  <thead>\n",
       "    <tr style=\"text-align: right;\">\n",
       "      <th></th>\n",
       "      <th>rating</th>\n",
       "      <th>reviewerName</th>\n",
       "      <th>reviewText</th>\n",
       "      <th>categories</th>\n",
       "      <th>gPlusPlaceId</th>\n",
       "      <th>unixReviewTime</th>\n",
       "      <th>reviewTime</th>\n",
       "      <th>gPlusUserId</th>\n",
       "    </tr>\n",
       "  </thead>\n",
       "  <tbody>\n",
       "    <tr>\n",
       "      <th>0</th>\n",
       "      <td>3.0</td>\n",
       "      <td>an lam</td>\n",
       "      <td>Chất lượng tạm ổn</td>\n",
       "      <td>[Giải Trí - Café]</td>\n",
       "      <td>108103314380004200232</td>\n",
       "      <td>1.372687e+09</td>\n",
       "      <td>Jul 1, 2013</td>\n",
       "      <td>100000010817154263736</td>\n",
       "    </tr>\n",
       "    <tr>\n",
       "      <th>1</th>\n",
       "      <td>5.0</td>\n",
       "      <td>HALİL TURGUT</td>\n",
       "      <td>Wc si temiz duzenli..</td>\n",
       "      <td>[Turkish Cuisine]</td>\n",
       "      <td>102194128241608748649</td>\n",
       "      <td>1.342871e+09</td>\n",
       "      <td>Jul 21, 2012</td>\n",
       "      <td>100000013500285534661</td>\n",
       "    </tr>\n",
       "    <tr>\n",
       "      <th>2</th>\n",
       "      <td>5.0</td>\n",
       "      <td>森田さとこ</td>\n",
       "      <td>何回も私は予定に休みがセルバに行ったので覚えて見て、分かります❗</td>\n",
       "      <td>[Fishing, Pond Fish Supplier, Seafood Market]</td>\n",
       "      <td>101409858828175402384</td>\n",
       "      <td>1.390654e+09</td>\n",
       "      <td>Jan 25, 2014</td>\n",
       "      <td>100000021336848867366</td>\n",
       "    </tr>\n",
       "    <tr>\n",
       "      <th>3</th>\n",
       "      <td>5.0</td>\n",
       "      <td>森田さとこ</td>\n",
       "      <td>今度は予定に休みが登米市に行きたい❗☀😅🌌 楽しいに日帰りに登米の見学の観光(*^)(*^-...</td>\n",
       "      <td>[Museum]</td>\n",
       "      <td>101477177500158511502</td>\n",
       "      <td>1.389188e+09</td>\n",
       "      <td>Jan 8, 2014</td>\n",
       "      <td>100000021336848867366</td>\n",
       "    </tr>\n",
       "    <tr>\n",
       "      <th>4</th>\n",
       "      <td>4.0</td>\n",
       "      <td>森田さとこ</td>\n",
       "      <td>気仙沼警察署に移転中に絆 👮🐎☺🙋🚓頑張ろう❗</td>\n",
       "      <td>[Police]</td>\n",
       "      <td>106994170641063333085</td>\n",
       "      <td>1.390486e+09</td>\n",
       "      <td>Jan 23, 2014</td>\n",
       "      <td>100000021336848867366</td>\n",
       "    </tr>\n",
       "  </tbody>\n",
       "</table>\n",
       "</div>"
      ],
      "text/plain": [
       "   rating  reviewerName                                         reviewText  \\\n",
       "0     3.0        an lam                                  Chất lượng tạm ổn   \n",
       "1     5.0  HALİL TURGUT                              Wc si temiz duzenli..   \n",
       "2     5.0         森田さとこ                   何回も私は予定に休みがセルバに行ったので覚えて見て、分かります❗   \n",
       "3     5.0         森田さとこ  今度は予定に休みが登米市に行きたい❗☀😅🌌 楽しいに日帰りに登米の見学の観光(*^)(*^-...   \n",
       "4     4.0         森田さとこ                            気仙沼警察署に移転中に絆 👮🐎☺🙋🚓頑張ろう❗   \n",
       "\n",
       "                                      categories           gPlusPlaceId  \\\n",
       "0                              [Giải Trí - Café]  108103314380004200232   \n",
       "1                              [Turkish Cuisine]  102194128241608748649   \n",
       "2  [Fishing, Pond Fish Supplier, Seafood Market]  101409858828175402384   \n",
       "3                                       [Museum]  101477177500158511502   \n",
       "4                                       [Police]  106994170641063333085   \n",
       "\n",
       "   unixReviewTime    reviewTime            gPlusUserId  \n",
       "0    1.372687e+09   Jul 1, 2013  100000010817154263736  \n",
       "1    1.342871e+09  Jul 21, 2012  100000013500285534661  \n",
       "2    1.390654e+09  Jan 25, 2014  100000021336848867366  \n",
       "3    1.389188e+09   Jan 8, 2014  100000021336848867366  \n",
       "4    1.390486e+09  Jan 23, 2014  100000021336848867366  "
      ]
     },
     "execution_count": 23,
     "metadata": {},
     "output_type": "execute_result"
    }
   ],
   "source": [
    "df_data_reviews[:5]"
   ]
  },
  {
   "cell_type": "code",
   "execution_count": 24,
   "metadata": {},
   "outputs": [
    {
     "data": {
      "text/plain": [
       "4000000"
      ]
     },
     "execution_count": 24,
     "metadata": {},
     "output_type": "execute_result"
    }
   ],
   "source": [
    "len(df_data_reviews)"
   ]
  },
  {
   "cell_type": "code",
   "execution_count": 153,
   "metadata": {},
   "outputs": [],
   "source": [
    "df_reviews = df_data_reviews.dropna()"
   ]
  },
  {
   "cell_type": "code",
   "execution_count": 154,
   "metadata": {},
   "outputs": [
    {
     "ename": "IndexError",
     "evalue": "single positional indexer is out-of-bounds",
     "output_type": "error",
     "traceback": [
      "\u001b[1;31m---------------------------------------------------------------------------\u001b[0m",
      "\u001b[1;31mIndexError\u001b[0m                                Traceback (most recent call last)",
      "Cell \u001b[1;32mIn[154], line 1\u001b[0m\n\u001b[1;32m----> 1\u001b[0m \u001b[38;5;28mlen\u001b[39m(df_reviews), \u001b[43mdf_reviews\u001b[49m\u001b[38;5;241;43m.\u001b[39;49m\u001b[43miloc\u001b[49m\u001b[43m[\u001b[49m\u001b[38;5;241;43m2536747\u001b[39;49m\u001b[43m]\u001b[49m\n",
      "File \u001b[1;32m~\\AppData\\Local\\Packages\\PythonSoftwareFoundation.Python.3.9_qbz5n2kfra8p0\\LocalCache\\local-packages\\Python39\\site-packages\\pandas\\core\\indexing.py:1153\u001b[0m, in \u001b[0;36m_LocationIndexer.__getitem__\u001b[1;34m(self, key)\u001b[0m\n\u001b[0;32m   1150\u001b[0m axis \u001b[38;5;241m=\u001b[39m \u001b[38;5;28mself\u001b[39m\u001b[38;5;241m.\u001b[39maxis \u001b[38;5;129;01mor\u001b[39;00m \u001b[38;5;241m0\u001b[39m\n\u001b[0;32m   1152\u001b[0m maybe_callable \u001b[38;5;241m=\u001b[39m com\u001b[38;5;241m.\u001b[39mapply_if_callable(key, \u001b[38;5;28mself\u001b[39m\u001b[38;5;241m.\u001b[39mobj)\n\u001b[1;32m-> 1153\u001b[0m \u001b[38;5;28;01mreturn\u001b[39;00m \u001b[38;5;28;43mself\u001b[39;49m\u001b[38;5;241;43m.\u001b[39;49m\u001b[43m_getitem_axis\u001b[49m\u001b[43m(\u001b[49m\u001b[43mmaybe_callable\u001b[49m\u001b[43m,\u001b[49m\u001b[43m \u001b[49m\u001b[43maxis\u001b[49m\u001b[38;5;241;43m=\u001b[39;49m\u001b[43maxis\u001b[49m\u001b[43m)\u001b[49m\n",
      "File \u001b[1;32m~\\AppData\\Local\\Packages\\PythonSoftwareFoundation.Python.3.9_qbz5n2kfra8p0\\LocalCache\\local-packages\\Python39\\site-packages\\pandas\\core\\indexing.py:1714\u001b[0m, in \u001b[0;36m_iLocIndexer._getitem_axis\u001b[1;34m(self, key, axis)\u001b[0m\n\u001b[0;32m   1711\u001b[0m     \u001b[38;5;28;01mraise\u001b[39;00m \u001b[38;5;167;01mTypeError\u001b[39;00m(\u001b[38;5;124m\"\u001b[39m\u001b[38;5;124mCannot index by location index with a non-integer key\u001b[39m\u001b[38;5;124m\"\u001b[39m)\n\u001b[0;32m   1713\u001b[0m \u001b[38;5;66;03m# validate the location\u001b[39;00m\n\u001b[1;32m-> 1714\u001b[0m \u001b[38;5;28;43mself\u001b[39;49m\u001b[38;5;241;43m.\u001b[39;49m\u001b[43m_validate_integer\u001b[49m\u001b[43m(\u001b[49m\u001b[43mkey\u001b[49m\u001b[43m,\u001b[49m\u001b[43m \u001b[49m\u001b[43maxis\u001b[49m\u001b[43m)\u001b[49m\n\u001b[0;32m   1716\u001b[0m \u001b[38;5;28;01mreturn\u001b[39;00m \u001b[38;5;28mself\u001b[39m\u001b[38;5;241m.\u001b[39mobj\u001b[38;5;241m.\u001b[39m_ixs(key, axis\u001b[38;5;241m=\u001b[39maxis)\n",
      "File \u001b[1;32m~\\AppData\\Local\\Packages\\PythonSoftwareFoundation.Python.3.9_qbz5n2kfra8p0\\LocalCache\\local-packages\\Python39\\site-packages\\pandas\\core\\indexing.py:1647\u001b[0m, in \u001b[0;36m_iLocIndexer._validate_integer\u001b[1;34m(self, key, axis)\u001b[0m\n\u001b[0;32m   1645\u001b[0m len_axis \u001b[38;5;241m=\u001b[39m \u001b[38;5;28mlen\u001b[39m(\u001b[38;5;28mself\u001b[39m\u001b[38;5;241m.\u001b[39mobj\u001b[38;5;241m.\u001b[39m_get_axis(axis))\n\u001b[0;32m   1646\u001b[0m \u001b[38;5;28;01mif\u001b[39;00m key \u001b[38;5;241m>\u001b[39m\u001b[38;5;241m=\u001b[39m len_axis \u001b[38;5;129;01mor\u001b[39;00m key \u001b[38;5;241m<\u001b[39m \u001b[38;5;241m-\u001b[39mlen_axis:\n\u001b[1;32m-> 1647\u001b[0m     \u001b[38;5;28;01mraise\u001b[39;00m \u001b[38;5;167;01mIndexError\u001b[39;00m(\u001b[38;5;124m\"\u001b[39m\u001b[38;5;124msingle positional indexer is out-of-bounds\u001b[39m\u001b[38;5;124m\"\u001b[39m)\n",
      "\u001b[1;31mIndexError\u001b[0m: single positional indexer is out-of-bounds"
     ]
    }
   ],
   "source": [
    "len(df_reviews), df_reviews.iloc[2536747]"
   ]
  },
  {
   "cell_type": "code",
   "execution_count": 22,
   "metadata": {},
   "outputs": [],
   "source": [
    "# reviews_data = df_reviews.T.to_dict().values()"
   ]
  },
  {
   "cell_type": "markdown",
   "metadata": {},
   "source": [
    "### Function - Filtering out data based on GPS coordinates"
   ]
  },
  {
   "cell_type": "code",
   "execution_count": null,
   "metadata": {},
   "outputs": [],
   "source": [
    "def places_filter(dataset, lat_l, lat_h, lon_l, lon_h):\n",
    "    reviews_us = []\n",
    "    for d in dataset:\n",
    "        if d[\"gps\"] != None and d[\"price\"] != None and d[\"price\"] != \"\":\n",
    "            if (\n",
    "                (d[\"gps\"][0] >= lat_l)\n",
    "                & (d[\"gps\"][0] <= lat_h)\n",
    "                & (d[\"gps\"][1] >= lon_l)\n",
    "                & (d[\"gps\"][1] <= lon_h)\n",
    "            ):\n",
    "                reviews_us.append(d)\n",
    "    return reviews_us"
   ]
  },
  {
   "cell_type": "code",
   "execution_count": null,
   "metadata": {},
   "outputs": [],
   "source": [
    "places_ca = places_filter(data_places, 32.32, 42, -124.26, -114.8)"
   ]
  },
  {
   "cell_type": "code",
   "execution_count": 29,
   "metadata": {},
   "outputs": [
    {
     "data": {
      "text/plain": [
       "(48865, 4000000)"
      ]
     },
     "execution_count": 29,
     "metadata": {},
     "output_type": "execute_result"
    }
   ],
   "source": [
    "len(places_ca), len(data_reviews)"
   ]
  },
  {
   "cell_type": "markdown",
   "metadata": {},
   "source": [
    "### Function - Filter data based on"
   ]
  },
  {
   "cell_type": "code",
   "execution_count": null,
   "metadata": {},
   "outputs": [],
   "source": [
    "def joined_data(places, reviews):\n",
    "    placeGPS = defaultdict(list)\n",
    "    placePrice = defaultdict(list)\n",
    "    joined_data = []\n",
    "\n",
    "    for d in places:\n",
    "        placeGPS[d[\"gPlusPlaceId\"]] = d[\"gps\"]\n",
    "        placePrice[d[\"gPlusPlaceId\"]] = d[\"price\"]\n",
    "    # print(placeGPS)\n",
    "    # dataset is reviews data\n",
    "    for d in reviews:\n",
    "\n",
    "        if d[\"gPlusPlaceId\"] in placeGPS:\n",
    "            d[\"gps\"] = placeGPS[d[\"gPlusPlaceId\"]]\n",
    "            d[\"price\"] = placePrice[d[\"gPlusPlaceId\"]]\n",
    "            joined_data.append(d)\n",
    "    return joined_data"
   ]
  },
  {
   "cell_type": "code",
   "execution_count": null,
   "metadata": {},
   "outputs": [],
   "source": [
    "data_ca = joined_data(places_ca, data_reviews)"
   ]
  },
  {
   "cell_type": "code",
   "execution_count": 32,
   "metadata": {},
   "outputs": [
    {
     "data": {
      "text/plain": [
       "125947"
      ]
     },
     "execution_count": 32,
     "metadata": {},
     "output_type": "execute_result"
    }
   ],
   "source": [
    "len(data_ca)"
   ]
  },
  {
   "cell_type": "code",
   "execution_count": 33,
   "metadata": {},
   "outputs": [
    {
     "data": {
      "text/plain": [
       "[{'rating': 4.0,\n",
       "  'reviewerName': 'william spindler',\n",
       "  'reviewText': 'Best War Wanton soup in Red Bluff',\n",
       "  'categories': ['Asian Restaurant', 'Chinese Restaurant'],\n",
       "  'gPlusPlaceId': '106591714648856494903',\n",
       "  'unixReviewTime': 1394669496,\n",
       "  'reviewTime': 'Mar 12, 2014',\n",
       "  'gPlusUserId': '100000032416892623125',\n",
       "  'gps': [40.179159, -122.236162],\n",
       "  'price': '$$$'}]"
      ]
     },
     "execution_count": 33,
     "metadata": {},
     "output_type": "execute_result"
    }
   ],
   "source": [
    "data_ca[:1]"
   ]
  },
  {
   "cell_type": "code",
   "execution_count": null,
   "metadata": {},
   "outputs": [],
   "source": [
    "data_ca_ = []\n",
    "for d in data_ca:\n",
    "    if (\n",
    "        d[\"gps\"] != None\n",
    "        and d[\"gps\"] != \"\"\n",
    "        and d[\"price\"] != None\n",
    "        and d[\"price\"] != \"\"\n",
    "        and d[\"reviewText\"] != None\n",
    "        and d[\"reviewText\"] != \"\"\n",
    "        and d[\"categories\"] != None\n",
    "        and d[\"categories\"] != \"\"\n",
    "        and d[\"rating\"] != None\n",
    "        and d[\"rating\"] != \"\"\n",
    "    ):\n",
    "        data_ca_.append(d)"
   ]
  },
  {
   "cell_type": "code",
   "execution_count": 35,
   "metadata": {},
   "outputs": [
    {
     "data": {
      "text/plain": [
       "76254"
      ]
     },
     "execution_count": 35,
     "metadata": {},
     "output_type": "execute_result"
    }
   ],
   "source": [
    "len(data_ca_)"
   ]
  },
  {
   "cell_type": "code",
   "execution_count": 36,
   "metadata": {},
   "outputs": [
    {
     "data": {
      "text/plain": [
       "0"
      ]
     },
     "execution_count": 36,
     "metadata": {},
     "output_type": "execute_result"
    }
   ],
   "source": [
    "sum(d[\"categories\"] == None for d in data_ca_)\n",
    "# [d for d in data_ca if d['categories'] == None]"
   ]
  },
  {
   "cell_type": "code",
   "execution_count": null,
   "metadata": {},
   "outputs": [],
   "source": [
    "categ_list = []\n",
    "placeCateg = defaultdict(list)\n",
    "count = 0\n",
    "for d in data_ca_:\n",
    "    for l in d[\"categories\"]:\n",
    "        if l not in categ_list:\n",
    "            categ_list.append(l)\n",
    "\n",
    "len(categ_list),  # categ_list"
   ]
  },
  {
   "cell_type": "code",
   "execution_count": 38,
   "metadata": {},
   "outputs": [
    {
     "data": {
      "text/plain": [
       "['Asian Restaurant', 'Chinese Restaurant']"
      ]
     },
     "execution_count": 38,
     "metadata": {},
     "output_type": "execute_result"
    }
   ],
   "source": [
    "categ_list[:2]"
   ]
  },
  {
   "cell_type": "code",
   "execution_count": null,
   "metadata": {},
   "outputs": [],
   "source": [
    "perCategReviews = defaultdict(int)\n",
    "for c in categ_list:\n",
    "    for d in data_ca_:\n",
    "        if d[\"categories\"] != None:\n",
    "            if c in d[\"categories\"]:\n",
    "                perCategReviews[c] += 1"
   ]
  },
  {
   "cell_type": "code",
   "execution_count": null,
   "metadata": {},
   "outputs": [],
   "source": [
    "top_categ = []\n",
    "for d in perCategReviews:\n",
    "    item = (perCategReviews[d], d)\n",
    "    top_categ.append(item)\n",
    "\n",
    "sorted(top_categ, reverse=True)[:10]"
   ]
  },
  {
   "cell_type": "code",
   "execution_count": null,
   "metadata": {},
   "outputs": [],
   "source": [
    "df_ca = pd.DataFrame.from_dict(data_ca_)"
   ]
  },
  {
   "cell_type": "code",
   "execution_count": 42,
   "metadata": {},
   "outputs": [
    {
     "data": {
      "text/html": [
       "<div>\n",
       "<style scoped>\n",
       "    .dataframe tbody tr th:only-of-type {\n",
       "        vertical-align: middle;\n",
       "    }\n",
       "\n",
       "    .dataframe tbody tr th {\n",
       "        vertical-align: top;\n",
       "    }\n",
       "\n",
       "    .dataframe thead th {\n",
       "        text-align: right;\n",
       "    }\n",
       "</style>\n",
       "<table border=\"1\" class=\"dataframe\">\n",
       "  <thead>\n",
       "    <tr style=\"text-align: right;\">\n",
       "      <th></th>\n",
       "      <th>rating</th>\n",
       "      <th>reviewerName</th>\n",
       "      <th>reviewText</th>\n",
       "      <th>categories</th>\n",
       "      <th>gPlusPlaceId</th>\n",
       "      <th>unixReviewTime</th>\n",
       "      <th>reviewTime</th>\n",
       "      <th>gPlusUserId</th>\n",
       "      <th>gps</th>\n",
       "      <th>price</th>\n",
       "    </tr>\n",
       "  </thead>\n",
       "  <tbody>\n",
       "    <tr>\n",
       "      <th>0</th>\n",
       "      <td>4.0</td>\n",
       "      <td>william spindler</td>\n",
       "      <td>Best War Wanton soup in Red Bluff</td>\n",
       "      <td>[Asian Restaurant, Chinese Restaurant]</td>\n",
       "      <td>106591714648856494903</td>\n",
       "      <td>1394669496</td>\n",
       "      <td>Mar 12, 2014</td>\n",
       "      <td>100000032416892623125</td>\n",
       "      <td>[40.179159, -122.236162]</td>\n",
       "      <td>$$$</td>\n",
       "    </tr>\n",
       "    <tr>\n",
       "      <th>1</th>\n",
       "      <td>5.0</td>\n",
       "      <td>william spindler</td>\n",
       "      <td>This is a review that is long overdo. I've bee...</td>\n",
       "      <td>[European Restaurant, Italian Restaurant, Pizz...</td>\n",
       "      <td>109420033090810328045</td>\n",
       "      <td>1394826388</td>\n",
       "      <td>Mar 14, 2014</td>\n",
       "      <td>100000032416892623125</td>\n",
       "      <td>[40.178074, -122.235234]</td>\n",
       "      <td>$$</td>\n",
       "    </tr>\n",
       "    <tr>\n",
       "      <th>2</th>\n",
       "      <td>5.0</td>\n",
       "      <td>william spindler</td>\n",
       "      <td>Long time favorite Mexican food, always consis...</td>\n",
       "      <td>[Mexican Restaurant]</td>\n",
       "      <td>115827996910815192564</td>\n",
       "      <td>1394669713</td>\n",
       "      <td>Mar 12, 2014</td>\n",
       "      <td>100000032416892623125</td>\n",
       "      <td>[40.175064, -122.242574]</td>\n",
       "      <td>$$</td>\n",
       "    </tr>\n",
       "    <tr>\n",
       "      <th>3</th>\n",
       "      <td>5.0</td>\n",
       "      <td>Anne Mason</td>\n",
       "      <td>Great coffee and location! Check out the used ...</td>\n",
       "      <td>[Espresso Bar, Coffee Shop]</td>\n",
       "      <td>108196901293702895067</td>\n",
       "      <td>1379187049</td>\n",
       "      <td>Sep 14, 2013</td>\n",
       "      <td>100000106576186066497</td>\n",
       "      <td>[38.030536, -121.884024]</td>\n",
       "      <td>$$$</td>\n",
       "    </tr>\n",
       "    <tr>\n",
       "      <th>4</th>\n",
       "      <td>5.0</td>\n",
       "      <td>Anne Mason</td>\n",
       "      <td>I've been here dozens of times, and I'll keep ...</td>\n",
       "      <td>[Sushi Restaurant, Asian Restaurant, Japanese ...</td>\n",
       "      <td>111971088396054239194</td>\n",
       "      <td>1394848761</td>\n",
       "      <td>Mar 14, 2014</td>\n",
       "      <td>100000106576186066497</td>\n",
       "      <td>[37.961078, -121.748886]</td>\n",
       "      <td>$$</td>\n",
       "    </tr>\n",
       "  </tbody>\n",
       "</table>\n",
       "</div>"
      ],
      "text/plain": [
       "   rating      reviewerName  \\\n",
       "0     4.0  william spindler   \n",
       "1     5.0  william spindler   \n",
       "2     5.0  william spindler   \n",
       "3     5.0        Anne Mason   \n",
       "4     5.0        Anne Mason   \n",
       "\n",
       "                                          reviewText  \\\n",
       "0                  Best War Wanton soup in Red Bluff   \n",
       "1  This is a review that is long overdo. I've bee...   \n",
       "2  Long time favorite Mexican food, always consis...   \n",
       "3  Great coffee and location! Check out the used ...   \n",
       "4  I've been here dozens of times, and I'll keep ...   \n",
       "\n",
       "                                          categories           gPlusPlaceId  \\\n",
       "0             [Asian Restaurant, Chinese Restaurant]  106591714648856494903   \n",
       "1  [European Restaurant, Italian Restaurant, Pizz...  109420033090810328045   \n",
       "2                               [Mexican Restaurant]  115827996910815192564   \n",
       "3                        [Espresso Bar, Coffee Shop]  108196901293702895067   \n",
       "4  [Sushi Restaurant, Asian Restaurant, Japanese ...  111971088396054239194   \n",
       "\n",
       "   unixReviewTime    reviewTime            gPlusUserId  \\\n",
       "0      1394669496  Mar 12, 2014  100000032416892623125   \n",
       "1      1394826388  Mar 14, 2014  100000032416892623125   \n",
       "2      1394669713  Mar 12, 2014  100000032416892623125   \n",
       "3      1379187049  Sep 14, 2013  100000106576186066497   \n",
       "4      1394848761  Mar 14, 2014  100000106576186066497   \n",
       "\n",
       "                        gps price  \n",
       "0  [40.179159, -122.236162]   $$$  \n",
       "1  [40.178074, -122.235234]    $$  \n",
       "2  [40.175064, -122.242574]    $$  \n",
       "3  [38.030536, -121.884024]   $$$  \n",
       "4  [37.961078, -121.748886]    $$  "
      ]
     },
     "execution_count": 42,
     "metadata": {},
     "output_type": "execute_result"
    }
   ],
   "source": [
    "df_ca[:5]"
   ]
  },
  {
   "cell_type": "code",
   "execution_count": null,
   "metadata": {},
   "outputs": [],
   "source": [
    "df_ca[\"unixReviewTime\"].shape"
   ]
  },
  {
   "cell_type": "code",
   "execution_count": null,
   "metadata": {},
   "outputs": [],
   "source": [
    "df_ca[\"dtime\"] = pd.to_datetime(df_ca[\"unixReviewTime\"], unit=\"s\")\n",
    "# df_ca['dt'] = datetime(df_ca['unixReview'])\n",
    "df_ca[\"hour\"] = df_ca.dtime.dt.hour\n",
    "df_ca[\"minute\"] = df_ca.dtime.dt.minute\n",
    "df_ca[\"second\"] = df_ca.dtime.dt.second"
   ]
  },
  {
   "cell_type": "code",
   "execution_count": null,
   "metadata": {},
   "outputs": [],
   "source": [
    "plt.hist(df_ca[\"hour\"], bins=20)\n",
    "plt.show()"
   ]
  },
  {
   "cell_type": "code",
   "execution_count": null,
   "metadata": {},
   "outputs": [],
   "source": [
    "review_count = pd.DataFrame(df_ca[\"hour\"].value_counts())\n",
    "review_count[\"hr\"] = review_count.index\n",
    "review_count.reset_index\n",
    "# review_count = review_count.rename(columns={\"hour\":\"num_reviews\"}).sort_values(\n",
    "#     by=[\"hr\"]\n",
    "# )\n",
    "review_count = review_count.rename(columns={\"count\":\"num_reviews\"}).sort_values(\n",
    "    by=[\"hr\"]\n",
    ")\n",
    "# review_count"
   ]
  },
  {
   "cell_type": "code",
   "execution_count": 92,
   "metadata": {},
   "outputs": [
    {
     "data": {
      "image/png": "[encoded data removed]",
      "text/plain": [
       "<Figure size 640x480 with 1 Axes>"
      ]
     },
     "metadata": {},
     "output_type": "display_data"
    }
   ],
   "source": [
    "plt.plot((review_count[\"hr\"]), review_count[\"num_reviews\"], color=\"black\")\n",
    "plt.xlabel(\"hour\")\n",
    "plt.ylabel(\"Num of reviews\")\n",
    "# plt.legend()\n",
    "plt.show()"
   ]
  },
  {
   "cell_type": "markdown",
   "metadata": {},
   "source": [
    "#### Write to csv df_ca"
   ]
  },
  {
   "cell_type": "code",
   "execution_count": 93,
   "metadata": {},
   "outputs": [],
   "source": [
    "df_ca.to_csv(\"df_ca.csv\", index=True)"
   ]
  },
  {
   "cell_type": "markdown",
   "metadata": {},
   "source": [
    "### Text Analysis"
   ]
  },
  {
   "cell_type": "code",
   "execution_count": null,
   "metadata": {},
   "outputs": [],
   "source": [
    "df_ca.isnull().values.any()"
   ]
  },
  {
   "cell_type": "code",
   "execution_count": null,
   "metadata": {},
   "outputs": [],
   "source": [
    "df_ca[\"reviewText\"].isnull().values.any()"
   ]
  },
  {
   "cell_type": "code",
   "execution_count": null,
   "metadata": {},
   "outputs": [],
   "source": [
    "import re\n",
    "alphabets= \"([A-Za-z])\"\n",
    "prefixes = \"(Mr|St|Mrs|Ms|Dr)[.]\"\n",
    "suffixes = \"(Inc|Ltd|Jr|Sr|Co)\"\n",
    "starters = \"(Mr|Mrs|Ms|Dr|He\\s|She\\s|It\\s|They\\s|Their\\s|Our\\s|We\\s|But\\s|However\\s|That\\s|This\\s|Wherever)\"\n",
    "acronyms = \"([A-Z][.][A-Z][.](?:[A-Z][.])?)\"\n",
    "websites = \"[.](com|net|org|io|gov)\"\n",
    "\n",
    "def split_into_sentences(text):\n",
    "    text = \" \" + text + \"  \"\n",
    "    text = text.replace(\"\\n\",\" \")\n",
    "    text = re.sub(prefixes,\"\\\\1<prd>\",text)\n",
    "    text = re.sub(websites,\"<prd>\\\\1\",text)\n",
    "    if \"Ph.D\" in text: text = text.replace(\"Ph.D.\",\"Ph<prd>D<prd>\")\n",
    "    text = re.sub(\"\\s\" + alphabets + \"[.] \",\" \\\\1<prd> \",text)\n",
    "    text = re.sub(acronyms+\" \"+starters,\"\\\\1<stop> \\\\2\",text)\n",
    "    text = re.sub(alphabets + \"[.]\" + alphabets + \"[.]\" + alphabets + \"[.]\",\"\\\\1<prd>\\\\2<prd>\\\\3<prd>\",text)\n",
    "    text = re.sub(alphabets + \"[.]\" + alphabets + \"[.]\",\"\\\\1<prd>\\\\2<prd>\",text)\n",
    "    text = re.sub(\" \"+suffixes+\"[.] \"+starters,\" \\\\1<stop> \\\\2\",text)\n",
    "    text = re.sub(\" \"+suffixes+\"[.]\",\" \\\\1<prd>\",text)\n",
    "    text = re.sub(\" \" + alphabets + \"[.]\",\" \\\\1<prd>\",text)\n",
    "    if \"”\" in text: text = text.replace(\".”\",\"”.\")\n",
    "    if \"\\\"\" in text: text = text.replace(\".\\\"\",\"\\\".\")\n",
    "    if \"!\" in text: text = text.replace(\"!\\\"\",\"\\\"!\")\n",
    "    if \"?\" in text: text = text.replace(\"?\\\"\",\"\\\"?\")\n",
    "    text = text.replace(\".\",\".<stop>\")\n",
    "    text = text.replace(\"?\",\"?<stop>\")\n",
    "    text = text.replace(\"!\",\"!<stop>\")\n",
    "    text = text.replace(\"<prd>\",\".\")\n",
    "    sentences = text.split(\"<stop>\")\n",
    "    sentences = sentences[:-1]\n",
    "    sentences = [s.strip() for s in sentences]\n",
    "    return sentences"
   ]
  },
  {
   "cell_type": "code",
   "execution_count": 97,
   "metadata": {},
   "outputs": [
    {
     "data": {
      "text/plain": [
       "{'rating': 4.0,\n",
       " 'reviewerName': 'James Kemp',\n",
       " 'reviewText': 'It is what it. If you like Hot Wings then you will love the wings here. Its a great place to drink beers and eat wings while watching a game.    If you think you will be bother by the waitresses, then skip it.',\n",
       " 'categories': ['American Restaurant'],\n",
       " 'gPlusPlaceId': '109523534701774622111',\n",
       " 'unixReviewTime': 1328231379,\n",
       " 'reviewTime': 'Feb 2, 2012',\n",
       " 'gPlusUserId': '100923767565653432429',\n",
       " 'gps': [34.072835, -117.880006],\n",
       " 'price': '$$$'}"
      ]
     },
     "execution_count": 97,
     "metadata": {},
     "output_type": "execute_result"
    }
   ],
   "source": [
    "#random check\n",
    "data_ca_[10589]"
   ]
  },
  {
   "cell_type": "code",
   "execution_count": null,
   "metadata": {},
   "outputs": [],
   "source": [
    "TextBlob('Its a great place.').sentiment"
   ]
  },
  {
   "cell_type": "markdown",
   "metadata": {},
   "source": [
    "### Data split"
   ]
  },
  {
   "cell_type": "code",
   "execution_count": 99,
   "metadata": {},
   "outputs": [
    {
     "data": {
      "text/plain": [
       "(61003, 7625, 7626)"
      ]
     },
     "execution_count": 99,
     "metadata": {},
     "output_type": "execute_result"
    }
   ],
   "source": [
    "# random.shuffle(data_ca_)\n",
    "tr_len = round(0.8 * len(data_ca_))\n",
    "va_len = round(0.1 * len(data_ca_))\n",
    "te_len = round(0.1 * len(data_ca_))\n",
    "\n",
    "tr_03 = data_ca_[0:tr_len]\n",
    "va_03 = data_ca_[tr_len : tr_len + va_len]\n",
    "te_03 = data_ca_[tr_len + va_len :]\n",
    "\n",
    "len(tr_03), len(va_03), len(te_03)"
   ]
  },
  {
   "cell_type": "markdown",
   "metadata": {},
   "source": [
    "### Having two features - proportions of positive and negative sentence types in review text -> rating - This is the first model in model-03.ipynb\n",
    "Ignoring the reviews which can't be split into sentences."
   ]
  },
  {
   "cell_type": "markdown",
   "metadata": {},
   "source": [
    "### Function MSE and MAE"
   ]
  },
  {
   "cell_type": "code",
   "execution_count": 103,
   "metadata": {},
   "outputs": [],
   "source": [
    "def MSE(predictions, labels):\n",
    "    differences = [(x - y) ** 2 for x, y in zip(predictions, labels)]\n",
    "    return sum(differences) / len(differences)\n",
    "def MAE(predictions, labels):\n",
    "    diff = [abs(x-y) for x, y in zip(predictions, labels)]\n",
    "    return sum(diff)/ len(diff)"
   ]
  },
  {
   "cell_type": "markdown",
   "metadata": {},
   "source": [
    "### Having two features - proportions of positive and negative sentence types in review text - Extension 1\n",
    "Modification - Considering all the reviews which can't be split into sentences"
   ]
  },
  {
   "cell_type": "code",
   "execution_count": 104,
   "metadata": {},
   "outputs": [],
   "source": [
    "for i in range(0, len(data_ca_)):\n",
    "    data_ca_[i].update({'reviewLength':len(data_ca_[i]['reviewText'])})\n",
    "    data_ca_[i].update({'reviewHour':int(datetime.utcfromtimestamp(data_ca_[i]['unixReviewTime']).strftime('%Y-%m-%d %H:%M:%S')[11:13])})\n",
    "    data_ca_[i].update({'priceRank':1 if data_ca_[i]['price'] == ['$'] else 2 if data_ca_[i]['price'] == ['$$'] else 3})"
   ]
  },
  {
   "cell_type": "code",
   "execution_count": 105,
   "metadata": {},
   "outputs": [],
   "source": [
    "# It takes a while\n",
    "for d in data_ca_:\n",
    "    t = d['reviewText']\n",
    "    d['sentences'] = split_into_sentences(t)\n",
    "    #print(len(d['sentences']))\n",
    "    d['sentiments'] = []\n",
    "    if len(d['sentences']) == 0:\n",
    "        d['sentiments'].append(TextBlob(t).sentiment[0])\n",
    "    else:\n",
    "        for each in d['sentences']:\n",
    "            d['sentiments'].append(TextBlob(each).sentiment[0])"
   ]
  },
  {
   "cell_type": "code",
   "execution_count": 106,
   "metadata": {},
   "outputs": [
    {
     "data": {
      "text/plain": [
       "{'rating': 5.0,\n",
       " 'reviewerName': 'William Corcuera',\n",
       " 'reviewText': 'I live in sandiego its about an hour drive and every time we go its worth it to the last bite. Yummm. Wish their was one closer.',\n",
       " 'categories': ['Chicken Restaurant'],\n",
       " 'gPlusPlaceId': '101959623187827102951',\n",
       " 'unixReviewTime': 1388002613,\n",
       " 'reviewTime': 'Dec 25, 2013',\n",
       " 'gPlusUserId': '100000122158721897485',\n",
       " 'gps': [33.680515, -117.90633],\n",
       " 'price': '$$$',\n",
       " 'reviewLength': 128,\n",
       " 'reviewHour': 20,\n",
       " 'priceRank': 3,\n",
       " 'sentences': ['I live in sandiego its about an hour drive and every time we go its worth it to the last bite.',\n",
       "  'Yummm.',\n",
       "  'Wish their was one closer.'],\n",
       " 'sentiments': [0.14545454545454545, 0.0, 0.0]}"
      ]
     },
     "execution_count": 106,
     "metadata": {},
     "output_type": "execute_result"
    }
   ],
   "source": [
    "#TextBlob(data_ca_[0]['reviewText']).sentiment\n",
    "data_ca_[6]\n",
    "#en(data_ca[0]['sentences'])"
   ]
  },
  {
   "cell_type": "code",
   "execution_count": 107,
   "metadata": {},
   "outputs": [
    {
     "data": {
      "text/plain": [
       "0"
      ]
     },
     "execution_count": 107,
     "metadata": {},
     "output_type": "execute_result"
    }
   ],
   "source": [
    "len([d for d in data_ca_ if len(d['sentiments']) == 0])"
   ]
  },
  {
   "cell_type": "code",
   "execution_count": 108,
   "metadata": {},
   "outputs": [],
   "source": [
    "# New features proportion of positive and negative sentiments in a sentence\n",
    "def feature(datum):\n",
    "    feat = []\n",
    "    feat.append(1)\n",
    "    \n",
    "    count_pos = 0\n",
    "    count_neg = 0\n",
    "    for l in datum['sentiments']:\n",
    "        if l > 0:\n",
    "            count_pos+=1\n",
    "        else:\n",
    "            count_neg+=1\n",
    "\n",
    "    pos_prop = count_pos/len(datum['sentiments'])\n",
    "    feat.append(pos_prop)\n",
    "\n",
    "    neg_prop = count_neg/len(datum['sentiments'])\n",
    "    feat.append(neg_prop)\n",
    "    #feat.append(datum['reviewLength'])\n",
    "    #for l in datum['hotHour'] + datum['hotPrice'] + datum['hotSentiment']:\n",
    "        #feat.append(l)\n",
    "    return feat"
   ]
  },
  {
   "cell_type": "code",
   "execution_count": 109,
   "metadata": {},
   "outputs": [
    {
     "data": {
      "text/plain": [
       "(61003, 61003)"
      ]
     },
     "execution_count": 109,
     "metadata": {},
     "output_type": "execute_result"
    }
   ],
   "source": [
    "X = [feature(d) for d in tr_03]\n",
    "y = [d[\"rating\"] for d in tr_03]\n",
    "len(X), len(y)"
   ]
  },
  {
   "cell_type": "code",
   "execution_count": 110,
   "metadata": {},
   "outputs": [
    {
     "data": {
      "text/plain": [
       "[[1, 1.0, 0.0],\n",
       " [1, 0.6666666666666666, 0.3333333333333333],\n",
       " [1, 1.0, 0.0],\n",
       " [1, 1.0, 0.0],\n",
       " [1, 0.0, 1.0]]"
      ]
     },
     "execution_count": 110,
     "metadata": {},
     "output_type": "execute_result"
    }
   ],
   "source": [
    "X[:5]"
   ]
  },
  {
   "cell_type": "code",
   "execution_count": 111,
   "metadata": {},
   "outputs": [],
   "source": [
    "clf = linear_model.Ridge(1.0, fit_intercept=False)  # MSE + 1.0 l2\n",
    "clf.fit(X, y)\n",
    "theta = clf.coef_\n",
    "pred = clf.predict(X)"
   ]
  },
  {
   "cell_type": "code",
   "execution_count": 112,
   "metadata": {},
   "outputs": [
    {
     "data": {
      "text/plain": [
       "array([2.52278598, 1.94826466, 0.57452132])"
      ]
     },
     "execution_count": 112,
     "metadata": {},
     "output_type": "execute_result"
    }
   ],
   "source": [
    "theta"
   ]
  },
  {
   "cell_type": "code",
   "execution_count": 113,
   "metadata": {},
   "outputs": [
    {
     "data": {
      "text/plain": [
       "array([4.47105064, 4.01313619, 4.47105064, 4.47105064, 3.0973073 ])"
      ]
     },
     "execution_count": 113,
     "metadata": {},
     "output_type": "execute_result"
    }
   ],
   "source": [
    "pred[:5]"
   ]
  },
  {
   "cell_type": "code",
   "execution_count": 114,
   "metadata": {},
   "outputs": [
    {
     "data": {
      "text/plain": [
       "False"
      ]
     },
     "execution_count": 114,
     "metadata": {},
     "output_type": "execute_result"
    }
   ],
   "source": [
    "any(value > 5  for value in pred)"
   ]
  },
  {
   "cell_type": "code",
   "execution_count": 115,
   "metadata": {},
   "outputs": [
    {
     "data": {
      "text/plain": [
       "(1.2082718137842923, 1.1956240262359328, 1.1884665803607792)"
      ]
     },
     "execution_count": 115,
     "metadata": {},
     "output_type": "execute_result"
    }
   ],
   "source": [
    "X_va_03 = [feature(d) for d in va_03]\n",
    "y_va_03 = [d[\"rating\"] for d in va_03]\n",
    "\n",
    "X_te_03 = [feature(d) for d in te_03]\n",
    "y_te_03 = [d[\"rating\"] for d in te_03]\n",
    "\n",
    "pred_va_03 = clf.predict(X_va_03)\n",
    "pred_te_03 = clf.predict(X_te_03)\n",
    "\n",
    "MSE(pred, y), MSE(pred_va_03, y_va_03), MSE(pred_te_03, y_te_03)"
   ]
  },
  {
   "cell_type": "code",
   "execution_count": 116,
   "metadata": {},
   "outputs": [
    {
     "data": {
      "text/plain": [
       "(0.8997376768561165, 0.8964132982646773, 0.8889989457665072)"
      ]
     },
     "execution_count": 116,
     "metadata": {},
     "output_type": "execute_result"
    }
   ],
   "source": [
    "MAE(pred, y), MAE(pred_va_03, y_va_03), MAE(pred_te_03, y_te_03)"
   ]
  },
  {
   "cell_type": "markdown",
   "metadata": {},
   "source": [
    "### Having two features - proportions of positive and negative sentence types in review text along with hour, length, price (encoded) - Extension 2 "
   ]
  },
  {
   "cell_type": "code",
   "execution_count": 117,
   "metadata": {},
   "outputs": [],
   "source": [
    "# New features proportion of positive and negative sentiments in a sentence\n",
    "def feature(datum):\n",
    "    feat = []\n",
    "    feat.append(1)\n",
    "    \n",
    "    count_pos = 0\n",
    "    count_neg = 0\n",
    "    for l in datum['sentiments']:\n",
    "        if l > 0:\n",
    "            count_pos+=1\n",
    "        else:\n",
    "            count_neg+=1\n",
    "\n",
    "    pos_prop = count_pos/len(datum['sentiments'])\n",
    "    feat.append(pos_prop)\n",
    "\n",
    "    neg_prop = count_neg/len(datum['sentiments'])\n",
    "    feat.append(neg_prop)\n",
    "    feat.append(datum['reviewLength'])\n",
    "    feat.append(datum['priceRank'])\n",
    "    feat.append(datum['reviewHour'])\n",
    "    \n",
    "    #for l in datum['hotHour'] + datum['hotPrice'] + datum['hotSentiment']:\n",
    "        #feat.append(l)\n",
    "    return feat"
   ]
  },
  {
   "cell_type": "code",
   "execution_count": 118,
   "metadata": {},
   "outputs": [
    {
     "data": {
      "text/plain": [
       "(61003, 61003)"
      ]
     },
     "execution_count": 118,
     "metadata": {},
     "output_type": "execute_result"
    }
   ],
   "source": [
    "X = [feature(d) for d in tr_03]\n",
    "y = [d[\"rating\"] for d in tr_03]\n",
    "len(X), len(y)"
   ]
  },
  {
   "cell_type": "code",
   "execution_count": 119,
   "metadata": {},
   "outputs": [
    {
     "data": {
      "text/plain": [
       "[[1, 1.0, 0.0, 33, 3, 0],\n",
       " [1, 0.6666666666666666, 0.3333333333333333, 838, 3, 19],\n",
       " [1, 1.0, 0.0, 69, 3, 0],\n",
       " [1, 1.0, 0.0, 74, 3, 19],\n",
       " [1, 0.0, 1.0, 105, 3, 1]]"
      ]
     },
     "execution_count": 119,
     "metadata": {},
     "output_type": "execute_result"
    }
   ],
   "source": [
    "X[:5]"
   ]
  },
  {
   "cell_type": "code",
   "execution_count": 120,
   "metadata": {},
   "outputs": [],
   "source": [
    "clf = linear_model.Ridge(1.0, fit_intercept=False)  # MSE + 1.0 l2\n",
    "clf.fit(X, y)\n",
    "theta = clf.coef_\n",
    "pred = clf.predict(X)"
   ]
  },
  {
   "cell_type": "code",
   "execution_count": 121,
   "metadata": {},
   "outputs": [
    {
     "data": {
      "text/plain": [
       "array([ 3.69854549e-01,  8.36791235e-01, -4.66936686e-01, -5.97566567e-04,\n",
       "        1.10956365e+00,  3.14424366e-03])"
      ]
     },
     "execution_count": 121,
     "metadata": {},
     "output_type": "execute_result"
    }
   ],
   "source": [
    "theta"
   ]
  },
  {
   "cell_type": "code",
   "execution_count": 122,
   "metadata": {},
   "outputs": [
    {
     "data": {
      "text/plain": [
       "array([4.51561703, 3.6597406 , 4.49410463, 4.55085743, 3.17200856])"
      ]
     },
     "execution_count": 122,
     "metadata": {},
     "output_type": "execute_result"
    }
   ],
   "source": [
    "pred[:5]"
   ]
  },
  {
   "cell_type": "code",
   "execution_count": 123,
   "metadata": {},
   "outputs": [
    {
     "data": {
      "text/plain": [
       "False"
      ]
     },
     "execution_count": 123,
     "metadata": {},
     "output_type": "execute_result"
    }
   ],
   "source": [
    "any(value > 5  for value in pred)"
   ]
  },
  {
   "cell_type": "code",
   "execution_count": 124,
   "metadata": {},
   "outputs": [
    {
     "data": {
      "text/plain": [
       "(1.179662567510621, 1.1709702072729746, 1.162421112704045)"
      ]
     },
     "execution_count": 124,
     "metadata": {},
     "output_type": "execute_result"
    }
   ],
   "source": [
    "X_va_03 = [feature(d) for d in va_03]\n",
    "y_va_03 = [d[\"rating\"] for d in va_03]\n",
    "\n",
    "X_te_03 = [feature(d) for d in te_03]\n",
    "y_te_03 = [d[\"rating\"] for d in te_03]\n",
    "\n",
    "pred_va_03 = clf.predict(X_va_03)\n",
    "pred_te_03 = clf.predict(X_te_03)\n",
    "\n",
    "MSE(pred, y), MSE(pred_va_03, y_va_03), MSE(pred_te_03, y_te_03)"
   ]
  },
  {
   "cell_type": "code",
   "execution_count": 125,
   "metadata": {},
   "outputs": [
    {
     "data": {
      "text/plain": [
       "(0.8912689563801814, 0.888576854644746, 0.8830185124086173)"
      ]
     },
     "execution_count": 125,
     "metadata": {},
     "output_type": "execute_result"
    }
   ],
   "source": [
    "MAE(pred, y), MAE(pred_va_03, y_va_03), MAE(pred_te_03, y_te_03)"
   ]
  },
  {
   "cell_type": "markdown",
   "metadata": {},
   "source": [
    "### Advanced model - f(word vector, proportion of postive sentiment, proportion of negative sentiment, hour, length, price) -> rating"
   ]
  },
  {
   "cell_type": "code",
   "execution_count": 126,
   "metadata": {},
   "outputs": [],
   "source": [
    "stop_words = stopwords.words('english')"
   ]
  },
  {
   "cell_type": "code",
   "execution_count": 127,
   "metadata": {},
   "outputs": [
    {
     "data": {
      "text/plain": [
       "179"
      ]
     },
     "execution_count": 127,
     "metadata": {},
     "output_type": "execute_result"
    }
   ],
   "source": [
    "len(stop_words)"
   ]
  },
  {
   "cell_type": "code",
   "execution_count": 128,
   "metadata": {},
   "outputs": [],
   "source": [
    "wordCount = defaultdict(int)\n",
    "totalWords = 0\n",
    "punct = string.punctuation\n",
    "#stemmer = PorterStemmer()\n",
    "\n",
    "for d in data_ca_:\n",
    "    t = d['reviewText']\n",
    "    t = t.lower() # lowercase string\n",
    "    t = [c for c in t if not (c in punct)] # non-punct characters\n",
    "    t = ''.join(t) # convert back to string\n",
    "    words = t.strip().split() # tokenizes\n",
    "    for w in words:\n",
    "        if w not in stop_words:\n",
    "            #w = stemmer.stem(w)\n",
    "            totalWords += 1\n",
    "            wordCount[w] += 1"
   ]
  },
  {
   "cell_type": "code",
   "execution_count": 129,
   "metadata": {},
   "outputs": [
    {
     "data": {
      "text/plain": [
       "1623179"
      ]
     },
     "execution_count": 129,
     "metadata": {},
     "output_type": "execute_result"
    }
   ],
   "source": [
    "totalWords"
   ]
  },
  {
   "cell_type": "code",
   "execution_count": 130,
   "metadata": {},
   "outputs": [
    {
     "data": {
      "text/plain": [
       "60413"
      ]
     },
     "execution_count": 130,
     "metadata": {},
     "output_type": "execute_result"
    }
   ],
   "source": [
    "len(wordCount)"
   ]
  },
  {
   "cell_type": "code",
   "execution_count": 75,
   "metadata": {
    "scrolled": true
   },
   "outputs": [],
   "source": [
    "#wordCount"
   ]
  },
  {
   "cell_type": "code",
   "execution_count": 131,
   "metadata": {},
   "outputs": [],
   "source": [
    "counts = [(wordCount[w] , w) for w in wordCount]"
   ]
  },
  {
   "cell_type": "code",
   "execution_count": 132,
   "metadata": {
    "scrolled": true
   },
   "outputs": [
    {
     "data": {
      "text/plain": [
       "[(32377, 'food'),\n",
       " (23508, 'good'),\n",
       " (23220, 'great'),\n",
       " (20894, 'place'),\n",
       " (18005, 'service')]"
      ]
     },
     "execution_count": 132,
     "metadata": {},
     "output_type": "execute_result"
    }
   ],
   "source": [
    "counts.sort(reverse=True)\n",
    "counts[:5]"
   ]
  },
  {
   "cell_type": "code",
   "execution_count": 133,
   "metadata": {},
   "outputs": [
    {
     "data": {
      "text/plain": [
       "60413"
      ]
     },
     "execution_count": 133,
     "metadata": {},
     "output_type": "execute_result"
    }
   ],
   "source": [
    "len(counts)"
   ]
  },
  {
   "cell_type": "code",
   "execution_count": 134,
   "metadata": {},
   "outputs": [],
   "source": [
    "words = [w[1] for w in counts[:1000]]"
   ]
  },
  {
   "cell_type": "code",
   "execution_count": 135,
   "metadata": {},
   "outputs": [
    {
     "data": {
      "text/plain": [
       "1000"
      ]
     },
     "execution_count": 135,
     "metadata": {},
     "output_type": "execute_result"
    }
   ],
   "source": [
    "len(words)"
   ]
  },
  {
   "cell_type": "code",
   "execution_count": 136,
   "metadata": {},
   "outputs": [],
   "source": [
    "wordId = dict(zip(words, range(len(words))))\n",
    "wordSet = set(words)"
   ]
  },
  {
   "cell_type": "code",
   "execution_count": 137,
   "metadata": {
    "scrolled": true
   },
   "outputs": [
    {
     "data": {
      "text/plain": [
       "{'food': 0,\n",
       " 'good': 1,\n",
       " 'great': 2,\n",
       " 'place': 3,\n",
       " 'service': 4,\n",
       " 'like': 5,\n",
       " 'best': 6,\n",
       " 'go': 7,\n",
       " 'get': 8,\n",
       " 'one': 9,\n",
       " 'time': 10,\n",
       " 'love': 11,\n",
       " 'really': 12,\n",
       " 'back': 13,\n",
       " 'always': 14,\n",
       " 'would': 15,\n",
       " 'nice': 16,\n",
       " 'restaurant': 17,\n",
       " 'dont': 18,\n",
       " 'pizza': 19,\n",
       " 'order': 20,\n",
       " 'staff': 21,\n",
       " 'friendly': 22,\n",
       " 'even': 23,\n",
       " 'people': 24,\n",
       " 'delicious': 25,\n",
       " 'also': 26,\n",
       " 'never': 27,\n",
       " 'excellent': 28,\n",
       " 'ive': 29,\n",
       " 'well': 30,\n",
       " 'got': 31,\n",
       " 'ever': 32,\n",
       " 'us': 33,\n",
       " 'chicken': 34,\n",
       " 'eat': 35,\n",
       " 'amazing': 36,\n",
       " 'better': 37,\n",
       " 'little': 38,\n",
       " 'try': 39,\n",
       " 'store': 40,\n",
       " 'come': 41,\n",
       " 'went': 42,\n",
       " 'wait': 43,\n",
       " 'menu': 44,\n",
       " 'make': 45,\n",
       " 'fresh': 46,\n",
       " 'im': 47,\n",
       " 'bad': 48,\n",
       " 'pretty': 49,\n",
       " 'going': 50,\n",
       " 'awesome': 51,\n",
       " 'much': 52,\n",
       " 'ordered': 53,\n",
       " 'experience': 54,\n",
       " 'price': 55,\n",
       " 'way': 56,\n",
       " 'bar': 57,\n",
       " 'recommend': 58,\n",
       " 'didnt': 59,\n",
       " 'atmosphere': 60,\n",
       " 'know': 61,\n",
       " 'first': 62,\n",
       " 'could': 63,\n",
       " 'want': 64,\n",
       " 'definitely': 65,\n",
       " 'customer': 66,\n",
       " 'lunch': 67,\n",
       " 'favorite': 68,\n",
       " 'prices': 69,\n",
       " 'came': 70,\n",
       " 'coffee': 71,\n",
       " 'take': 72,\n",
       " 'said': 73,\n",
       " 'sushi': 74,\n",
       " 'made': 75,\n",
       " 'location': 76,\n",
       " 'worth': 77,\n",
       " 'area': 78,\n",
       " 'quality': 79,\n",
       " 'dinner': 80,\n",
       " 'every': 81,\n",
       " 'still': 82,\n",
       " 'everything': 83,\n",
       " 'long': 84,\n",
       " 'times': 85,\n",
       " 'right': 86,\n",
       " 'drinks': 87,\n",
       " 'around': 88,\n",
       " 'bit': 89,\n",
       " 'two': 90,\n",
       " 'day': 91,\n",
       " 'table': 92,\n",
       " 'minutes': 93,\n",
       " 'meal': 94,\n",
       " 'though': 95,\n",
       " 'night': 96,\n",
       " 'new': 97,\n",
       " 'small': 98,\n",
       " 'say': 99,\n",
       " 'tasty': 100,\n",
       " 'burger': 101,\n",
       " 'find': 102,\n",
       " 'beer': 103,\n",
       " 'cant': 104,\n",
       " '2': 105,\n",
       " 'salad': 106,\n",
       " 'told': 107,\n",
       " 'many': 108,\n",
       " 'think': 109,\n",
       " 'sure': 110,\n",
       " 'fast': 111,\n",
       " 'took': 112,\n",
       " 'family': 113,\n",
       " 'asked': 114,\n",
       " 'selection': 115,\n",
       " 'since': 116,\n",
       " 'give': 117,\n",
       " 'cheese': 118,\n",
       " 'years': 119,\n",
       " 'sauce': 120,\n",
       " 'lot': 121,\n",
       " 'taste': 122,\n",
       " 'something': 123,\n",
       " 'manager': 124,\n",
       " 'happy': 125,\n",
       " 'hour': 126,\n",
       " 'friends': 127,\n",
       " 'home': 128,\n",
       " 'super': 129,\n",
       " 'breakfast': 130,\n",
       " 'fish': 131,\n",
       " 'fries': 132,\n",
       " 'big': 133,\n",
       " 'need': 134,\n",
       " 'another': 135,\n",
       " 'see': 136,\n",
       " 'next': 137,\n",
       " 'ok': 138,\n",
       " 'places': 139,\n",
       " 'work': 140,\n",
       " 'youre': 141,\n",
       " 'nothing': 142,\n",
       " 'tried': 143,\n",
       " 'phone': 144,\n",
       " '3': 145,\n",
       " 'mexican': 146,\n",
       " 'ask': 147,\n",
       " 'fun': 148,\n",
       " 'dishes': 149,\n",
       " 'last': 150,\n",
       " '5': 151,\n",
       " 'looking': 152,\n",
       " 'sandwich': 153,\n",
       " 'hot': 154,\n",
       " 'wasnt': 155,\n",
       " 'special': 156,\n",
       " 'spot': 157,\n",
       " 'busy': 158,\n",
       " 'drink': 159,\n",
       " 'thing': 160,\n",
       " 'meat': 161,\n",
       " 'feel': 162,\n",
       " 'rude': 163,\n",
       " 'clean': 164,\n",
       " 'old': 165,\n",
       " 'town': 166,\n",
       " 'line': 167,\n",
       " 'decent': 168,\n",
       " 'bread': 169,\n",
       " 'wine': 170,\n",
       " 'away': 171,\n",
       " 'rice': 172,\n",
       " 'coming': 173,\n",
       " 'decor': 174,\n",
       " '10': 175,\n",
       " 'enjoy': 176,\n",
       " 'portions': 177,\n",
       " 'side': 178,\n",
       " 'la': 179,\n",
       " 'enough': 180,\n",
       " 'thats': 181,\n",
       " 'anything': 182,\n",
       " 'open': 183,\n",
       " 'wonderful': 184,\n",
       " 'large': 185,\n",
       " 'else': 186,\n",
       " 'eating': 187,\n",
       " 'usually': 188,\n",
       " 'worst': 189,\n",
       " 'fantastic': 190,\n",
       " 'expensive': 191,\n",
       " 'san': 192,\n",
       " 'perfect': 193,\n",
       " 'burgers': 194,\n",
       " 'money': 195,\n",
       " 'must': 196,\n",
       " 'soup': 197,\n",
       " 'highly': 198,\n",
       " 'different': 199,\n",
       " 'visit': 200,\n",
       " 'steak': 201,\n",
       " 'horrible': 202,\n",
       " 'employees': 203,\n",
       " 'found': 204,\n",
       " 'top': 205,\n",
       " 'fried': 206,\n",
       " 'free': 207,\n",
       " 'restaurants': 208,\n",
       " 'check': 209,\n",
       " 'wanted': 210,\n",
       " 'quick': 211,\n",
       " 'thai': 212,\n",
       " 'business': 213,\n",
       " 'quite': 214,\n",
       " 'left': 215,\n",
       " 'called': 216,\n",
       " 'especially': 217,\n",
       " 'however': 218,\n",
       " 'flavor': 219,\n",
       " 'customers': 220,\n",
       " 'loved': 221,\n",
       " 'high': 222,\n",
       " 'overall': 223,\n",
       " 'dish': 224,\n",
       " 'far': 225,\n",
       " 'huge': 226,\n",
       " 'outside': 227,\n",
       " 'full': 228,\n",
       " 'slow': 229,\n",
       " 'cream': 230,\n",
       " 'cheap': 231,\n",
       " 'wrong': 232,\n",
       " 'served': 233,\n",
       " 'waitress': 234,\n",
       " 'used': 235,\n",
       " 'help': 236,\n",
       " 'put': 237,\n",
       " 'parking': 238,\n",
       " 'everyone': 239,\n",
       " 'inside': 240,\n",
       " 'look': 241,\n",
       " 'wont': 242,\n",
       " 'beef': 243,\n",
       " 'kind': 244,\n",
       " 'things': 245,\n",
       " 'actually': 246,\n",
       " 'server': 247,\n",
       " 'hard': 248,\n",
       " 'cool': 249,\n",
       " 'without': 250,\n",
       " 'least': 251,\n",
       " 'call': 252,\n",
       " 'wife': 253,\n",
       " 'helpful': 254,\n",
       " '4': 255,\n",
       " 'items': 256,\n",
       " 'cold': 257,\n",
       " 'italian': 258,\n",
       " 'tasted': 259,\n",
       " 'tacos': 260,\n",
       " 'probably': 261,\n",
       " 'id': 262,\n",
       " 'waiting': 263,\n",
       " 'owner': 264,\n",
       " 'pay': 265,\n",
       " 'spicy': 266,\n",
       " 'chinese': 267,\n",
       " 'ice': 268,\n",
       " 'almost': 269,\n",
       " 'cooked': 270,\n",
       " 'disappointed': 271,\n",
       " 'authentic': 272,\n",
       " '1': 273,\n",
       " 'shop': 274,\n",
       " 'person': 275,\n",
       " 'dining': 276,\n",
       " 'local': 277,\n",
       " 'sweet': 278,\n",
       " 'waiter': 279,\n",
       " 'half': 280,\n",
       " '20': 281,\n",
       " 'buy': 282,\n",
       " 'burrito': 283,\n",
       " 'real': 284,\n",
       " 'terrible': 285,\n",
       " 'makes': 286,\n",
       " 'pork': 287,\n",
       " 'getting': 288,\n",
       " 'music': 289,\n",
       " 'gave': 290,\n",
       " 'tables': 291,\n",
       " 'live': 292,\n",
       " 'use': 293,\n",
       " 'guy': 294,\n",
       " 'seating': 295,\n",
       " 'hours': 296,\n",
       " 'stop': 297,\n",
       " 'style': 298,\n",
       " 'sit': 299,\n",
       " 'shrimp': 300,\n",
       " 'tell': 301,\n",
       " 'reasonable': 302,\n",
       " 'whole': 303,\n",
       " 'drive': 304,\n",
       " 'house': 305,\n",
       " 'bring': 306,\n",
       " 'street': 307,\n",
       " 'care': 308,\n",
       " 'expect': 309,\n",
       " 'absolutely': 310,\n",
       " 'week': 311,\n",
       " 'room': 312,\n",
       " 'city': 313,\n",
       " 'less': 314,\n",
       " 'tea': 315,\n",
       " 'friend': 316,\n",
       " 'sandwiches': 317,\n",
       " 'close': 318,\n",
       " 'lots': 319,\n",
       " 'thought': 320,\n",
       " 'couple': 321,\n",
       " 'doesnt': 322,\n",
       " 'pricey': 323,\n",
       " 'ill': 324,\n",
       " 'let': 325,\n",
       " 'poor': 326,\n",
       " 'keep': 327,\n",
       " 'someone': 328,\n",
       " 'isnt': 329,\n",
       " 'plate': 330,\n",
       " 'done': 331,\n",
       " 'often': 332,\n",
       " 'enjoyed': 333,\n",
       " 'return': 334,\n",
       " 'reviews': 335,\n",
       " 'rolls': 336,\n",
       " 'door': 337,\n",
       " 'maybe': 338,\n",
       " 'trying': 339,\n",
       " 'name': 340,\n",
       " 'front': 341,\n",
       " 'chips': 342,\n",
       " 'bbq': 343,\n",
       " 'theres': 344,\n",
       " 'extra': 345,\n",
       " 'crowded': 346,\n",
       " 'view': 347,\n",
       " 'priced': 348,\n",
       " 'kids': 349,\n",
       " 'walked': 350,\n",
       " 'anyone': 351,\n",
       " 'garlic': 352,\n",
       " 'average': 353,\n",
       " 'water': 354,\n",
       " 'options': 355,\n",
       " 'serve': 356,\n",
       " 'waited': 357,\n",
       " 'party': 358,\n",
       " 'extremely': 359,\n",
       " 'guys': 360,\n",
       " 'finally': 361,\n",
       " 'leave': 362,\n",
       " 'stuff': 363,\n",
       " 'late': 364,\n",
       " 'value': 365,\n",
       " 'french': 366,\n",
       " 'yummy': 367,\n",
       " '15': 368,\n",
       " 'later': 369,\n",
       " 'three': 370,\n",
       " 'stars': 371,\n",
       " 'problem': 372,\n",
       " 'couldnt': 373,\n",
       " 'part': 374,\n",
       " 'looked': 375,\n",
       " 'sometimes': 376,\n",
       " 'walk': 377,\n",
       " 'salsa': 378,\n",
       " 'attentive': 379,\n",
       " 'variety': 380,\n",
       " 'brunch': 381,\n",
       " 'may': 382,\n",
       " 'seems': 383,\n",
       " 'counter': 384,\n",
       " 'seafood': 385,\n",
       " 'wouldnt': 386,\n",
       " 'instead': 387,\n",
       " 'indian': 388,\n",
       " 'either': 389,\n",
       " 'days': 390,\n",
       " 'several': 391,\n",
       " 'although': 392,\n",
       " 'plus': 393,\n",
       " 'working': 394,\n",
       " 'taco': 395,\n",
       " 'fine': 396,\n",
       " 'roll': 397,\n",
       " 'dessert': 398,\n",
       " 'theyre': 399,\n",
       " 'review': 400,\n",
       " 'comes': 401,\n",
       " 'bay': 402,\n",
       " 'wish': 403,\n",
       " 'yet': 404,\n",
       " 'prepared': 405,\n",
       " 'ate': 406,\n",
       " 'deal': 407,\n",
       " 'brought': 408,\n",
       " 'delivery': 409,\n",
       " 'end': 410,\n",
       " 'okay': 411,\n",
       " 'beers': 412,\n",
       " 'job': 413,\n",
       " 'seated': 414,\n",
       " 'chocolate': 415,\n",
       " '30': 416,\n",
       " 'youll': 417,\n",
       " 'group': 418,\n",
       " 'sf': 419,\n",
       " 'might': 420,\n",
       " 'ambiance': 421,\n",
       " 'year': 422,\n",
       " 'buffet': 423,\n",
       " 'ingredients': 424,\n",
       " 'decided': 425,\n",
       " 'pasta': 426,\n",
       " 'warm': 427,\n",
       " 'flavors': 428,\n",
       " 'pick': 429,\n",
       " 'patio': 430,\n",
       " 'oh': 431,\n",
       " 'cafe': 432,\n",
       " 'needed': 433,\n",
       " 'gets': 434,\n",
       " 'second': 435,\n",
       " 'making': 436,\n",
       " 'needs': 437,\n",
       " 'ago': 438,\n",
       " 'servers': 439,\n",
       " 'regular': 440,\n",
       " 'reason': 441,\n",
       " 'eaten': 442,\n",
       " 'today': 443,\n",
       " 'overpriced': 444,\n",
       " 'recommended': 445,\n",
       " 'twice': 446,\n",
       " 'orders': 447,\n",
       " 'starbucks': 448,\n",
       " 'crab': 449,\n",
       " 'size': 450,\n",
       " 'seemed': 451,\n",
       " 'ready': 452,\n",
       " 'yes': 453,\n",
       " 'neighborhood': 454,\n",
       " 'wings': 455,\n",
       " 'choice': 456,\n",
       " 'list': 457,\n",
       " 'course': 458,\n",
       " 'thank': 459,\n",
       " 'kitchen': 460,\n",
       " 'de': 461,\n",
       " 'bacon': 462,\n",
       " 'francisco': 463,\n",
       " 'seem': 464,\n",
       " 'date': 465,\n",
       " 'early': 466,\n",
       " 'easy': 467,\n",
       " 'car': 468,\n",
       " 'loud': 469,\n",
       " 'point': 470,\n",
       " 'felt': 471,\n",
       " 'liked': 472,\n",
       " 'looks': 473,\n",
       " 'lady': 474,\n",
       " 'n': 475,\n",
       " 'chef': 476,\n",
       " 'red': 477,\n",
       " 'card': 478,\n",
       " 'thanks': 479,\n",
       " 'sat': 480,\n",
       " 'vegas': 481,\n",
       " 'u': 482,\n",
       " 'across': 483,\n",
       " 'husband': 484,\n",
       " 'near': 485,\n",
       " 'fact': 486,\n",
       " 'curry': 487,\n",
       " 'rather': 488,\n",
       " 'bill': 489,\n",
       " '6': 490,\n",
       " 'unique': 491,\n",
       " 'show': 492,\n",
       " 'simple': 493,\n",
       " 'california': 494,\n",
       " 'tip': 495,\n",
       " 'soon': 496,\n",
       " 'charge': 497,\n",
       " 'sitting': 498,\n",
       " 'beautiful': 499,\n",
       " 'offer': 500,\n",
       " 'dry': 501,\n",
       " 'ordering': 502,\n",
       " 'quickly': 503,\n",
       " 'packed': 504,\n",
       " 'believe': 505,\n",
       " 'man': 506,\n",
       " 'guess': 507,\n",
       " 'world': 508,\n",
       " 'ramen': 509,\n",
       " 'gone': 510,\n",
       " 'sunday': 511,\n",
       " 'dirty': 512,\n",
       " 'saw': 513,\n",
       " 'attitude': 514,\n",
       " 'already': 515,\n",
       " 'birthday': 516,\n",
       " 'number': 517,\n",
       " 'watch': 518,\n",
       " 'arrived': 519,\n",
       " 'amount': 520,\n",
       " 'life': 521,\n",
       " 'able': 522,\n",
       " 'vegetarian': 523,\n",
       " 'crust': 524,\n",
       " 'beans': 525,\n",
       " 'hungry': 526,\n",
       " 'outstanding': 527,\n",
       " 'morning': 528,\n",
       " 'grilled': 529,\n",
       " 'plates': 530,\n",
       " 'tastes': 531,\n",
       " 'closed': 532,\n",
       " 'fan': 533,\n",
       " 'green': 534,\n",
       " 'girl': 535,\n",
       " 'die': 536,\n",
       " 'pizzas': 537,\n",
       " 'please': 538,\n",
       " 'given': 539,\n",
       " 'egg': 540,\n",
       " 'plenty': 541,\n",
       " 'noodles': 542,\n",
       " 'run': 543,\n",
       " 'remember': 544,\n",
       " 'interesting': 545,\n",
       " 'evening': 546,\n",
       " 'eggs': 547,\n",
       " 'totally': 548,\n",
       " 'star': 549,\n",
       " 'salmon': 550,\n",
       " 'bland': 551,\n",
       " 'seen': 552,\n",
       " 'ribs': 553,\n",
       " 'meals': 554,\n",
       " 'short': 555,\n",
       " 'paid': 556,\n",
       " 'started': 557,\n",
       " 'wow': 558,\n",
       " 'change': 559,\n",
       " 'main': 560,\n",
       " 'space': 561,\n",
       " 'bowl': 562,\n",
       " 'stay': 563,\n",
       " 'choices': 564,\n",
       " 'available': 565,\n",
       " 'sucks': 566,\n",
       " 'havent': 567,\n",
       " 'pleasant': 568,\n",
       " 'miss': 569,\n",
       " 'healthy': 570,\n",
       " 'hands': 571,\n",
       " 'mind': 572,\n",
       " 'beach': 573,\n",
       " 'start': 574,\n",
       " 'cash': 575,\n",
       " 'shopping': 576,\n",
       " '12': 577,\n",
       " 'el': 578,\n",
       " 'burritos': 579,\n",
       " 'salads': 580,\n",
       " 'perfectly': 581,\n",
       " 'impressed': 582,\n",
       " 'others': 583,\n",
       " 'foods': 584,\n",
       " 'etc': 585,\n",
       " 'grab': 586,\n",
       " 'behind': 587,\n",
       " 'weekend': 588,\n",
       " 'saturday': 589,\n",
       " 'min': 590,\n",
       " 'cocktails': 591,\n",
       " 'appetizer': 592,\n",
       " 'japanese': 593,\n",
       " 'cake': 594,\n",
       " 'specials': 595,\n",
       " 'taking': 596,\n",
       " 'white': 597,\n",
       " 'treat': 598,\n",
       " 'portion': 599,\n",
       " 'avoid': 600,\n",
       " 'received': 601,\n",
       " 'completely': 602,\n",
       " 'low': 603,\n",
       " 'employee': 604,\n",
       " 'cost': 605,\n",
       " 'cook': 606,\n",
       " 'bite': 607,\n",
       " 'expected': 608,\n",
       " 'mean': 609,\n",
       " 'past': 610,\n",
       " 'management': 611,\n",
       " 'appetizers': 612,\n",
       " 'rest': 613,\n",
       " 'tasting': 614,\n",
       " 'understand': 615,\n",
       " 'anywhere': 616,\n",
       " 'lamb': 617,\n",
       " 'empty': 618,\n",
       " 'reservation': 619,\n",
       " 'hand': 620,\n",
       " 'simply': 621,\n",
       " 'mediocre': 622,\n",
       " 'joint': 623,\n",
       " 'bought': 624,\n",
       " 'black': 625,\n",
       " 'downtown': 626,\n",
       " 'trip': 627,\n",
       " 'pho': 628,\n",
       " 'potato': 629,\n",
       " 'talk': 630,\n",
       " 'online': 631,\n",
       " 'incredible': 632,\n",
       " 'cup': 633,\n",
       " 'outdoor': 634,\n",
       " 'add': 635,\n",
       " 'saying': 636,\n",
       " '8': 637,\n",
       " 'fair': 638,\n",
       " 'spend': 639,\n",
       " 'glass': 640,\n",
       " 'surprised': 641,\n",
       " 'says': 642,\n",
       " 'set': 643,\n",
       " 'friday': 644,\n",
       " 'stopped': 645,\n",
       " 'sorry': 646,\n",
       " 'kept': 647,\n",
       " 'game': 648,\n",
       " 'along': 649,\n",
       " 'cuisine': 650,\n",
       " 'solid': 651,\n",
       " 'serving': 652,\n",
       " 'light': 653,\n",
       " 'item': 654,\n",
       " 'walking': 655,\n",
       " 'park': 656,\n",
       " 'walmart': 657,\n",
       " 'stores': 658,\n",
       " 'helped': 659,\n",
       " 'opened': 660,\n",
       " 'casual': 661,\n",
       " 'choose': 662,\n",
       " 'ones': 663,\n",
       " 'lines': 664,\n",
       " 'yum': 665,\n",
       " 'takes': 666,\n",
       " 'seat': 667,\n",
       " 'diego': 668,\n",
       " 'talking': 669,\n",
       " 'seriously': 670,\n",
       " 'entire': 671,\n",
       " 'hope': 672,\n",
       " 'cut': 673,\n",
       " 'unless': 674,\n",
       " 'potatoes': 675,\n",
       " 'box': 676,\n",
       " 'lobster': 677,\n",
       " 'pie': 678,\n",
       " 'typical': 679,\n",
       " 'crowd': 680,\n",
       " 'affordable': 681,\n",
       " 'flavorful': 682,\n",
       " 'goes': 683,\n",
       " 'ended': 684,\n",
       " 'awful': 685,\n",
       " 'longer': 686,\n",
       " 'environment': 687,\n",
       " 'vibe': 688,\n",
       " 'hit': 689,\n",
       " 'greasy': 690,\n",
       " 'comfortable': 691,\n",
       " 'floor': 692,\n",
       " 'workers': 693,\n",
       " 'owners': 694,\n",
       " 'wall': 695,\n",
       " 'month': 696,\n",
       " 'type': 697,\n",
       " 'chain': 698,\n",
       " 'cashier': 699,\n",
       " 'orange': 700,\n",
       " 'vegan': 701,\n",
       " 'toppings': 702,\n",
       " 'los': 703,\n",
       " 'beat': 704,\n",
       " 'recently': 705,\n",
       " 'asian': 706,\n",
       " 'american': 707,\n",
       " 'tender': 708,\n",
       " 'paying': 709,\n",
       " 'pancakes': 710,\n",
       " 'within': 711,\n",
       " 'waste': 712,\n",
       " 'crispy': 713,\n",
       " 'standard': 714,\n",
       " 'read': 715,\n",
       " 'arent': 716,\n",
       " 'five': 717,\n",
       " 'sales': 718,\n",
       " '7': 719,\n",
       " 'together': 720,\n",
       " 'unfortunately': 721,\n",
       " 'reservations': 722,\n",
       " 'rib': 723,\n",
       " 'valley': 724,\n",
       " 'four': 725,\n",
       " 'exactly': 726,\n",
       " 'chili': 727,\n",
       " 'visiting': 728,\n",
       " 'cute': 729,\n",
       " 'mcdonalds': 730,\n",
       " 'hang': 731,\n",
       " 'per': 732,\n",
       " 'establishment': 733,\n",
       " 'baked': 734,\n",
       " 'heard': 735,\n",
       " 'credit': 736,\n",
       " 'speak': 737,\n",
       " 'grill': 738,\n",
       " 'veggie': 739,\n",
       " 'sign': 740,\n",
       " 'truly': 741,\n",
       " 'except': 742,\n",
       " 'company': 743,\n",
       " 'traditional': 744,\n",
       " 'toast': 745,\n",
       " 'middle': 746,\n",
       " 'glad': 747,\n",
       " 'due': 748,\n",
       " '25': 749,\n",
       " 'slice': 750,\n",
       " 'polite': 751,\n",
       " 'including': 752,\n",
       " 'thin': 753,\n",
       " 'taken': 754,\n",
       " 'forget': 755,\n",
       " 'charged': 756,\n",
       " 'desserts': 757,\n",
       " 'butter': 758,\n",
       " 'apple': 759,\n",
       " 'asking': 760,\n",
       " 'cozy': 761,\n",
       " 'weekends': 762,\n",
       " 'las': 763,\n",
       " 'knew': 764,\n",
       " 'south': 765,\n",
       " 'onion': 766,\n",
       " 'treated': 767,\n",
       " 'forever': 768,\n",
       " 'attention': 769,\n",
       " 'save': 770,\n",
       " 'que': 771,\n",
       " 'plan': 772,\n",
       " 'delivered': 773,\n",
       " 'bomb': 774,\n",
       " 'somewhere': 775,\n",
       " 'fancy': 776,\n",
       " '45': 777,\n",
       " 'waiters': 778,\n",
       " 'total': 779,\n",
       " 'medium': 780,\n",
       " 'limited': 781,\n",
       " 'idea': 782,\n",
       " 'tuna': 783,\n",
       " 'moved': 784,\n",
       " 'thru': 785,\n",
       " 'sausage': 786,\n",
       " 'head': 787,\n",
       " 'hate': 788,\n",
       " 'offered': 789,\n",
       " 'feeling': 790,\n",
       " 'cooking': 791,\n",
       " 'smile': 792,\n",
       " 'professional': 793,\n",
       " 'young': 794,\n",
       " 'original': 795,\n",
       " 'hold': 796,\n",
       " 'cannot': 797,\n",
       " 'reasonably': 798,\n",
       " 'mouth': 799,\n",
       " 'filling': 800,\n",
       " 'favorites': 801,\n",
       " 'products': 802,\n",
       " 'mins': 803,\n",
       " 'lost': 804,\n",
       " 'crazy': 805,\n",
       " 'pieces': 806,\n",
       " 'diner': 807,\n",
       " 'months': 808,\n",
       " 'mission': 809,\n",
       " 'chance': 810,\n",
       " 'muy': 811,\n",
       " 'issue': 812,\n",
       " 'hear': 813,\n",
       " 'generous': 814,\n",
       " 'worse': 815,\n",
       " 'spent': 816,\n",
       " 'mention': 817,\n",
       " 'literally': 818,\n",
       " 'dollars': 819,\n",
       " 'dog': 820,\n",
       " 'classic': 821,\n",
       " 'based': 822,\n",
       " 'bartender': 823,\n",
       " 'true': 824,\n",
       " 'santa': 825,\n",
       " 'located': 826,\n",
       " 'bucks': 827,\n",
       " 'share': 828,\n",
       " 'changed': 829,\n",
       " 'kinda': 830,\n",
       " 'finish': 831,\n",
       " 'wifi': 832,\n",
       " 'visited': 833,\n",
       " 'weve': 834,\n",
       " 'tiny': 835,\n",
       " 'sour': 836,\n",
       " 'consistently': 837,\n",
       " 'otherwise': 838,\n",
       " 'option': 839,\n",
       " 'nights': 840,\n",
       " 'lovely': 841,\n",
       " 'forgot': 842,\n",
       " 'duck': 843,\n",
       " 'piece': 844,\n",
       " 'bottle': 845,\n",
       " 'tap': 846,\n",
       " 'sell': 847,\n",
       " 'purchase': 848,\n",
       " 'nearby': 849,\n",
       " 'works': 850,\n",
       " 'knowledgeable': 851,\n",
       " 'fix': 852,\n",
       " 'happened': 853,\n",
       " 'giving': 854,\n",
       " 'entrees': 855,\n",
       " 'popular': 856,\n",
       " 'minute': 857,\n",
       " 'certainly': 858,\n",
       " 'basically': 859,\n",
       " 'single': 860,\n",
       " 'none': 861,\n",
       " 'slightly': 862,\n",
       " 'weeks': 863,\n",
       " 'mac': 864,\n",
       " 'gem': 865,\n",
       " 'club': 866,\n",
       " 'mostly': 867,\n",
       " 'dark': 868,\n",
       " 'werent': 869,\n",
       " 'soft': 870,\n",
       " 'milk': 871,\n",
       " 'hotel': 872,\n",
       " 'disappointing': 873,\n",
       " 'chowder': 874,\n",
       " 'product': 875,\n",
       " 'fairly': 876,\n",
       " 'turned': 877,\n",
       " 'quiet': 878,\n",
       " 'salty': 879,\n",
       " 'locations': 880,\n",
       " 'frozen': 881,\n",
       " 'disgusting': 882,\n",
       " 'ahead': 883,\n",
       " '100': 884,\n",
       " 'prefer': 885,\n",
       " 'mixed': 886,\n",
       " 'matter': 887,\n",
       " 'deliver': 888,\n",
       " 'corner': 889,\n",
       " 'added': 890,\n",
       " 'satisfied': 891,\n",
       " '50': 892,\n",
       " 'worked': 893,\n",
       " 'pm': 894,\n",
       " 'meet': 895,\n",
       " 'compared': 896,\n",
       " 'usual': 897,\n",
       " 'son': 898,\n",
       " 'onions': 899,\n",
       " 'market': 900,\n",
       " 'write': 901,\n",
       " 'office': 902,\n",
       " '40': 903,\n",
       " 'double': 904,\n",
       " 'prime': 905,\n",
       " 'answer': 906,\n",
       " 'tomato': 907,\n",
       " 'oil': 908,\n",
       " 'hostess': 909,\n",
       " 'corn': 910,\n",
       " 'sports': 911,\n",
       " 'personal': 912,\n",
       " 'noticed': 913,\n",
       " 'margaritas': 914,\n",
       " 'filled': 915,\n",
       " 'fabulous': 916,\n",
       " 'showed': 917,\n",
       " 'juicy': 918,\n",
       " 'sick': 919,\n",
       " 'greeted': 920,\n",
       " 'dim': 921,\n",
       " 'complain': 922,\n",
       " 'sides': 923,\n",
       " 'dollar': 924,\n",
       " 'carne': 925,\n",
       " 'afternoon': 926,\n",
       " 'deep': 927,\n",
       " 'case': 928,\n",
       " 'stand': 929,\n",
       " 'sauces': 930,\n",
       " 'salt': 931,\n",
       " 'mix': 932,\n",
       " 'asada': 933,\n",
       " 'lived': 934,\n",
       " 'easily': 935,\n",
       " 'beyond': 936,\n",
       " 'window': 937,\n",
       " 'play': 938,\n",
       " 'pad': 939,\n",
       " 'noodle': 940,\n",
       " 'superb': 941,\n",
       " 'korean': 942,\n",
       " 'bartenders': 943,\n",
       " 'sad': 944,\n",
       " 'combo': 945,\n",
       " 'blue': 946,\n",
       " 'fruit': 947,\n",
       " 'dine': 948,\n",
       " 'building': 949,\n",
       " 'sum': 950,\n",
       " 'rush': 951,\n",
       " 'plain': 952,\n",
       " 'setting': 953,\n",
       " 'school': 954,\n",
       " 'rare': 955,\n",
       " 'games': 956,\n",
       " 'east': 957,\n",
       " 'immediately': 958,\n",
       " 'creative': 959,\n",
       " 'particular': 960,\n",
       " 'honestly': 961,\n",
       " 'nasty': 962,\n",
       " 'center': 963,\n",
       " 'watching': 964,\n",
       " 'strong': 965,\n",
       " 'mom': 966,\n",
       " 'homemade': 967,\n",
       " 'suggest': 968,\n",
       " 'returning': 969,\n",
       " 'feels': 970,\n",
       " 'strip': 971,\n",
       " 'lol': 972,\n",
       " 'hole': 973,\n",
       " 'entree': 974,\n",
       " 'subway': 975,\n",
       " 'north': 976,\n",
       " 'mall': 977,\n",
       " 'interior': 978,\n",
       " 'whats': 979,\n",
       " 'bag': 980,\n",
       " 'anyway': 981,\n",
       " 'opinion': 982,\n",
       " 'deli': 983,\n",
       " '9': 984,\n",
       " 'whatever': 985,\n",
       " 'note': 986,\n",
       " 'chill': 987,\n",
       " 'break': 988,\n",
       " 'anymore': 989,\n",
       " 'level': 990,\n",
       " 'kid': 991,\n",
       " 'face': 992,\n",
       " 'noisy': 993,\n",
       " 'elsewhere': 994,\n",
       " 'bunch': 995,\n",
       " 'smaller': 996,\n",
       " 'conversation': 997,\n",
       " 'notch': 998,\n",
       " 'forward': 999}"
      ]
     },
     "execution_count": 137,
     "metadata": {},
     "output_type": "execute_result"
    }
   ],
   "source": [
    "# wordId"
   ]
  },
  {
   "cell_type": "code",
   "execution_count": 138,
   "metadata": {},
   "outputs": [
    {
     "data": {
      "text/plain": [
       "1000"
      ]
     },
     "execution_count": 138,
     "metadata": {},
     "output_type": "execute_result"
    }
   ],
   "source": [
    "len(wordId)"
   ]
  },
  {
   "cell_type": "code",
   "execution_count": 139,
   "metadata": {},
   "outputs": [
    {
     "data": {
      "text/plain": [
       "1000"
      ]
     },
     "execution_count": 139,
     "metadata": {},
     "output_type": "execute_result"
    }
   ],
   "source": [
    "len(wordSet)"
   ]
  },
  {
   "cell_type": "code",
   "execution_count": 140,
   "metadata": {},
   "outputs": [],
   "source": [
    "def feature(datum):\n",
    "    feat = [0]*len(wordSet)\n",
    "\n",
    "    # appending word vector\n",
    "    t = datum['reviewText']\n",
    "    t = t.lower()\n",
    "    t = [c for c in t if not (c in punct)]\n",
    "    t = ''.join(t)\n",
    "    words = t.strip().split()\n",
    "    for w in words:\n",
    "        if not (w in wordSet): continue\n",
    "        feat[wordId[w]] += 1\n",
    "    \n",
    "    # appending sentiment features\n",
    "    count_pos = 0\n",
    "    count_neg = 0\n",
    "    for l in datum['sentiments']:\n",
    "        if l > 0:\n",
    "            count_pos+=1\n",
    "        else:\n",
    "            count_neg+=1\n",
    "\n",
    "    pos_prop = count_pos/len(datum['sentiments'])\n",
    "    feat.append(pos_prop)\n",
    "\n",
    "    neg_prop = count_neg/len(datum['sentiments'])\n",
    "    feat.append(neg_prop)\n",
    "    feat.append(datum['reviewLength'])\n",
    "    feat.append(datum['priceRank'])\n",
    "    feat.append(datum['reviewHour'])\n",
    "    feat.append(1)\n",
    "    \n",
    "    #for l in datum['hotHour'] + datum['hotPrice'] + datum['hotSentiment']:\n",
    "        #feat.append(l)\n",
    "    return feat"
   ]
  },
  {
   "cell_type": "code",
   "execution_count": 141,
   "metadata": {},
   "outputs": [
    {
     "data": {
      "text/plain": [
       "(61003, 61003)"
      ]
     },
     "execution_count": 141,
     "metadata": {},
     "output_type": "execute_result"
    }
   ],
   "source": [
    "X = [feature(d) for d in tr_03]\n",
    "y = [d[\"rating\"] for d in tr_03]\n",
    "len(X), len(y)"
   ]
  },
  {
   "cell_type": "code",
   "execution_count": 142,
   "metadata": {},
   "outputs": [
    {
     "data": {
      "text/plain": [
       "([0, 0, 0, 0, 0.0, 1.0, 141, 3, 16, 1], 1006)"
      ]
     },
     "execution_count": 142,
     "metadata": {},
     "output_type": "execute_result"
    }
   ],
   "source": [
    "X[-20][-10:], len(X[0])"
   ]
  },
  {
   "cell_type": "code",
   "execution_count": 143,
   "metadata": {},
   "outputs": [],
   "source": [
    "clf = linear_model.Ridge(1.0, fit_intercept=False)  # MSE + 1.0 l2\n",
    "clf.fit(X, y)\n",
    "theta = clf.coef_\n",
    "pred = clf.predict(X)"
   ]
  },
  {
   "cell_type": "code",
   "execution_count": 144,
   "metadata": {},
   "outputs": [
    {
     "data": {
      "text/plain": [
       "array([-0.01488728, -0.00322645,  0.20240514, ...,  1.08555955,\n",
       "        0.00124778,  0.36185318])"
      ]
     },
     "execution_count": 144,
     "metadata": {},
     "output_type": "execute_result"
    }
   ],
   "source": [
    "theta"
   ]
  },
  {
   "cell_type": "code",
   "execution_count": 145,
   "metadata": {},
   "outputs": [
    {
     "data": {
      "text/plain": [
       "array([4.45639671, 4.72189269, 4.60770784, 4.0431219 , 3.45924585])"
      ]
     },
     "execution_count": 145,
     "metadata": {},
     "output_type": "execute_result"
    }
   ],
   "source": [
    "pred[:5]"
   ]
  },
  {
   "cell_type": "code",
   "execution_count": 146,
   "metadata": {},
   "outputs": [
    {
     "data": {
      "text/plain": [
       "(True, 2359)"
      ]
     },
     "execution_count": 146,
     "metadata": {},
     "output_type": "execute_result"
    }
   ],
   "source": [
    "any(value > 5  for value in pred), sum([value > 5  for value in pred]),# [value for value in pred if value > 5][:5]"
   ]
  },
  {
   "cell_type": "code",
   "execution_count": 147,
   "metadata": {},
   "outputs": [
    {
     "data": {
      "text/plain": [
       "(0.8010281586224948, 0.8365190327746289, 0.8159914139230752)"
      ]
     },
     "execution_count": 147,
     "metadata": {},
     "output_type": "execute_result"
    }
   ],
   "source": [
    "X_va_03 = [feature(d) for d in va_03]\n",
    "y_va_03 = [d[\"rating\"] for d in va_03]\n",
    "\n",
    "X_te_03 = [feature(d) for d in te_03]\n",
    "y_te_03 = [d[\"rating\"] for d in te_03]\n",
    "\n",
    "pred_va_03 = clf.predict(X_va_03)\n",
    "pred_te_03 = clf.predict(X_te_03)\n",
    "\n",
    "MSE(pred, y), MSE(pred_va_03, y_va_03), MSE(pred_te_03, y_te_03)"
   ]
  },
  {
   "cell_type": "code",
   "execution_count": 148,
   "metadata": {},
   "outputs": [
    {
     "data": {
      "text/plain": [
       "(0.7120467802135662, 0.7251433744435974, 0.7139347406771677)"
      ]
     },
     "execution_count": 148,
     "metadata": {},
     "output_type": "execute_result"
    }
   ],
   "source": [
    "MAE(pred, y), MAE(pred_va_03, y_va_03), MAE(pred_te_03, y_te_03)"
   ]
  },
  {
   "cell_type": "code",
   "execution_count": null,
   "metadata": {},
   "outputs": [],
   "source": []
  }
 ],
 "metadata": {
  "kernelspec": {
   "display_name": "Python 3 (ipykernel)",
   "language": "python",
   "name": "python3"
  },
  "language_info": {
   "codemirror_mode": {
    "name": "ipython",
    "version": 3
   },
   "file_extension": ".py",
   "mimetype": "text/x-python",
   "name": "python",
   "nbconvert_exporter": "python",
   "pygments_lexer": "ipython3",
   "version": "3.11.3"
  }
 },
 "nbformat": 4,
 "nbformat_minor": 4
}
