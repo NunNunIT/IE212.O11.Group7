{
 "cells": [
  {
   "cell_type": "code",
   "execution_count": 146,
   "metadata": {},
   "outputs": [
    {
     "name": "stdout",
     "output_type": "stream",
     "text": [
      "Gửi dữ liệu 1 đã được đẩy lên thành công.\n",
      "Gửi dữ liệu 2 đã được đẩy lên thành công.\n",
      "Gửi dữ liệu 3 đã được đẩy lên thành công.\n",
      "Gửi dữ liệu 4 đã được đẩy lên thành công.\n",
      "Gửi dữ liệu 5 đã được đẩy lên thành công.\n",
      "Gửi dữ liệu 6 đã được đẩy lên thành công.\n",
      "Gửi dữ liệu 7 đã được đẩy lên thành công.\n",
      "Gửi dữ liệu 8 đã được đẩy lên thành công.\n",
      "Gửi dữ liệu 9 đã được đẩy lên thành công.\n",
      "Gửi dữ liệu 10 đã được đẩy lên thành công.\n",
      "Gửi dữ liệu 11 đã được đẩy lên thành công.\n",
      "Gửi dữ liệu 12 đã được đẩy lên thành công.\n",
      "Gửi dữ liệu 13 đã được đẩy lên thành công.\n",
      "Gửi dữ liệu 14 đã được đẩy lên thành công.\n",
      "Gửi dữ liệu 15 đã được đẩy lên thành công.\n",
      "Gửi dữ liệu 16 đã được đẩy lên thành công.\n",
      "Gửi dữ liệu 17 đã được đẩy lên thành công.\n",
      "Gửi dữ liệu 18 đã được đẩy lên thành công.\n",
      "Gửi dữ liệu 19 đã được đẩy lên thành công.\n",
      "Gửi dữ liệu 20 đã được đẩy lên thành công.\n",
      "Gửi dữ liệu 21 đã được đẩy lên thành công.\n",
      "Gửi dữ liệu 22 đã được đẩy lên thành công.\n",
      "Gửi dữ liệu 23 đã được đẩy lên thành công.\n",
      "Gửi dữ liệu 24 đã được đẩy lên thành công.\n",
      "Gửi dữ liệu 25 đã được đẩy lên thành công.\n",
      "Gửi dữ liệu 26 đã được đẩy lên thành công.\n",
      "Gửi dữ liệu 27 đã được đẩy lên thành công.\n",
      "Gửi dữ liệu 28 đã được đẩy lên thành công.\n",
      "Gửi dữ liệu 29 đã được đẩy lên thành công.\n",
      "Gửi dữ liệu 30 đã được đẩy lên thành công.\n",
      "Gửi dữ liệu 31 đã được đẩy lên thành công.\n",
      "Gửi dữ liệu 32 đã được đẩy lên thành công.\n",
      "Gửi dữ liệu 33 đã được đẩy lên thành công.\n",
      "Gửi dữ liệu 34 đã được đẩy lên thành công.\n",
      "Gửi dữ liệu 35 đã được đẩy lên thành công.\n",
      "Gửi dữ liệu 36 đã được đẩy lên thành công.\n",
      "Gửi dữ liệu 37 đã được đẩy lên thành công.\n",
      "Gửi dữ liệu 38 đã được đẩy lên thành công.\n",
      "Gửi dữ liệu 39 đã được đẩy lên thành công.\n",
      "Gửi dữ liệu 40 đã được đẩy lên thành công.\n",
      "Gửi dữ liệu 41 đã được đẩy lên thành công.\n",
      "Gửi dữ liệu 42 đã được đẩy lên thành công.\n",
      "Gửi dữ liệu 43 đã được đẩy lên thành công.\n",
      "Gửi dữ liệu 44 đã được đẩy lên thành công.\n",
      "Gửi dữ liệu 45 đã được đẩy lên thành công.\n",
      "Gửi dữ liệu 46 đã được đẩy lên thành công.\n",
      "Gửi dữ liệu 47 đã được đẩy lên thành công.\n",
      "Gửi dữ liệu 48 đã được đẩy lên thành công.\n",
      "Gửi dữ liệu 49 đã được đẩy lên thành công.\n",
      "Gửi dữ liệu 50 đã được đẩy lên thành công.\n",
      "Gửi dữ liệu 51 đã được đẩy lên thành công.\n",
      "Gửi dữ liệu 52 đã được đẩy lên thành công.\n",
      "Gửi dữ liệu 53 đã được đẩy lên thành công.\n",
      "Gửi dữ liệu 54 đã được đẩy lên thành công.\n",
      "Gửi dữ liệu 55 đã được đẩy lên thành công.\n",
      "Gửi dữ liệu 56 đã được đẩy lên thành công.\n",
      "Gửi dữ liệu 57 đã được đẩy lên thành công.\n",
      "Gửi dữ liệu 58 đã được đẩy lên thành công.\n",
      "Gửi dữ liệu 59 đã được đẩy lên thành công.\n",
      "Gửi dữ liệu 60 đã được đẩy lên thành công.\n",
      "Gửi dữ liệu 61 đã được đẩy lên thành công.\n",
      "Gửi dữ liệu 62 đã được đẩy lên thành công.\n",
      "Gửi dữ liệu 63 đã được đẩy lên thành công.\n",
      "Gửi dữ liệu 64 đã được đẩy lên thành công.\n",
      "Gửi dữ liệu 65 đã được đẩy lên thành công.\n",
      "Gửi dữ liệu 66 đã được đẩy lên thành công.\n",
      "Gửi dữ liệu 67 đã được đẩy lên thành công.\n",
      "Gửi dữ liệu 68 đã được đẩy lên thành công.\n",
      "Gửi dữ liệu 69 đã được đẩy lên thành công.\n",
      "Gửi dữ liệu 70 đã được đẩy lên thành công.\n",
      "Gửi dữ liệu 71 đã được đẩy lên thành công.\n",
      "Gửi dữ liệu 72 đã được đẩy lên thành công.\n",
      "Gửi dữ liệu 73 đã được đẩy lên thành công.\n",
      "Gửi dữ liệu 74 đã được đẩy lên thành công.\n",
      "Gửi dữ liệu 75 đã được đẩy lên thành công.\n",
      "Gửi dữ liệu 76 đã được đẩy lên thành công.\n",
      "Gửi dữ liệu 77 đã được đẩy lên thành công.\n",
      "Gửi dữ liệu 78 đã được đẩy lên thành công.\n",
      "Gửi dữ liệu 79 đã được đẩy lên thành công.\n",
      "Gửi dữ liệu 80 đã được đẩy lên thành công.\n",
      "Gửi dữ liệu 81 đã được đẩy lên thành công.\n",
      "Gửi dữ liệu 82 đã được đẩy lên thành công.\n",
      "Gửi dữ liệu 83 đã được đẩy lên thành công.\n",
      "Gửi dữ liệu 84 đã được đẩy lên thành công.\n",
      "Gửi dữ liệu 85 đã được đẩy lên thành công.\n",
      "Gửi dữ liệu 86 đã được đẩy lên thành công.\n",
      "Gửi dữ liệu 87 đã được đẩy lên thành công.\n",
      "Gửi dữ liệu 88 đã được đẩy lên thành công.\n",
      "Gửi dữ liệu 89 đã được đẩy lên thành công.\n",
      "Gửi dữ liệu 90 đã được đẩy lên thành công.\n",
      "Gửi dữ liệu 91 đã được đẩy lên thành công.\n",
      "Gửi dữ liệu 92 đã được đẩy lên thành công.\n",
      "Gửi dữ liệu 93 đã được đẩy lên thành công.\n",
      "Gửi dữ liệu 94 đã được đẩy lên thành công.\n",
      "Gửi dữ liệu 95 đã được đẩy lên thành công.\n",
      "Gửi dữ liệu 96 đã được đẩy lên thành công.\n",
      "Gửi dữ liệu 97 đã được đẩy lên thành công.\n",
      "Gửi dữ liệu 98 đã được đẩy lên thành công.\n",
      "Gửi dữ liệu 99 đã được đẩy lên thành công.\n",
      "Gửi dữ liệu 100 đã được đẩy lên thành công.\n",
      "Gửi dữ liệu 101 đã được đẩy lên thành công.\n",
      "Gửi dữ liệu 102 đã được đẩy lên thành công.\n",
      "Gửi dữ liệu 103 đã được đẩy lên thành công.\n",
      "Gửi dữ liệu 104 đã được đẩy lên thành công.\n",
      "Gửi dữ liệu 105 đã được đẩy lên thành công.\n",
      "Gửi dữ liệu 106 đã được đẩy lên thành công.\n",
      "Gửi dữ liệu 107 đã được đẩy lên thành công.\n",
      "Gửi dữ liệu 108 đã được đẩy lên thành công.\n",
      "Gửi dữ liệu 109 đã được đẩy lên thành công.\n",
      "Gửi dữ liệu 110 đã được đẩy lên thành công.\n",
      "Gửi dữ liệu 111 đã được đẩy lên thành công.\n",
      "Gửi dữ liệu 112 đã được đẩy lên thành công.\n",
      "Gửi dữ liệu 113 đã được đẩy lên thành công.\n",
      "Gửi dữ liệu 114 đã được đẩy lên thành công.\n",
      "Gửi dữ liệu 115 đã được đẩy lên thành công.\n",
      "Gửi dữ liệu 116 đã được đẩy lên thành công.\n",
      "Gửi dữ liệu 117 đã được đẩy lên thành công.\n",
      "Gửi dữ liệu 118 đã được đẩy lên thành công.\n",
      "Gửi dữ liệu 119 đã được đẩy lên thành công.\n",
      "Gửi dữ liệu 120 đã được đẩy lên thành công.\n",
      "Gửi dữ liệu 121 đã được đẩy lên thành công.\n",
      "Gửi dữ liệu 122 đã được đẩy lên thành công.\n",
      "Gửi dữ liệu 123 đã được đẩy lên thành công.\n",
      "Gửi dữ liệu 124 đã được đẩy lên thành công.\n",
      "Gửi dữ liệu 125 đã được đẩy lên thành công.\n",
      "Gửi dữ liệu 126 đã được đẩy lên thành công.\n",
      "Gửi dữ liệu 127 đã được đẩy lên thành công.\n",
      "Gửi dữ liệu 128 đã được đẩy lên thành công.\n",
      "Gửi dữ liệu 129 đã được đẩy lên thành công.\n",
      "Gửi dữ liệu 130 đã được đẩy lên thành công.\n",
      "Gửi dữ liệu 131 đã được đẩy lên thành công.\n",
      "Gửi dữ liệu 132 đã được đẩy lên thành công.\n",
      "Gửi dữ liệu 133 đã được đẩy lên thành công.\n",
      "Gửi dữ liệu 134 đã được đẩy lên thành công.\n",
      "Gửi dữ liệu 135 đã được đẩy lên thành công.\n",
      "Gửi dữ liệu 136 đã được đẩy lên thành công.\n",
      "Gửi dữ liệu 137 đã được đẩy lên thành công.\n",
      "Gửi dữ liệu 138 đã được đẩy lên thành công.\n",
      "Gửi dữ liệu 139 đã được đẩy lên thành công.\n",
      "Gửi dữ liệu 140 đã được đẩy lên thành công.\n",
      "Gửi dữ liệu 141 đã được đẩy lên thành công.\n",
      "Gửi dữ liệu 142 đã được đẩy lên thành công.\n"
     ]
    },
    {
     "ename": "KeyboardInterrupt",
     "evalue": "",
     "output_type": "error",
     "traceback": [
      "\u001b[1;31m---------------------------------------------------------------------------\u001b[0m",
      "\u001b[1;31mKeyboardInterrupt\u001b[0m                         Traceback (most recent call last)",
      "Cell \u001b[1;32mIn[146], line 38\u001b[0m\n\u001b[0;32m     35\u001b[0m         \u001b[38;5;28mprint\u001b[39m(\u001b[38;5;124m\"\u001b[39m\u001b[38;5;124mĐã có lỗi xảy ra:\u001b[39m\u001b[38;5;124m\"\u001b[39m, response\u001b[38;5;241m.\u001b[39mstatus_code, response\u001b[38;5;241m.\u001b[39mtext)\n\u001b[0;32m     37\u001b[0m     \u001b[38;5;66;03m# Đợi 5 giây trước khi gửi dòng tiếp theo\u001b[39;00m\n\u001b[1;32m---> 38\u001b[0m     \u001b[43mtime\u001b[49m\u001b[38;5;241;43m.\u001b[39;49m\u001b[43msleep\u001b[49m\u001b[43m(\u001b[49m\u001b[38;5;241;43m1\u001b[39;49m\u001b[43m)\u001b[49m\n\u001b[0;32m     39\u001b[0m \u001b[38;5;28;01mexcept\u001b[39;00m \u001b[38;5;167;01mException\u001b[39;00m \u001b[38;5;28;01mas\u001b[39;00m e:\n\u001b[0;32m     40\u001b[0m         \u001b[38;5;28mprint\u001b[39m(\u001b[38;5;124mf\u001b[39m\u001b[38;5;124m\"\u001b[39m\u001b[38;5;124mAn error occurred: \u001b[39m\u001b[38;5;132;01m{\u001b[39;00me\u001b[38;5;132;01m}\u001b[39;00m\u001b[38;5;124m\"\u001b[39m)\n",
      "\u001b[1;31mKeyboardInterrupt\u001b[0m: "
     ]
    }
   ],
   "source": [
    "import requests\n",
    "import pandas as pd\n",
    "import json\n",
    "import time\n",
    "import gzip\n",
    "\n",
    "file_path = '../data/reviews.clean.json.gz'\n",
    "\n",
    "def read_reviews(file_path):\n",
    "    with gzip.open(file_path) as file:\n",
    "        for line_number, line in enumerate(file, start=0):\n",
    "            # review = json.loads(eval(line))\n",
    "            review = eval(line)\n",
    "            yield review\n",
    "\n",
    "# Đặt địa chỉ URL của API local\n",
    "local_api_url = 'http://127.0.0.1:5000/api/ie212_o11_group7/endpoint'\n",
    "\n",
    "x = 0\n",
    "# Lặp qua từng dòng của DataFrame và gửi request POST mỗi 5 giây\n",
    "for review in read_reviews(file_path):     \n",
    "    try:      \n",
    "        # Convert the review to a JSON string\n",
    "        review['last_update_time'] = time.time()\n",
    "        message_value = json.dumps(review)\n",
    "        \n",
    "        # Gửi request POST đến API local với dữ liệu JSON\n",
    "        response = requests.post(local_api_url, json=message_value)\n",
    "        \n",
    "        # Kiểm tra kết quả của request\n",
    "        if response.status_code == 200:\n",
    "            x += 1\n",
    "            print(f\"Gửi dữ liệu {x} đã được đẩy lên thành công.\")\n",
    "        else:\n",
    "            print(\"Đã có lỗi xảy ra:\", response.status_code, response.text)\n",
    "\n",
    "        # Đợi 5 giây trước khi gửi dòng tiếp theo\n",
    "        time.sleep(1)\n",
    "    except Exception as e:\n",
    "            print(f\"An error occurred: {e}\")"
   ]
  },
  {
   "cell_type": "code",
   "execution_count": 43,
   "metadata": {},
   "outputs": [
    {
     "name": "stdout",
     "output_type": "stream",
     "text": [
      "Gửi dữ liệu 1 đã được đẩy lên thành công.\n",
      "Gửi dữ liệu 2 đã được đẩy lên thành công.\n",
      "Gửi dữ liệu 3 đã được đẩy lên thành công.\n",
      "Gửi dữ liệu 4 đã được đẩy lên thành công.\n",
      "Gửi dữ liệu 5 đã được đẩy lên thành công.\n",
      "Gửi dữ liệu 6 đã được đẩy lên thành công.\n",
      "Gửi dữ liệu 7 đã được đẩy lên thành công.\n",
      "Gửi dữ liệu 8 đã được đẩy lên thành công.\n",
      "Gửi dữ liệu 9 đã được đẩy lên thành công.\n",
      "Gửi dữ liệu 10 đã được đẩy lên thành công.\n",
      "Gửi dữ liệu 11 đã được đẩy lên thành công.\n",
      "Gửi dữ liệu 12 đã được đẩy lên thành công.\n",
      "Gửi dữ liệu 13 đã được đẩy lên thành công.\n",
      "Gửi dữ liệu 14 đã được đẩy lên thành công.\n",
      "Gửi dữ liệu 15 đã được đẩy lên thành công.\n",
      "Gửi dữ liệu 16 đã được đẩy lên thành công.\n",
      "Gửi dữ liệu 17 đã được đẩy lên thành công.\n",
      "Gửi dữ liệu 18 đã được đẩy lên thành công.\n",
      "Gửi dữ liệu 19 đã được đẩy lên thành công.\n",
      "Gửi dữ liệu 20 đã được đẩy lên thành công.\n",
      "Gửi dữ liệu 21 đã được đẩy lên thành công.\n",
      "Gửi dữ liệu 22 đã được đẩy lên thành công.\n",
      "Gửi dữ liệu 23 đã được đẩy lên thành công.\n",
      "Gửi dữ liệu 24 đã được đẩy lên thành công.\n",
      "Gửi dữ liệu 25 đã được đẩy lên thành công.\n",
      "Gửi dữ liệu 26 đã được đẩy lên thành công.\n",
      "Gửi dữ liệu 27 đã được đẩy lên thành công.\n",
      "Gửi dữ liệu 28 đã được đẩy lên thành công.\n",
      "Gửi dữ liệu 29 đã được đẩy lên thành công.\n",
      "Gửi dữ liệu 30 đã được đẩy lên thành công.\n",
      "Gửi dữ liệu 31 đã được đẩy lên thành công.\n",
      "Gửi dữ liệu 32 đã được đẩy lên thành công.\n",
      "Gửi dữ liệu 33 đã được đẩy lên thành công.\n",
      "Gửi dữ liệu 34 đã được đẩy lên thành công.\n",
      "Gửi dữ liệu 35 đã được đẩy lên thành công.\n",
      "Gửi dữ liệu 36 đã được đẩy lên thành công.\n",
      "Gửi dữ liệu 37 đã được đẩy lên thành công.\n",
      "Gửi dữ liệu 38 đã được đẩy lên thành công.\n",
      "Gửi dữ liệu 39 đã được đẩy lên thành công.\n",
      "Gửi dữ liệu 40 đã được đẩy lên thành công.\n",
      "Gửi dữ liệu 41 đã được đẩy lên thành công.\n",
      "Gửi dữ liệu 42 đã được đẩy lên thành công.\n",
      "Gửi dữ liệu 43 đã được đẩy lên thành công.\n",
      "Gửi dữ liệu 44 đã được đẩy lên thành công.\n",
      "Gửi dữ liệu 45 đã được đẩy lên thành công.\n",
      "Gửi dữ liệu 46 đã được đẩy lên thành công.\n",
      "Gửi dữ liệu 47 đã được đẩy lên thành công.\n",
      "Gửi dữ liệu 48 đã được đẩy lên thành công.\n",
      "Gửi dữ liệu 49 đã được đẩy lên thành công.\n",
      "Gửi dữ liệu 50 đã được đẩy lên thành công.\n",
      "Gửi dữ liệu 51 đã được đẩy lên thành công.\n",
      "Gửi dữ liệu 52 đã được đẩy lên thành công.\n",
      "Gửi dữ liệu 53 đã được đẩy lên thành công.\n",
      "Gửi dữ liệu 54 đã được đẩy lên thành công.\n",
      "Gửi dữ liệu 55 đã được đẩy lên thành công.\n",
      "Gửi dữ liệu 56 đã được đẩy lên thành công.\n",
      "Gửi dữ liệu 57 đã được đẩy lên thành công.\n",
      "Gửi dữ liệu 58 đã được đẩy lên thành công.\n",
      "Gửi dữ liệu 59 đã được đẩy lên thành công.\n",
      "Gửi dữ liệu 60 đã được đẩy lên thành công.\n",
      "Gửi dữ liệu 61 đã được đẩy lên thành công.\n",
      "Gửi dữ liệu 62 đã được đẩy lên thành công.\n",
      "Gửi dữ liệu 63 đã được đẩy lên thành công.\n",
      "Gửi dữ liệu 64 đã được đẩy lên thành công.\n",
      "Gửi dữ liệu 65 đã được đẩy lên thành công.\n",
      "Gửi dữ liệu 66 đã được đẩy lên thành công.\n",
      "Gửi dữ liệu 67 đã được đẩy lên thành công.\n",
      "Gửi dữ liệu 68 đã được đẩy lên thành công.\n",
      "Gửi dữ liệu 69 đã được đẩy lên thành công.\n",
      "Gửi dữ liệu 70 đã được đẩy lên thành công.\n",
      "Gửi dữ liệu 71 đã được đẩy lên thành công.\n",
      "Gửi dữ liệu 72 đã được đẩy lên thành công.\n",
      "Gửi dữ liệu 73 đã được đẩy lên thành công.\n",
      "Gửi dữ liệu 74 đã được đẩy lên thành công.\n",
      "Gửi dữ liệu 75 đã được đẩy lên thành công.\n",
      "Gửi dữ liệu 76 đã được đẩy lên thành công.\n",
      "Gửi dữ liệu 77 đã được đẩy lên thành công.\n",
      "Gửi dữ liệu 78 đã được đẩy lên thành công.\n",
      "Gửi dữ liệu 79 đã được đẩy lên thành công.\n",
      "Gửi dữ liệu 80 đã được đẩy lên thành công.\n",
      "Gửi dữ liệu 81 đã được đẩy lên thành công.\n",
      "Gửi dữ liệu 82 đã được đẩy lên thành công.\n",
      "Gửi dữ liệu 83 đã được đẩy lên thành công.\n",
      "Gửi dữ liệu 84 đã được đẩy lên thành công.\n",
      "Gửi dữ liệu 85 đã được đẩy lên thành công.\n",
      "Gửi dữ liệu 86 đã được đẩy lên thành công.\n",
      "Gửi dữ liệu 87 đã được đẩy lên thành công.\n",
      "Gửi dữ liệu 88 đã được đẩy lên thành công.\n",
      "Gửi dữ liệu 89 đã được đẩy lên thành công.\n",
      "Gửi dữ liệu 90 đã được đẩy lên thành công.\n",
      "Gửi dữ liệu 91 đã được đẩy lên thành công.\n",
      "Gửi dữ liệu 92 đã được đẩy lên thành công.\n",
      "Gửi dữ liệu 93 đã được đẩy lên thành công.\n",
      "Gửi dữ liệu 94 đã được đẩy lên thành công.\n",
      "Gửi dữ liệu 95 đã được đẩy lên thành công.\n",
      "Gửi dữ liệu 96 đã được đẩy lên thành công.\n",
      "Gửi dữ liệu 97 đã được đẩy lên thành công.\n",
      "Gửi dữ liệu 98 đã được đẩy lên thành công.\n",
      "Gửi dữ liệu 99 đã được đẩy lên thành công.\n",
      "Gửi dữ liệu 100 đã được đẩy lên thành công.\n",
      "Gửi dữ liệu 101 đã được đẩy lên thành công.\n",
      "Gửi dữ liệu 102 đã được đẩy lên thành công.\n",
      "Gửi dữ liệu 103 đã được đẩy lên thành công.\n",
      "Gửi dữ liệu 104 đã được đẩy lên thành công.\n",
      "Gửi dữ liệu 105 đã được đẩy lên thành công.\n",
      "Gửi dữ liệu 106 đã được đẩy lên thành công.\n",
      "Gửi dữ liệu 107 đã được đẩy lên thành công.\n",
      "Gửi dữ liệu 108 đã được đẩy lên thành công.\n",
      "Gửi dữ liệu 109 đã được đẩy lên thành công.\n",
      "Gửi dữ liệu 110 đã được đẩy lên thành công.\n",
      "Gửi dữ liệu 111 đã được đẩy lên thành công.\n",
      "Gửi dữ liệu 112 đã được đẩy lên thành công.\n",
      "Gửi dữ liệu 113 đã được đẩy lên thành công.\n",
      "Gửi dữ liệu 114 đã được đẩy lên thành công.\n",
      "Gửi dữ liệu 115 đã được đẩy lên thành công.\n",
      "Gửi dữ liệu 116 đã được đẩy lên thành công.\n",
      "Gửi dữ liệu 117 đã được đẩy lên thành công.\n",
      "Gửi dữ liệu 118 đã được đẩy lên thành công.\n",
      "Gửi dữ liệu 119 đã được đẩy lên thành công.\n",
      "Gửi dữ liệu 120 đã được đẩy lên thành công.\n",
      "Gửi dữ liệu 121 đã được đẩy lên thành công.\n",
      "Gửi dữ liệu 122 đã được đẩy lên thành công.\n",
      "Gửi dữ liệu 123 đã được đẩy lên thành công.\n",
      "Gửi dữ liệu 124 đã được đẩy lên thành công.\n",
      "Gửi dữ liệu 125 đã được đẩy lên thành công.\n",
      "Gửi dữ liệu 126 đã được đẩy lên thành công.\n",
      "Gửi dữ liệu 127 đã được đẩy lên thành công.\n",
      "Gửi dữ liệu 128 đã được đẩy lên thành công.\n",
      "Gửi dữ liệu 129 đã được đẩy lên thành công.\n",
      "Gửi dữ liệu 130 đã được đẩy lên thành công.\n",
      "Gửi dữ liệu 131 đã được đẩy lên thành công.\n",
      "Gửi dữ liệu 132 đã được đẩy lên thành công.\n",
      "Gửi dữ liệu 133 đã được đẩy lên thành công.\n",
      "Gửi dữ liệu 134 đã được đẩy lên thành công.\n",
      "Gửi dữ liệu 135 đã được đẩy lên thành công.\n",
      "Gửi dữ liệu 136 đã được đẩy lên thành công.\n",
      "Gửi dữ liệu 137 đã được đẩy lên thành công.\n",
      "Gửi dữ liệu 138 đã được đẩy lên thành công.\n",
      "Gửi dữ liệu 139 đã được đẩy lên thành công.\n",
      "Gửi dữ liệu 140 đã được đẩy lên thành công.\n",
      "Gửi dữ liệu 141 đã được đẩy lên thành công.\n",
      "Gửi dữ liệu 142 đã được đẩy lên thành công.\n",
      "Gửi dữ liệu 143 đã được đẩy lên thành công.\n",
      "Gửi dữ liệu 144 đã được đẩy lên thành công.\n",
      "Gửi dữ liệu 145 đã được đẩy lên thành công.\n",
      "Gửi dữ liệu 146 đã được đẩy lên thành công.\n",
      "Gửi dữ liệu 147 đã được đẩy lên thành công.\n",
      "Gửi dữ liệu 148 đã được đẩy lên thành công.\n",
      "Gửi dữ liệu 149 đã được đẩy lên thành công.\n",
      "Gửi dữ liệu 150 đã được đẩy lên thành công.\n",
      "Gửi dữ liệu 151 đã được đẩy lên thành công.\n",
      "Gửi dữ liệu 152 đã được đẩy lên thành công.\n",
      "Gửi dữ liệu 153 đã được đẩy lên thành công.\n",
      "Gửi dữ liệu 154 đã được đẩy lên thành công.\n",
      "Gửi dữ liệu 155 đã được đẩy lên thành công.\n",
      "Gửi dữ liệu 156 đã được đẩy lên thành công.\n",
      "Gửi dữ liệu 157 đã được đẩy lên thành công.\n",
      "Gửi dữ liệu 158 đã được đẩy lên thành công.\n",
      "Gửi dữ liệu 159 đã được đẩy lên thành công.\n",
      "Gửi dữ liệu 160 đã được đẩy lên thành công.\n",
      "Gửi dữ liệu 161 đã được đẩy lên thành công.\n",
      "Gửi dữ liệu 162 đã được đẩy lên thành công.\n",
      "Gửi dữ liệu 163 đã được đẩy lên thành công.\n",
      "Gửi dữ liệu 164 đã được đẩy lên thành công.\n",
      "Gửi dữ liệu 165 đã được đẩy lên thành công.\n",
      "Gửi dữ liệu 166 đã được đẩy lên thành công.\n",
      "Gửi dữ liệu 167 đã được đẩy lên thành công.\n",
      "Gửi dữ liệu 168 đã được đẩy lên thành công.\n",
      "Gửi dữ liệu 169 đã được đẩy lên thành công.\n",
      "Gửi dữ liệu 170 đã được đẩy lên thành công.\n",
      "Gửi dữ liệu 171 đã được đẩy lên thành công.\n",
      "Gửi dữ liệu 172 đã được đẩy lên thành công.\n",
      "Gửi dữ liệu 173 đã được đẩy lên thành công.\n",
      "Gửi dữ liệu 174 đã được đẩy lên thành công.\n",
      "Gửi dữ liệu 175 đã được đẩy lên thành công.\n",
      "Gửi dữ liệu 176 đã được đẩy lên thành công.\n",
      "Gửi dữ liệu 177 đã được đẩy lên thành công.\n",
      "Gửi dữ liệu 178 đã được đẩy lên thành công.\n",
      "Gửi dữ liệu 179 đã được đẩy lên thành công.\n",
      "Gửi dữ liệu 180 đã được đẩy lên thành công.\n",
      "Gửi dữ liệu 181 đã được đẩy lên thành công.\n",
      "Gửi dữ liệu 182 đã được đẩy lên thành công.\n",
      "Gửi dữ liệu 183 đã được đẩy lên thành công.\n",
      "Gửi dữ liệu 184 đã được đẩy lên thành công.\n",
      "Gửi dữ liệu 185 đã được đẩy lên thành công.\n",
      "Gửi dữ liệu 186 đã được đẩy lên thành công.\n",
      "Gửi dữ liệu 187 đã được đẩy lên thành công.\n",
      "Gửi dữ liệu 188 đã được đẩy lên thành công.\n",
      "Gửi dữ liệu 189 đã được đẩy lên thành công.\n",
      "Gửi dữ liệu 190 đã được đẩy lên thành công.\n",
      "Gửi dữ liệu 191 đã được đẩy lên thành công.\n",
      "Gửi dữ liệu 192 đã được đẩy lên thành công.\n",
      "Gửi dữ liệu 193 đã được đẩy lên thành công.\n",
      "Gửi dữ liệu 194 đã được đẩy lên thành công.\n",
      "Gửi dữ liệu 195 đã được đẩy lên thành công.\n",
      "Gửi dữ liệu 196 đã được đẩy lên thành công.\n",
      "Gửi dữ liệu 197 đã được đẩy lên thành công.\n",
      "Gửi dữ liệu 198 đã được đẩy lên thành công.\n",
      "Gửi dữ liệu 199 đã được đẩy lên thành công.\n",
      "Gửi dữ liệu 200 đã được đẩy lên thành công.\n",
      "Gửi dữ liệu 201 đã được đẩy lên thành công.\n",
      "Gửi dữ liệu 202 đã được đẩy lên thành công.\n",
      "Gửi dữ liệu 203 đã được đẩy lên thành công.\n",
      "Gửi dữ liệu 204 đã được đẩy lên thành công.\n",
      "Gửi dữ liệu 205 đã được đẩy lên thành công.\n",
      "Gửi dữ liệu 206 đã được đẩy lên thành công.\n",
      "Gửi dữ liệu 207 đã được đẩy lên thành công.\n",
      "Gửi dữ liệu 208 đã được đẩy lên thành công.\n",
      "Gửi dữ liệu 209 đã được đẩy lên thành công.\n",
      "Gửi dữ liệu 210 đã được đẩy lên thành công.\n",
      "Gửi dữ liệu 211 đã được đẩy lên thành công.\n",
      "Gửi dữ liệu 212 đã được đẩy lên thành công.\n",
      "Gửi dữ liệu 213 đã được đẩy lên thành công.\n",
      "Gửi dữ liệu 214 đã được đẩy lên thành công.\n",
      "Gửi dữ liệu 215 đã được đẩy lên thành công.\n",
      "Gửi dữ liệu 216 đã được đẩy lên thành công.\n",
      "Gửi dữ liệu 217 đã được đẩy lên thành công.\n",
      "Gửi dữ liệu 218 đã được đẩy lên thành công.\n",
      "Gửi dữ liệu 219 đã được đẩy lên thành công.\n",
      "Gửi dữ liệu 220 đã được đẩy lên thành công.\n",
      "Gửi dữ liệu 221 đã được đẩy lên thành công.\n",
      "Gửi dữ liệu 222 đã được đẩy lên thành công.\n",
      "Gửi dữ liệu 223 đã được đẩy lên thành công.\n",
      "Gửi dữ liệu 224 đã được đẩy lên thành công.\n",
      "Gửi dữ liệu 225 đã được đẩy lên thành công.\n",
      "Gửi dữ liệu 226 đã được đẩy lên thành công.\n",
      "Gửi dữ liệu 227 đã được đẩy lên thành công.\n",
      "Gửi dữ liệu 228 đã được đẩy lên thành công.\n",
      "Gửi dữ liệu 229 đã được đẩy lên thành công.\n",
      "Gửi dữ liệu 230 đã được đẩy lên thành công.\n",
      "Gửi dữ liệu 231 đã được đẩy lên thành công.\n",
      "Gửi dữ liệu 232 đã được đẩy lên thành công.\n",
      "Gửi dữ liệu 233 đã được đẩy lên thành công.\n",
      "Gửi dữ liệu 234 đã được đẩy lên thành công.\n",
      "Gửi dữ liệu 235 đã được đẩy lên thành công.\n",
      "Gửi dữ liệu 236 đã được đẩy lên thành công.\n",
      "Gửi dữ liệu 237 đã được đẩy lên thành công.\n",
      "Gửi dữ liệu 238 đã được đẩy lên thành công.\n",
      "Gửi dữ liệu 239 đã được đẩy lên thành công.\n",
      "Gửi dữ liệu 240 đã được đẩy lên thành công.\n",
      "Gửi dữ liệu 241 đã được đẩy lên thành công.\n",
      "Gửi dữ liệu 242 đã được đẩy lên thành công.\n",
      "Gửi dữ liệu 243 đã được đẩy lên thành công.\n",
      "Gửi dữ liệu 244 đã được đẩy lên thành công.\n",
      "Gửi dữ liệu 245 đã được đẩy lên thành công.\n",
      "Gửi dữ liệu 246 đã được đẩy lên thành công.\n",
      "Gửi dữ liệu 247 đã được đẩy lên thành công.\n",
      "Gửi dữ liệu 248 đã được đẩy lên thành công.\n",
      "Gửi dữ liệu 249 đã được đẩy lên thành công.\n",
      "Gửi dữ liệu 250 đã được đẩy lên thành công.\n",
      "Gửi dữ liệu 251 đã được đẩy lên thành công.\n",
      "Gửi dữ liệu 252 đã được đẩy lên thành công.\n",
      "Gửi dữ liệu 253 đã được đẩy lên thành công.\n",
      "Gửi dữ liệu 254 đã được đẩy lên thành công.\n",
      "Gửi dữ liệu 255 đã được đẩy lên thành công.\n",
      "Gửi dữ liệu 256 đã được đẩy lên thành công.\n",
      "Gửi dữ liệu 257 đã được đẩy lên thành công.\n",
      "Gửi dữ liệu 258 đã được đẩy lên thành công.\n",
      "Gửi dữ liệu 259 đã được đẩy lên thành công.\n",
      "Gửi dữ liệu 260 đã được đẩy lên thành công.\n",
      "Gửi dữ liệu 261 đã được đẩy lên thành công.\n",
      "Gửi dữ liệu 262 đã được đẩy lên thành công.\n",
      "Gửi dữ liệu 263 đã được đẩy lên thành công.\n",
      "Gửi dữ liệu 264 đã được đẩy lên thành công.\n",
      "Gửi dữ liệu 265 đã được đẩy lên thành công.\n",
      "Gửi dữ liệu 266 đã được đẩy lên thành công.\n",
      "Gửi dữ liệu 267 đã được đẩy lên thành công.\n",
      "Gửi dữ liệu 268 đã được đẩy lên thành công.\n",
      "Gửi dữ liệu 269 đã được đẩy lên thành công.\n",
      "Gửi dữ liệu 270 đã được đẩy lên thành công.\n",
      "Gửi dữ liệu 271 đã được đẩy lên thành công.\n",
      "Gửi dữ liệu 272 đã được đẩy lên thành công.\n",
      "Gửi dữ liệu 273 đã được đẩy lên thành công.\n",
      "Gửi dữ liệu 274 đã được đẩy lên thành công.\n",
      "Gửi dữ liệu 275 đã được đẩy lên thành công.\n",
      "Gửi dữ liệu 276 đã được đẩy lên thành công.\n",
      "Gửi dữ liệu 277 đã được đẩy lên thành công.\n",
      "Gửi dữ liệu 278 đã được đẩy lên thành công.\n",
      "Gửi dữ liệu 279 đã được đẩy lên thành công.\n",
      "Gửi dữ liệu 280 đã được đẩy lên thành công.\n",
      "Gửi dữ liệu 281 đã được đẩy lên thành công.\n",
      "Gửi dữ liệu 282 đã được đẩy lên thành công.\n",
      "Gửi dữ liệu 283 đã được đẩy lên thành công.\n",
      "Gửi dữ liệu 284 đã được đẩy lên thành công.\n",
      "Gửi dữ liệu 285 đã được đẩy lên thành công.\n",
      "Gửi dữ liệu 286 đã được đẩy lên thành công.\n",
      "Gửi dữ liệu 287 đã được đẩy lên thành công.\n",
      "Gửi dữ liệu 288 đã được đẩy lên thành công.\n",
      "Gửi dữ liệu 289 đã được đẩy lên thành công.\n",
      "Gửi dữ liệu 290 đã được đẩy lên thành công.\n",
      "Gửi dữ liệu 291 đã được đẩy lên thành công.\n",
      "Gửi dữ liệu 292 đã được đẩy lên thành công.\n",
      "Gửi dữ liệu 293 đã được đẩy lên thành công.\n",
      "Gửi dữ liệu 294 đã được đẩy lên thành công.\n",
      "Gửi dữ liệu 295 đã được đẩy lên thành công.\n",
      "Gửi dữ liệu 296 đã được đẩy lên thành công.\n",
      "Gửi dữ liệu 297 đã được đẩy lên thành công.\n",
      "Gửi dữ liệu 298 đã được đẩy lên thành công.\n",
      "Gửi dữ liệu 299 đã được đẩy lên thành công.\n",
      "Gửi dữ liệu 300 đã được đẩy lên thành công.\n",
      "Gửi dữ liệu 301 đã được đẩy lên thành công.\n",
      "Gửi dữ liệu 302 đã được đẩy lên thành công.\n",
      "Gửi dữ liệu 303 đã được đẩy lên thành công.\n",
      "Gửi dữ liệu 304 đã được đẩy lên thành công.\n",
      "Gửi dữ liệu 305 đã được đẩy lên thành công.\n",
      "Gửi dữ liệu 306 đã được đẩy lên thành công.\n",
      "Gửi dữ liệu 307 đã được đẩy lên thành công.\n",
      "Gửi dữ liệu 308 đã được đẩy lên thành công.\n",
      "Gửi dữ liệu 309 đã được đẩy lên thành công.\n",
      "Gửi dữ liệu 310 đã được đẩy lên thành công.\n",
      "Gửi dữ liệu 311 đã được đẩy lên thành công.\n",
      "Gửi dữ liệu 312 đã được đẩy lên thành công.\n",
      "Gửi dữ liệu 313 đã được đẩy lên thành công.\n",
      "Gửi dữ liệu 314 đã được đẩy lên thành công.\n",
      "Gửi dữ liệu 315 đã được đẩy lên thành công.\n",
      "Gửi dữ liệu 316 đã được đẩy lên thành công.\n",
      "Gửi dữ liệu 317 đã được đẩy lên thành công.\n",
      "Gửi dữ liệu 318 đã được đẩy lên thành công.\n",
      "Gửi dữ liệu 319 đã được đẩy lên thành công.\n",
      "Gửi dữ liệu 320 đã được đẩy lên thành công.\n",
      "Gửi dữ liệu 321 đã được đẩy lên thành công.\n",
      "Gửi dữ liệu 322 đã được đẩy lên thành công.\n",
      "Gửi dữ liệu 323 đã được đẩy lên thành công.\n",
      "Gửi dữ liệu 324 đã được đẩy lên thành công.\n",
      "Gửi dữ liệu 325 đã được đẩy lên thành công.\n",
      "Gửi dữ liệu 326 đã được đẩy lên thành công.\n",
      "Gửi dữ liệu 327 đã được đẩy lên thành công.\n",
      "Gửi dữ liệu 328 đã được đẩy lên thành công.\n",
      "Gửi dữ liệu 329 đã được đẩy lên thành công.\n",
      "Gửi dữ liệu 330 đã được đẩy lên thành công.\n",
      "Gửi dữ liệu 331 đã được đẩy lên thành công.\n",
      "Gửi dữ liệu 332 đã được đẩy lên thành công.\n",
      "Gửi dữ liệu 333 đã được đẩy lên thành công.\n",
      "Gửi dữ liệu 334 đã được đẩy lên thành công.\n",
      "Gửi dữ liệu 335 đã được đẩy lên thành công.\n",
      "Gửi dữ liệu 336 đã được đẩy lên thành công.\n",
      "Gửi dữ liệu 337 đã được đẩy lên thành công.\n",
      "Gửi dữ liệu 338 đã được đẩy lên thành công.\n",
      "Gửi dữ liệu 339 đã được đẩy lên thành công.\n",
      "Gửi dữ liệu 340 đã được đẩy lên thành công.\n",
      "Gửi dữ liệu 341 đã được đẩy lên thành công.\n",
      "Gửi dữ liệu 342 đã được đẩy lên thành công.\n",
      "Gửi dữ liệu 343 đã được đẩy lên thành công.\n",
      "Gửi dữ liệu 344 đã được đẩy lên thành công.\n",
      "Gửi dữ liệu 345 đã được đẩy lên thành công.\n",
      "Gửi dữ liệu 346 đã được đẩy lên thành công.\n",
      "Gửi dữ liệu 347 đã được đẩy lên thành công.\n",
      "Gửi dữ liệu 348 đã được đẩy lên thành công.\n",
      "Gửi dữ liệu 349 đã được đẩy lên thành công.\n",
      "Gửi dữ liệu 350 đã được đẩy lên thành công.\n",
      "Gửi dữ liệu 351 đã được đẩy lên thành công.\n",
      "Gửi dữ liệu 352 đã được đẩy lên thành công.\n",
      "Gửi dữ liệu 353 đã được đẩy lên thành công.\n",
      "Gửi dữ liệu 354 đã được đẩy lên thành công.\n",
      "Gửi dữ liệu 355 đã được đẩy lên thành công.\n",
      "Gửi dữ liệu 356 đã được đẩy lên thành công.\n",
      "Gửi dữ liệu 357 đã được đẩy lên thành công.\n",
      "Gửi dữ liệu 358 đã được đẩy lên thành công.\n",
      "Gửi dữ liệu 359 đã được đẩy lên thành công.\n",
      "Gửi dữ liệu 360 đã được đẩy lên thành công.\n",
      "Gửi dữ liệu 361 đã được đẩy lên thành công.\n",
      "Gửi dữ liệu 362 đã được đẩy lên thành công.\n",
      "Gửi dữ liệu 363 đã được đẩy lên thành công.\n",
      "Gửi dữ liệu 364 đã được đẩy lên thành công.\n",
      "Gửi dữ liệu 365 đã được đẩy lên thành công.\n",
      "Gửi dữ liệu 366 đã được đẩy lên thành công.\n",
      "Gửi dữ liệu 367 đã được đẩy lên thành công.\n",
      "Gửi dữ liệu 368 đã được đẩy lên thành công.\n",
      "Gửi dữ liệu 369 đã được đẩy lên thành công.\n",
      "Gửi dữ liệu 370 đã được đẩy lên thành công.\n",
      "Gửi dữ liệu 371 đã được đẩy lên thành công.\n",
      "Gửi dữ liệu 372 đã được đẩy lên thành công.\n",
      "Gửi dữ liệu 373 đã được đẩy lên thành công.\n",
      "Gửi dữ liệu 374 đã được đẩy lên thành công.\n",
      "Gửi dữ liệu 375 đã được đẩy lên thành công.\n",
      "Gửi dữ liệu 376 đã được đẩy lên thành công.\n",
      "Gửi dữ liệu 377 đã được đẩy lên thành công.\n",
      "Gửi dữ liệu 378 đã được đẩy lên thành công.\n",
      "Gửi dữ liệu 379 đã được đẩy lên thành công.\n",
      "Gửi dữ liệu 380 đã được đẩy lên thành công.\n",
      "Gửi dữ liệu 381 đã được đẩy lên thành công.\n",
      "Gửi dữ liệu 382 đã được đẩy lên thành công.\n",
      "Gửi dữ liệu 383 đã được đẩy lên thành công.\n",
      "Gửi dữ liệu 384 đã được đẩy lên thành công.\n",
      "Gửi dữ liệu 385 đã được đẩy lên thành công.\n",
      "Gửi dữ liệu 386 đã được đẩy lên thành công.\n",
      "Gửi dữ liệu 387 đã được đẩy lên thành công.\n",
      "Gửi dữ liệu 388 đã được đẩy lên thành công.\n",
      "Gửi dữ liệu 389 đã được đẩy lên thành công.\n",
      "Gửi dữ liệu 390 đã được đẩy lên thành công.\n",
      "Gửi dữ liệu 391 đã được đẩy lên thành công.\n",
      "Gửi dữ liệu 392 đã được đẩy lên thành công.\n",
      "Gửi dữ liệu 393 đã được đẩy lên thành công.\n",
      "Gửi dữ liệu 394 đã được đẩy lên thành công.\n",
      "Gửi dữ liệu 395 đã được đẩy lên thành công.\n",
      "Gửi dữ liệu 396 đã được đẩy lên thành công.\n",
      "Gửi dữ liệu 397 đã được đẩy lên thành công.\n",
      "Gửi dữ liệu 398 đã được đẩy lên thành công.\n",
      "Gửi dữ liệu 399 đã được đẩy lên thành công.\n",
      "Gửi dữ liệu 400 đã được đẩy lên thành công.\n"
     ]
    }
   ],
   "source": [
    "import requests\n",
    "import pandas as pd\n",
    "import json\n",
    "import time\n",
    "import gzip\n",
    "\n",
    "\n",
    "# Đặt địa chỉ URL của API local\n",
    "local_api_url = 'http://127.0.0.1:5000/api/ie212_o11_group7/endpoint'\n",
    "\n",
    "# Load the data into a DataFrame (you may need to adjust this based on your data structure)\n",
    "df = pd.read_csv('df_ca.csv')\n",
    "\n",
    "x = 0\n",
    "# Lặp qua từng dòng của DataFrame và gửi request POST mỗi 5 giây\n",
    "for index, row in df.iterrows():  \n",
    "    try:\n",
    "        # Convert the row to a dictionary\n",
    "        review = row.to_dict()\n",
    "\n",
    "        # Add a timestamp to the review\n",
    "        review['last_update_time'] = time.time()\n",
    "        \n",
    "        # Convert the review to a JSON string\n",
    "        message_value = json.dumps(review)\n",
    "        \n",
    "        # Gửi request POST đến API local với dữ liệu JSON\n",
    "        response = requests.post(local_api_url, json=message_value)\n",
    "        \n",
    "        # Kiểm tra kết quả của request\n",
    "        if response.status_code == 200:\n",
    "            x += 1\n",
    "            print(f\"Gửi dữ liệu {x} đã được đẩy lên thành công.\")\n",
    "        else:\n",
    "            print(\"Đã có lỗi xảy ra:\", response.status_code, response.text)\n",
    "\n",
    "        # Đợi 5 giây trước khi gửi dòng tiếp theo\n",
    "        time.sleep(1)\n",
    "    \n",
    "    except Exception as e:\n",
    "        print(f\"An error occurred: {e}\")\n"
   ]
  },
  {
   "cell_type": "code",
   "execution_count": 144,
   "metadata": {},
   "outputs": [
    {
     "name": "stdout",
     "output_type": "stream",
     "text": [
      "    year  0_star  1_star  2_star  3_star  4_star  5_star  total_stars  \\\n",
      "0   1990       0       0       2       9     102      25          138   \n",
      "1   2002       0       0       0       2       2       0            4   \n",
      "2   2003       0       0       1       0       2       1            4   \n",
      "3   2004       0       0       2      20      48      26           96   \n",
      "4   2005       0       0       6      26      73      29          134   \n",
      "5   2006       0       0       6      45     119      37          207   \n",
      "6   2007       0       5      15      46     109      74          249   \n",
      "7   2008       0      43      28      62     111     127          371   \n",
      "8   2009       0      76      38      81     258     272          725   \n",
      "9   2010       0     210     209     495    1156    1392         3462   \n",
      "10  2011       0     708     529    1071    2641    3383         8332   \n",
      "11  2012       0     581    1914    3076    6066    8864        20501   \n",
      "12  2013       1    2019    3211    5196    9767   14171        34365   \n",
      "13  2014       0    1204     498     747    1644    3573         7666   \n",
      "\n",
      "    avg_star  total_reviews  \n",
      "0   4.086957            138  \n",
      "1   3.500000              4  \n",
      "2   3.750000              4  \n",
      "3   4.020833             96  \n",
      "4   3.932836            134  \n",
      "5   3.903382            207  \n",
      "6   3.931727            249  \n",
      "7   3.676550            371  \n",
      "8   3.844138            725  \n",
      "9   3.956384           3462  \n",
      "10  3.895583           8332  \n",
      "11  4.010585          20501  \n",
      "12  3.897919          34365  \n",
      "13  3.767545           7666  \n"
     ]
    }
   ],
   "source": [
    "import pandas as pd\n",
    "\n",
    "# Đường dẫn tuyệt đối của file CSV trên máy tính của bạn\n",
    "csv_file_path = 'df_ca.csv'\n",
    "\n",
    "# Đọc dữ liệu từ file CSV\n",
    "df = pd.read_csv(csv_file_path)\n",
    "data = pd.DataFrame(df)\n",
    "\n",
    "# Creating DataFrame\n",
    "reviews_temp_df = pd.DataFrame(data)\n",
    "\n",
    "# Convert Unix timestamps to datetime objects\n",
    "reviews_temp_df['review_date'] = pd.to_datetime(reviews_temp_df['unixReviewTime'], unit='s')\n",
    "\n",
    "# Extract the year from the datetime objects and create a 'year' column\n",
    "reviews_temp_df['year'] = reviews_temp_df['review_date'].dt.year\n",
    "reviews_temp_df['month'] = reviews_temp_df['review_date'].dt.month\n",
    "\n",
    "# Creating columns for each rating\n",
    "for i in range(6):\n",
    "    reviews_temp_df[f'{i}_star'] = reviews_temp_df['rating'] == i\n",
    "\n",
    "# Creating columns for the total number of stars and reviews\n",
    "reviews_temp_df['total_stars'] = reviews_temp_df.loc[:, '0_star':'5_star'].sum(axis=1)\n",
    "reviews_temp_df['total_reviews'] = reviews_temp_df['reviewText'].notna().astype(int)\n",
    "\n",
    "# Grouping by year and calculating the sum for each group\n",
    "result_df = reviews_temp_df.groupby('year').agg({\n",
    "    '0_star': 'sum',\n",
    "    '1_star': 'sum',\n",
    "    '2_star': 'sum',\n",
    "    '3_star': 'sum',\n",
    "    '4_star': 'sum',\n",
    "    '5_star': 'sum',\n",
    "    'total_stars': 'sum',\n",
    "    'rating': 'mean',\n",
    "    'total_reviews': 'sum'\n",
    "}).reset_index()\n",
    "\n",
    "# Renaming the 'avg_rating' column for clarity\n",
    "result_df = result_df.rename(columns={'rating': 'avg_star'})\n",
    "\n",
    "# Displaying the result\n",
    "print(result_df)\n"
   ]
  },
  {
   "cell_type": "code",
   "execution_count": 112,
   "metadata": {},
   "outputs": [
    {
     "data": {
      "application/vnd.plotly.v1+json": {
       "config": {
        "plotlyServerURL": "https://plot.ly"
       },
       "data": [
        {
         "alignmentgroup": "True",
         "hovertemplate": "Rating=0_star<br>year=%{x}<br>Số lượng=%{y}<extra></extra>",
         "legendgroup": "0_star",
         "marker": {
          "color": "#fff363",
          "pattern": {
           "shape": ""
          }
         },
         "name": "0_star",
         "offsetgroup": "0_star",
         "orientation": "v",
         "showlegend": true,
         "textposition": "auto",
         "type": "bar",
         "x": [
          2010,
          2011,
          2012,
          2013,
          2014
         ],
         "xaxis": "x",
         "y": [
          0,
          0,
          0,
          1,
          0
         ],
         "yaxis": "y"
        },
        {
         "alignmentgroup": "True",
         "hovertemplate": "Rating=1_star<br>year=%{x}<br>Số lượng=%{y}<extra></extra>",
         "legendgroup": "1_star",
         "marker": {
          "color": "#fde725",
          "pattern": {
           "shape": ""
          }
         },
         "name": "1_star",
         "offsetgroup": "1_star",
         "orientation": "v",
         "showlegend": true,
         "textposition": "auto",
         "type": "bar",
         "x": [
          2010,
          2011,
          2012,
          2013,
          2014
         ],
         "xaxis": "x",
         "y": [
          210,
          708,
          581,
          2019,
          1204
         ],
         "yaxis": "y"
        },
        {
         "alignmentgroup": "True",
         "hovertemplate": "Rating=2_star<br>year=%{x}<br>Số lượng=%{y}<extra></extra>",
         "legendgroup": "2_star",
         "marker": {
          "color": "#9fda3a",
          "pattern": {
           "shape": ""
          }
         },
         "name": "2_star",
         "offsetgroup": "2_star",
         "orientation": "v",
         "showlegend": true,
         "textposition": "auto",
         "type": "bar",
         "x": [
          2010,
          2011,
          2012,
          2013,
          2014
         ],
         "xaxis": "x",
         "y": [
          209,
          529,
          1914,
          3211,
          498
         ],
         "yaxis": "y"
        },
        {
         "alignmentgroup": "True",
         "hovertemplate": "Rating=3_star<br>year=%{x}<br>Số lượng=%{y}<extra></extra>",
         "legendgroup": "3_star",
         "marker": {
          "color": "#1fa187",
          "pattern": {
           "shape": ""
          }
         },
         "name": "3_star",
         "offsetgroup": "3_star",
         "orientation": "v",
         "showlegend": true,
         "textposition": "auto",
         "type": "bar",
         "x": [
          2010,
          2011,
          2012,
          2013,
          2014
         ],
         "xaxis": "x",
         "y": [
          495,
          1071,
          3076,
          5196,
          747
         ],
         "yaxis": "y"
        },
        {
         "alignmentgroup": "True",
         "hovertemplate": "Rating=4_star<br>year=%{x}<br>Số lượng=%{y}<extra></extra>",
         "legendgroup": "4_star",
         "marker": {
          "color": "#004ebe",
          "pattern": {
           "shape": ""
          }
         },
         "name": "4_star",
         "offsetgroup": "4_star",
         "orientation": "v",
         "showlegend": true,
         "textposition": "auto",
         "type": "bar",
         "x": [
          2010,
          2011,
          2012,
          2013,
          2014
         ],
         "xaxis": "x",
         "y": [
          1156,
          2641,
          6066,
          9767,
          1644
         ],
         "yaxis": "y"
        },
        {
         "alignmentgroup": "True",
         "hovertemplate": "Rating=5_star<br>year=%{x}<br>Số lượng=%{y}<extra></extra>",
         "legendgroup": "5_star",
         "marker": {
          "color": "#002f72",
          "pattern": {
           "shape": ""
          }
         },
         "name": "5_star",
         "offsetgroup": "5_star",
         "orientation": "v",
         "showlegend": true,
         "textposition": "auto",
         "type": "bar",
         "x": [
          2010,
          2011,
          2012,
          2013,
          2014
         ],
         "xaxis": "x",
         "y": [
          1392,
          3383,
          8864,
          14171,
          3573
         ],
         "yaxis": "y"
        },
        {
         "hovertemplate": "year=%{x}<br>total_reviews=%{y}<extra></extra>",
         "legendgroup": "",
         "line": {
          "color": "#44d2e6",
          "dash": "solid",
          "shape": "linear",
          "width": 2
         },
         "marker": {
          "color": "#44d2e6",
          "line": {
           "color": "#44d2e6",
           "width": 1
          },
          "size": 16,
          "symbol": "circle"
         },
         "mode": "markers+lines",
         "name": "Total Reviews",
         "orientation": "v",
         "showlegend": false,
         "type": "scatter",
         "x": [
          2010,
          2011,
          2012,
          2013,
          2014
         ],
         "xaxis": "x",
         "y": [
          3462,
          8332,
          20501,
          34365,
          7666
         ],
         "yaxis": "y"
        },
        {
         "hovertemplate": "year=%{x}<br>avg_star=%{y}<extra></extra>",
         "legendgroup": "",
         "line": {
          "color": "#f86134",
          "dash": "solid",
          "shape": "linear",
          "width": 2
         },
         "marker": {
          "color": "#f86134",
          "line": {
           "color": "#f86134",
           "width": 1
          },
          "size": 16,
          "symbol": "circle"
         },
         "mode": "markers+lines",
         "name": "Average Rating",
         "orientation": "v",
         "showlegend": false,
         "type": "scatter",
         "x": [
          2010,
          2011,
          2012,
          2013,
          2014
         ],
         "xaxis": "x",
         "y": [
          3.9563835932986713,
          3.8955832933269323,
          4.010584849519535,
          3.8979193947330133,
          3.767545003913384
         ],
         "yaxis": "y2"
        }
       ],
       "layout": {
        "barmode": "relative",
        "height": 1000,
        "legend": {
         "orientation": "h",
         "title": {
          "text": ""
         },
         "tracegroupgap": 0,
         "x": 0.1,
         "y": -0.15
        },
        "template": {
         "data": {
          "bar": [
           {
            "error_x": {
             "color": "#2a3f5f"
            },
            "error_y": {
             "color": "#2a3f5f"
            },
            "marker": {
             "line": {
              "color": "#E5ECF6",
              "width": 0.5
             },
             "pattern": {
              "fillmode": "overlay",
              "size": 10,
              "solidity": 0.2
             }
            },
            "type": "bar"
           }
          ],
          "barpolar": [
           {
            "marker": {
             "line": {
              "color": "#E5ECF6",
              "width": 0.5
             },
             "pattern": {
              "fillmode": "overlay",
              "size": 10,
              "solidity": 0.2
             }
            },
            "type": "barpolar"
           }
          ],
          "carpet": [
           {
            "aaxis": {
             "endlinecolor": "#2a3f5f",
             "gridcolor": "white",
             "linecolor": "white",
             "minorgridcolor": "white",
             "startlinecolor": "#2a3f5f"
            },
            "baxis": {
             "endlinecolor": "#2a3f5f",
             "gridcolor": "white",
             "linecolor": "white",
             "minorgridcolor": "white",
             "startlinecolor": "#2a3f5f"
            },
            "type": "carpet"
           }
          ],
          "choropleth": [
           {
            "colorbar": {
             "outlinewidth": 0,
             "ticks": ""
            },
            "type": "choropleth"
           }
          ],
          "contour": [
           {
            "colorbar": {
             "outlinewidth": 0,
             "ticks": ""
            },
            "colorscale": [
             [
              0,
              "#0d0887"
             ],
             [
              0.1111111111111111,
              "#46039f"
             ],
             [
              0.2222222222222222,
              "#7201a8"
             ],
             [
              0.3333333333333333,
              "#9c179e"
             ],
             [
              0.4444444444444444,
              "#bd3786"
             ],
             [
              0.5555555555555556,
              "#d8576b"
             ],
             [
              0.6666666666666666,
              "#ed7953"
             ],
             [
              0.7777777777777778,
              "#fb9f3a"
             ],
             [
              0.8888888888888888,
              "#fdca26"
             ],
             [
              1,
              "#f0f921"
             ]
            ],
            "type": "contour"
           }
          ],
          "contourcarpet": [
           {
            "colorbar": {
             "outlinewidth": 0,
             "ticks": ""
            },
            "type": "contourcarpet"
           }
          ],
          "heatmap": [
           {
            "colorbar": {
             "outlinewidth": 0,
             "ticks": ""
            },
            "colorscale": [
             [
              0,
              "#0d0887"
             ],
             [
              0.1111111111111111,
              "#46039f"
             ],
             [
              0.2222222222222222,
              "#7201a8"
             ],
             [
              0.3333333333333333,
              "#9c179e"
             ],
             [
              0.4444444444444444,
              "#bd3786"
             ],
             [
              0.5555555555555556,
              "#d8576b"
             ],
             [
              0.6666666666666666,
              "#ed7953"
             ],
             [
              0.7777777777777778,
              "#fb9f3a"
             ],
             [
              0.8888888888888888,
              "#fdca26"
             ],
             [
              1,
              "#f0f921"
             ]
            ],
            "type": "heatmap"
           }
          ],
          "heatmapgl": [
           {
            "colorbar": {
             "outlinewidth": 0,
             "ticks": ""
            },
            "colorscale": [
             [
              0,
              "#0d0887"
             ],
             [
              0.1111111111111111,
              "#46039f"
             ],
             [
              0.2222222222222222,
              "#7201a8"
             ],
             [
              0.3333333333333333,
              "#9c179e"
             ],
             [
              0.4444444444444444,
              "#bd3786"
             ],
             [
              0.5555555555555556,
              "#d8576b"
             ],
             [
              0.6666666666666666,
              "#ed7953"
             ],
             [
              0.7777777777777778,
              "#fb9f3a"
             ],
             [
              0.8888888888888888,
              "#fdca26"
             ],
             [
              1,
              "#f0f921"
             ]
            ],
            "type": "heatmapgl"
           }
          ],
          "histogram": [
           {
            "marker": {
             "pattern": {
              "fillmode": "overlay",
              "size": 10,
              "solidity": 0.2
             }
            },
            "type": "histogram"
           }
          ],
          "histogram2d": [
           {
            "colorbar": {
             "outlinewidth": 0,
             "ticks": ""
            },
            "colorscale": [
             [
              0,
              "#0d0887"
             ],
             [
              0.1111111111111111,
              "#46039f"
             ],
             [
              0.2222222222222222,
              "#7201a8"
             ],
             [
              0.3333333333333333,
              "#9c179e"
             ],
             [
              0.4444444444444444,
              "#bd3786"
             ],
             [
              0.5555555555555556,
              "#d8576b"
             ],
             [
              0.6666666666666666,
              "#ed7953"
             ],
             [
              0.7777777777777778,
              "#fb9f3a"
             ],
             [
              0.8888888888888888,
              "#fdca26"
             ],
             [
              1,
              "#f0f921"
             ]
            ],
            "type": "histogram2d"
           }
          ],
          "histogram2dcontour": [
           {
            "colorbar": {
             "outlinewidth": 0,
             "ticks": ""
            },
            "colorscale": [
             [
              0,
              "#0d0887"
             ],
             [
              0.1111111111111111,
              "#46039f"
             ],
             [
              0.2222222222222222,
              "#7201a8"
             ],
             [
              0.3333333333333333,
              "#9c179e"
             ],
             [
              0.4444444444444444,
              "#bd3786"
             ],
             [
              0.5555555555555556,
              "#d8576b"
             ],
             [
              0.6666666666666666,
              "#ed7953"
             ],
             [
              0.7777777777777778,
              "#fb9f3a"
             ],
             [
              0.8888888888888888,
              "#fdca26"
             ],
             [
              1,
              "#f0f921"
             ]
            ],
            "type": "histogram2dcontour"
           }
          ],
          "mesh3d": [
           {
            "colorbar": {
             "outlinewidth": 0,
             "ticks": ""
            },
            "type": "mesh3d"
           }
          ],
          "parcoords": [
           {
            "line": {
             "colorbar": {
              "outlinewidth": 0,
              "ticks": ""
             }
            },
            "type": "parcoords"
           }
          ],
          "pie": [
           {
            "automargin": true,
            "type": "pie"
           }
          ],
          "scatter": [
           {
            "fillpattern": {
             "fillmode": "overlay",
             "size": 10,
             "solidity": 0.2
            },
            "type": "scatter"
           }
          ],
          "scatter3d": [
           {
            "line": {
             "colorbar": {
              "outlinewidth": 0,
              "ticks": ""
             }
            },
            "marker": {
             "colorbar": {
              "outlinewidth": 0,
              "ticks": ""
             }
            },
            "type": "scatter3d"
           }
          ],
          "scattercarpet": [
           {
            "marker": {
             "colorbar": {
              "outlinewidth": 0,
              "ticks": ""
             }
            },
            "type": "scattercarpet"
           }
          ],
          "scattergeo": [
           {
            "marker": {
             "colorbar": {
              "outlinewidth": 0,
              "ticks": ""
             }
            },
            "type": "scattergeo"
           }
          ],
          "scattergl": [
           {
            "marker": {
             "colorbar": {
              "outlinewidth": 0,
              "ticks": ""
             }
            },
            "type": "scattergl"
           }
          ],
          "scattermapbox": [
           {
            "marker": {
             "colorbar": {
              "outlinewidth": 0,
              "ticks": ""
             }
            },
            "type": "scattermapbox"
           }
          ],
          "scatterpolar": [
           {
            "marker": {
             "colorbar": {
              "outlinewidth": 0,
              "ticks": ""
             }
            },
            "type": "scatterpolar"
           }
          ],
          "scatterpolargl": [
           {
            "marker": {
             "colorbar": {
              "outlinewidth": 0,
              "ticks": ""
             }
            },
            "type": "scatterpolargl"
           }
          ],
          "scatterternary": [
           {
            "marker": {
             "colorbar": {
              "outlinewidth": 0,
              "ticks": ""
             }
            },
            "type": "scatterternary"
           }
          ],
          "surface": [
           {
            "colorbar": {
             "outlinewidth": 0,
             "ticks": ""
            },
            "colorscale": [
             [
              0,
              "#0d0887"
             ],
             [
              0.1111111111111111,
              "#46039f"
             ],
             [
              0.2222222222222222,
              "#7201a8"
             ],
             [
              0.3333333333333333,
              "#9c179e"
             ],
             [
              0.4444444444444444,
              "#bd3786"
             ],
             [
              0.5555555555555556,
              "#d8576b"
             ],
             [
              0.6666666666666666,
              "#ed7953"
             ],
             [
              0.7777777777777778,
              "#fb9f3a"
             ],
             [
              0.8888888888888888,
              "#fdca26"
             ],
             [
              1,
              "#f0f921"
             ]
            ],
            "type": "surface"
           }
          ],
          "table": [
           {
            "cells": {
             "fill": {
              "color": "#EBF0F8"
             },
             "line": {
              "color": "white"
             }
            },
            "header": {
             "fill": {
              "color": "#C8D4E3"
             },
             "line": {
              "color": "white"
             }
            },
            "type": "table"
           }
          ]
         },
         "layout": {
          "annotationdefaults": {
           "arrowcolor": "#2a3f5f",
           "arrowhead": 0,
           "arrowwidth": 1
          },
          "autotypenumbers": "strict",
          "coloraxis": {
           "colorbar": {
            "outlinewidth": 0,
            "ticks": ""
           }
          },
          "colorscale": {
           "diverging": [
            [
             0,
             "#8e0152"
            ],
            [
             0.1,
             "#c51b7d"
            ],
            [
             0.2,
             "#de77ae"
            ],
            [
             0.3,
             "#f1b6da"
            ],
            [
             0.4,
             "#fde0ef"
            ],
            [
             0.5,
             "#f7f7f7"
            ],
            [
             0.6,
             "#e6f5d0"
            ],
            [
             0.7,
             "#b8e186"
            ],
            [
             0.8,
             "#7fbc41"
            ],
            [
             0.9,
             "#4d9221"
            ],
            [
             1,
             "#276419"
            ]
           ],
           "sequential": [
            [
             0,
             "#0d0887"
            ],
            [
             0.1111111111111111,
             "#46039f"
            ],
            [
             0.2222222222222222,
             "#7201a8"
            ],
            [
             0.3333333333333333,
             "#9c179e"
            ],
            [
             0.4444444444444444,
             "#bd3786"
            ],
            [
             0.5555555555555556,
             "#d8576b"
            ],
            [
             0.6666666666666666,
             "#ed7953"
            ],
            [
             0.7777777777777778,
             "#fb9f3a"
            ],
            [
             0.8888888888888888,
             "#fdca26"
            ],
            [
             1,
             "#f0f921"
            ]
           ],
           "sequentialminus": [
            [
             0,
             "#0d0887"
            ],
            [
             0.1111111111111111,
             "#46039f"
            ],
            [
             0.2222222222222222,
             "#7201a8"
            ],
            [
             0.3333333333333333,
             "#9c179e"
            ],
            [
             0.4444444444444444,
             "#bd3786"
            ],
            [
             0.5555555555555556,
             "#d8576b"
            ],
            [
             0.6666666666666666,
             "#ed7953"
            ],
            [
             0.7777777777777778,
             "#fb9f3a"
            ],
            [
             0.8888888888888888,
             "#fdca26"
            ],
            [
             1,
             "#f0f921"
            ]
           ]
          },
          "colorway": [
           "#636efa",
           "#EF553B",
           "#00cc96",
           "#ab63fa",
           "#FFA15A",
           "#19d3f3",
           "#FF6692",
           "#B6E880",
           "#FF97FF",
           "#FECB52"
          ],
          "font": {
           "color": "#2a3f5f"
          },
          "geo": {
           "bgcolor": "white",
           "lakecolor": "white",
           "landcolor": "#E5ECF6",
           "showlakes": true,
           "showland": true,
           "subunitcolor": "white"
          },
          "hoverlabel": {
           "align": "left"
          },
          "hovermode": "closest",
          "mapbox": {
           "style": "light"
          },
          "paper_bgcolor": "white",
          "plot_bgcolor": "#E5ECF6",
          "polar": {
           "angularaxis": {
            "gridcolor": "white",
            "linecolor": "white",
            "ticks": ""
           },
           "bgcolor": "#E5ECF6",
           "radialaxis": {
            "gridcolor": "white",
            "linecolor": "white",
            "ticks": ""
           }
          },
          "scene": {
           "xaxis": {
            "backgroundcolor": "#E5ECF6",
            "gridcolor": "white",
            "gridwidth": 2,
            "linecolor": "white",
            "showbackground": true,
            "ticks": "",
            "zerolinecolor": "white"
           },
           "yaxis": {
            "backgroundcolor": "#E5ECF6",
            "gridcolor": "white",
            "gridwidth": 2,
            "linecolor": "white",
            "showbackground": true,
            "ticks": "",
            "zerolinecolor": "white"
           },
           "zaxis": {
            "backgroundcolor": "#E5ECF6",
            "gridcolor": "white",
            "gridwidth": 2,
            "linecolor": "white",
            "showbackground": true,
            "ticks": "",
            "zerolinecolor": "white"
           }
          },
          "shapedefaults": {
           "line": {
            "color": "#2a3f5f"
           }
          },
          "ternary": {
           "aaxis": {
            "gridcolor": "white",
            "linecolor": "white",
            "ticks": ""
           },
           "baxis": {
            "gridcolor": "white",
            "linecolor": "white",
            "ticks": ""
           },
           "bgcolor": "#E5ECF6",
           "caxis": {
            "gridcolor": "white",
            "linecolor": "white",
            "ticks": ""
           }
          },
          "title": {
           "x": 0.05
          },
          "xaxis": {
           "automargin": true,
           "gridcolor": "white",
           "linecolor": "white",
           "ticks": "",
           "title": {
            "standoff": 15
           },
           "zerolinecolor": "white",
           "zerolinewidth": 2
          },
          "yaxis": {
           "automargin": true,
           "gridcolor": "white",
           "linecolor": "white",
           "ticks": "",
           "title": {
            "standoff": 15
           },
           "zerolinecolor": "white",
           "zerolinewidth": 2
          }
         }
        },
        "title": {
         "text": "Combined Plot: Distribution of Ratings, Average Rating, and Total Reviews Over Years"
        },
        "xaxis": {
         "anchor": "y",
         "domain": [
          0,
          1
         ],
         "title": {
          "text": "Năm"
         }
        },
        "yaxis": {
         "anchor": "x",
         "domain": [
          0,
          1
         ],
         "title": {
          "text": "Số lượng đánh giá"
         }
        },
        "yaxis2": {
         "overlaying": "y",
         "range": [
          0,
          5
         ],
         "side": "right",
         "title": {
          "text": "Điểm đánh giá trung bình"
         }
        }
       }
      }
     },
     "metadata": {},
     "output_type": "display_data"
    }
   ],
   "source": [
    "import plotly.express as px\n",
    "\n",
    "# Filter data for years from 2010 onwards\n",
    "dataframe_input = result_df[result_df['year'] >= 2010]\n",
    "#   color_discrete_sequence=['#142459', '#002f72' '#0045a5' '#176ba0', '#19aade', '#1bd4d4', '#1de4bd']\n",
    "# Plotting the distribution of ratings\n",
    "fig1 = px.bar(dataframe_input, x='year', y=[f'{i}_star' for i in range(6)],\n",
    "              labels={'value': 'Số lượng', 'variable': 'Rating'},\n",
    "              title='Combined Plot: Distribution of Ratings, Average Rating, and Total Reviews Over Years',\n",
    "              color_discrete_sequence=['#fff363', '#fde725', '#9fda3a', '#1fa187', '#004ebe', '#002f72'],)\n",
    "                \n",
    "\n",
    "# Adding trace for total reviews with blue color and legend label\n",
    "total_reviews_trace = px.line(dataframe_input, x='year', y='total_reviews',\n",
    "                              labels={'value': 'Total Reviews', 'variable': 'Metric'},\n",
    "                              line_shape='linear', title='')\n",
    "total_reviews_trace.update_traces(line=dict(color='#44d2e6', width=2, dash='solid'), name='Total Reviews')\n",
    "\n",
    "# Adding markers on the 'Total Reviews' line\n",
    "total_reviews_trace.update_traces(mode='markers+lines', marker=dict(symbol='circle', size=16, color='#44d2e6', line=dict(color='#44d2e6', width=1)))\n",
    "fig1.add_trace(total_reviews_trace.data[0])\n",
    "\n",
    "# Adding trace for average rating on the secondary Y-axis with yellow color and legend label\n",
    "avg_star_trace = px.line(dataframe_input, x='year', y='avg_star',\n",
    "                         labels={'value': 'Average Rating', 'variable': 'Metric'},\n",
    "                         line_shape='linear', title='')\n",
    "avg_star_trace.update_traces(yaxis=\"y2\", line=dict(color='#f86134', width=2, dash='solid'), name='Average Rating')\n",
    "\n",
    "# Adding markers on the 'Average Rating' line\n",
    "avg_star_trace.update_traces(mode='markers+lines', marker=dict(symbol='circle', size=16, color='#f86134', line=dict(color='#f86134', width=1)))\n",
    "fig1.add_trace(avg_star_trace.data[0])\n",
    "\n",
    "# Updating layout\n",
    "fig1.update_layout(\n",
    "    xaxis=dict(title='Năm'),\n",
    "    yaxis=dict(title='Số lượng đánh giá'),\n",
    "    yaxis2=dict(title='Điểm đánh giá trung bình', overlaying='y', side='right', range=[0, 5]),\n",
    "    legend=dict(title='', orientation=\"h\", x=0.1, y=-0.15),\n",
    "    height=1000,\n",
    ")\n",
    "\n",
    "# Showing the plot\n",
    "fig1.show()\n"
   ]
  },
  {
   "cell_type": "code",
   "execution_count": 113,
   "metadata": {},
   "outputs": [
    {
     "name": "stdout",
     "output_type": "stream",
     "text": [
      "           index             0\n",
      "0         0_star      1.000000\n",
      "1         1_star   4846.000000\n",
      "2         2_star   6459.000000\n",
      "3         3_star  10876.000000\n",
      "4         4_star  22098.000000\n",
      "5         5_star  31974.000000\n",
      "6    total_stars  76254.000000\n",
      "7         rating      3.916568\n",
      "8  total_reviews  76254.000000\n"
     ]
    }
   ],
   "source": [
    "# Grouping by year and calculating the sum for each group\n",
    "result_df = reviews_temp_df.agg({\n",
    "    '0_star': 'sum',\n",
    "    '1_star': 'sum',\n",
    "    '2_star': 'sum',\n",
    "    '3_star': 'sum',\n",
    "    '4_star': 'sum',\n",
    "    '5_star': 'sum',\n",
    "    'total_stars': 'sum',\n",
    "    'rating': 'mean',\n",
    "    'total_reviews': 'sum'\n",
    "}).reset_index()\n",
    "\n",
    "print(result_df)"
   ]
  },
  {
   "cell_type": "code",
   "execution_count": 115,
   "metadata": {},
   "outputs": [
    {
     "data": {
      "application/vnd.plotly.v1+json": {
       "config": {
        "plotlyServerURL": "https://plot.ly"
       },
       "data": [
        {
         "direction": "clockwise",
         "domain": {
          "x": [
           0,
           1
          ],
          "y": [
           0,
           1
          ]
         },
         "hole": 0.4,
         "hovertemplate": "label=%{label}<br>value=%{value}<extra></extra>",
         "labels": [
          "5_star",
          "4_star",
          "3_star",
          "2_star",
          "1_star",
          "0_star"
         ],
         "legendgroup": "",
         "name": "",
         "showlegend": true,
         "sort": false,
         "textfont": {
          "size": 14
         },
         "textposition": "inside",
         "type": "pie",
         "values": [
          31974,
          22098,
          10876,
          6459,
          4846,
          1
         ]
        }
       ],
       "layout": {
        "annotations": [
         {
          "font": {
           "color": "#fbb040",
           "size": 24
          },
          "showarrow": false,
          "text": "3.92 ★",
          "x": 0.5,
          "y": 0.5
         }
        ],
        "legend": {
         "tracegroupgap": 0
        },
        "piecolorway": [
         "#002f72",
         "#004ebe",
         "#1fa187",
         "#9fda3a",
         "#fde725",
         "#fff363"
        ],
        "template": {
         "data": {
          "bar": [
           {
            "error_x": {
             "color": "#2a3f5f"
            },
            "error_y": {
             "color": "#2a3f5f"
            },
            "marker": {
             "line": {
              "color": "#E5ECF6",
              "width": 0.5
             },
             "pattern": {
              "fillmode": "overlay",
              "size": 10,
              "solidity": 0.2
             }
            },
            "type": "bar"
           }
          ],
          "barpolar": [
           {
            "marker": {
             "line": {
              "color": "#E5ECF6",
              "width": 0.5
             },
             "pattern": {
              "fillmode": "overlay",
              "size": 10,
              "solidity": 0.2
             }
            },
            "type": "barpolar"
           }
          ],
          "carpet": [
           {
            "aaxis": {
             "endlinecolor": "#2a3f5f",
             "gridcolor": "white",
             "linecolor": "white",
             "minorgridcolor": "white",
             "startlinecolor": "#2a3f5f"
            },
            "baxis": {
             "endlinecolor": "#2a3f5f",
             "gridcolor": "white",
             "linecolor": "white",
             "minorgridcolor": "white",
             "startlinecolor": "#2a3f5f"
            },
            "type": "carpet"
           }
          ],
          "choropleth": [
           {
            "colorbar": {
             "outlinewidth": 0,
             "ticks": ""
            },
            "type": "choropleth"
           }
          ],
          "contour": [
           {
            "colorbar": {
             "outlinewidth": 0,
             "ticks": ""
            },
            "colorscale": [
             [
              0,
              "#0d0887"
             ],
             [
              0.1111111111111111,
              "#46039f"
             ],
             [
              0.2222222222222222,
              "#7201a8"
             ],
             [
              0.3333333333333333,
              "#9c179e"
             ],
             [
              0.4444444444444444,
              "#bd3786"
             ],
             [
              0.5555555555555556,
              "#d8576b"
             ],
             [
              0.6666666666666666,
              "#ed7953"
             ],
             [
              0.7777777777777778,
              "#fb9f3a"
             ],
             [
              0.8888888888888888,
              "#fdca26"
             ],
             [
              1,
              "#f0f921"
             ]
            ],
            "type": "contour"
           }
          ],
          "contourcarpet": [
           {
            "colorbar": {
             "outlinewidth": 0,
             "ticks": ""
            },
            "type": "contourcarpet"
           }
          ],
          "heatmap": [
           {
            "colorbar": {
             "outlinewidth": 0,
             "ticks": ""
            },
            "colorscale": [
             [
              0,
              "#0d0887"
             ],
             [
              0.1111111111111111,
              "#46039f"
             ],
             [
              0.2222222222222222,
              "#7201a8"
             ],
             [
              0.3333333333333333,
              "#9c179e"
             ],
             [
              0.4444444444444444,
              "#bd3786"
             ],
             [
              0.5555555555555556,
              "#d8576b"
             ],
             [
              0.6666666666666666,
              "#ed7953"
             ],
             [
              0.7777777777777778,
              "#fb9f3a"
             ],
             [
              0.8888888888888888,
              "#fdca26"
             ],
             [
              1,
              "#f0f921"
             ]
            ],
            "type": "heatmap"
           }
          ],
          "heatmapgl": [
           {
            "colorbar": {
             "outlinewidth": 0,
             "ticks": ""
            },
            "colorscale": [
             [
              0,
              "#0d0887"
             ],
             [
              0.1111111111111111,
              "#46039f"
             ],
             [
              0.2222222222222222,
              "#7201a8"
             ],
             [
              0.3333333333333333,
              "#9c179e"
             ],
             [
              0.4444444444444444,
              "#bd3786"
             ],
             [
              0.5555555555555556,
              "#d8576b"
             ],
             [
              0.6666666666666666,
              "#ed7953"
             ],
             [
              0.7777777777777778,
              "#fb9f3a"
             ],
             [
              0.8888888888888888,
              "#fdca26"
             ],
             [
              1,
              "#f0f921"
             ]
            ],
            "type": "heatmapgl"
           }
          ],
          "histogram": [
           {
            "marker": {
             "pattern": {
              "fillmode": "overlay",
              "size": 10,
              "solidity": 0.2
             }
            },
            "type": "histogram"
           }
          ],
          "histogram2d": [
           {
            "colorbar": {
             "outlinewidth": 0,
             "ticks": ""
            },
            "colorscale": [
             [
              0,
              "#0d0887"
             ],
             [
              0.1111111111111111,
              "#46039f"
             ],
             [
              0.2222222222222222,
              "#7201a8"
             ],
             [
              0.3333333333333333,
              "#9c179e"
             ],
             [
              0.4444444444444444,
              "#bd3786"
             ],
             [
              0.5555555555555556,
              "#d8576b"
             ],
             [
              0.6666666666666666,
              "#ed7953"
             ],
             [
              0.7777777777777778,
              "#fb9f3a"
             ],
             [
              0.8888888888888888,
              "#fdca26"
             ],
             [
              1,
              "#f0f921"
             ]
            ],
            "type": "histogram2d"
           }
          ],
          "histogram2dcontour": [
           {
            "colorbar": {
             "outlinewidth": 0,
             "ticks": ""
            },
            "colorscale": [
             [
              0,
              "#0d0887"
             ],
             [
              0.1111111111111111,
              "#46039f"
             ],
             [
              0.2222222222222222,
              "#7201a8"
             ],
             [
              0.3333333333333333,
              "#9c179e"
             ],
             [
              0.4444444444444444,
              "#bd3786"
             ],
             [
              0.5555555555555556,
              "#d8576b"
             ],
             [
              0.6666666666666666,
              "#ed7953"
             ],
             [
              0.7777777777777778,
              "#fb9f3a"
             ],
             [
              0.8888888888888888,
              "#fdca26"
             ],
             [
              1,
              "#f0f921"
             ]
            ],
            "type": "histogram2dcontour"
           }
          ],
          "mesh3d": [
           {
            "colorbar": {
             "outlinewidth": 0,
             "ticks": ""
            },
            "type": "mesh3d"
           }
          ],
          "parcoords": [
           {
            "line": {
             "colorbar": {
              "outlinewidth": 0,
              "ticks": ""
             }
            },
            "type": "parcoords"
           }
          ],
          "pie": [
           {
            "automargin": true,
            "type": "pie"
           }
          ],
          "scatter": [
           {
            "fillpattern": {
             "fillmode": "overlay",
             "size": 10,
             "solidity": 0.2
            },
            "type": "scatter"
           }
          ],
          "scatter3d": [
           {
            "line": {
             "colorbar": {
              "outlinewidth": 0,
              "ticks": ""
             }
            },
            "marker": {
             "colorbar": {
              "outlinewidth": 0,
              "ticks": ""
             }
            },
            "type": "scatter3d"
           }
          ],
          "scattercarpet": [
           {
            "marker": {
             "colorbar": {
              "outlinewidth": 0,
              "ticks": ""
             }
            },
            "type": "scattercarpet"
           }
          ],
          "scattergeo": [
           {
            "marker": {
             "colorbar": {
              "outlinewidth": 0,
              "ticks": ""
             }
            },
            "type": "scattergeo"
           }
          ],
          "scattergl": [
           {
            "marker": {
             "colorbar": {
              "outlinewidth": 0,
              "ticks": ""
             }
            },
            "type": "scattergl"
           }
          ],
          "scattermapbox": [
           {
            "marker": {
             "colorbar": {
              "outlinewidth": 0,
              "ticks": ""
             }
            },
            "type": "scattermapbox"
           }
          ],
          "scatterpolar": [
           {
            "marker": {
             "colorbar": {
              "outlinewidth": 0,
              "ticks": ""
             }
            },
            "type": "scatterpolar"
           }
          ],
          "scatterpolargl": [
           {
            "marker": {
             "colorbar": {
              "outlinewidth": 0,
              "ticks": ""
             }
            },
            "type": "scatterpolargl"
           }
          ],
          "scatterternary": [
           {
            "marker": {
             "colorbar": {
              "outlinewidth": 0,
              "ticks": ""
             }
            },
            "type": "scatterternary"
           }
          ],
          "surface": [
           {
            "colorbar": {
             "outlinewidth": 0,
             "ticks": ""
            },
            "colorscale": [
             [
              0,
              "#0d0887"
             ],
             [
              0.1111111111111111,
              "#46039f"
             ],
             [
              0.2222222222222222,
              "#7201a8"
             ],
             [
              0.3333333333333333,
              "#9c179e"
             ],
             [
              0.4444444444444444,
              "#bd3786"
             ],
             [
              0.5555555555555556,
              "#d8576b"
             ],
             [
              0.6666666666666666,
              "#ed7953"
             ],
             [
              0.7777777777777778,
              "#fb9f3a"
             ],
             [
              0.8888888888888888,
              "#fdca26"
             ],
             [
              1,
              "#f0f921"
             ]
            ],
            "type": "surface"
           }
          ],
          "table": [
           {
            "cells": {
             "fill": {
              "color": "#EBF0F8"
             },
             "line": {
              "color": "white"
             }
            },
            "header": {
             "fill": {
              "color": "#C8D4E3"
             },
             "line": {
              "color": "white"
             }
            },
            "type": "table"
           }
          ]
         },
         "layout": {
          "annotationdefaults": {
           "arrowcolor": "#2a3f5f",
           "arrowhead": 0,
           "arrowwidth": 1
          },
          "autotypenumbers": "strict",
          "coloraxis": {
           "colorbar": {
            "outlinewidth": 0,
            "ticks": ""
           }
          },
          "colorscale": {
           "diverging": [
            [
             0,
             "#8e0152"
            ],
            [
             0.1,
             "#c51b7d"
            ],
            [
             0.2,
             "#de77ae"
            ],
            [
             0.3,
             "#f1b6da"
            ],
            [
             0.4,
             "#fde0ef"
            ],
            [
             0.5,
             "#f7f7f7"
            ],
            [
             0.6,
             "#e6f5d0"
            ],
            [
             0.7,
             "#b8e186"
            ],
            [
             0.8,
             "#7fbc41"
            ],
            [
             0.9,
             "#4d9221"
            ],
            [
             1,
             "#276419"
            ]
           ],
           "sequential": [
            [
             0,
             "#0d0887"
            ],
            [
             0.1111111111111111,
             "#46039f"
            ],
            [
             0.2222222222222222,
             "#7201a8"
            ],
            [
             0.3333333333333333,
             "#9c179e"
            ],
            [
             0.4444444444444444,
             "#bd3786"
            ],
            [
             0.5555555555555556,
             "#d8576b"
            ],
            [
             0.6666666666666666,
             "#ed7953"
            ],
            [
             0.7777777777777778,
             "#fb9f3a"
            ],
            [
             0.8888888888888888,
             "#fdca26"
            ],
            [
             1,
             "#f0f921"
            ]
           ],
           "sequentialminus": [
            [
             0,
             "#0d0887"
            ],
            [
             0.1111111111111111,
             "#46039f"
            ],
            [
             0.2222222222222222,
             "#7201a8"
            ],
            [
             0.3333333333333333,
             "#9c179e"
            ],
            [
             0.4444444444444444,
             "#bd3786"
            ],
            [
             0.5555555555555556,
             "#d8576b"
            ],
            [
             0.6666666666666666,
             "#ed7953"
            ],
            [
             0.7777777777777778,
             "#fb9f3a"
            ],
            [
             0.8888888888888888,
             "#fdca26"
            ],
            [
             1,
             "#f0f921"
            ]
           ]
          },
          "colorway": [
           "#636efa",
           "#EF553B",
           "#00cc96",
           "#ab63fa",
           "#FFA15A",
           "#19d3f3",
           "#FF6692",
           "#B6E880",
           "#FF97FF",
           "#FECB52"
          ],
          "font": {
           "color": "#2a3f5f"
          },
          "geo": {
           "bgcolor": "white",
           "lakecolor": "white",
           "landcolor": "#E5ECF6",
           "showlakes": true,
           "showland": true,
           "subunitcolor": "white"
          },
          "hoverlabel": {
           "align": "left"
          },
          "hovermode": "closest",
          "mapbox": {
           "style": "light"
          },
          "paper_bgcolor": "white",
          "plot_bgcolor": "#E5ECF6",
          "polar": {
           "angularaxis": {
            "gridcolor": "white",
            "linecolor": "white",
            "ticks": ""
           },
           "bgcolor": "#E5ECF6",
           "radialaxis": {
            "gridcolor": "white",
            "linecolor": "white",
            "ticks": ""
           }
          },
          "scene": {
           "xaxis": {
            "backgroundcolor": "#E5ECF6",
            "gridcolor": "white",
            "gridwidth": 2,
            "linecolor": "white",
            "showbackground": true,
            "ticks": "",
            "zerolinecolor": "white"
           },
           "yaxis": {
            "backgroundcolor": "#E5ECF6",
            "gridcolor": "white",
            "gridwidth": 2,
            "linecolor": "white",
            "showbackground": true,
            "ticks": "",
            "zerolinecolor": "white"
           },
           "zaxis": {
            "backgroundcolor": "#E5ECF6",
            "gridcolor": "white",
            "gridwidth": 2,
            "linecolor": "white",
            "showbackground": true,
            "ticks": "",
            "zerolinecolor": "white"
           }
          },
          "shapedefaults": {
           "line": {
            "color": "#2a3f5f"
           }
          },
          "ternary": {
           "aaxis": {
            "gridcolor": "white",
            "linecolor": "white",
            "ticks": ""
           },
           "baxis": {
            "gridcolor": "white",
            "linecolor": "white",
            "ticks": ""
           },
           "bgcolor": "#E5ECF6",
           "caxis": {
            "gridcolor": "white",
            "linecolor": "white",
            "ticks": ""
           }
          },
          "title": {
           "x": 0.05
          },
          "xaxis": {
           "automargin": true,
           "gridcolor": "white",
           "linecolor": "white",
           "ticks": "",
           "title": {
            "standoff": 15
           },
           "zerolinecolor": "white",
           "zerolinewidth": 2
          },
          "yaxis": {
           "automargin": true,
           "gridcolor": "white",
           "linecolor": "white",
           "ticks": "",
           "title": {
            "standoff": 15
           },
           "zerolinecolor": "white",
           "zerolinewidth": 2
          }
         }
        },
        "title": {
         "text": "Distribution of Ratings"
        }
       }
      }
     },
     "metadata": {},
     "output_type": "display_data"
    }
   ],
   "source": [
    "import plotly.express as px\n",
    "\n",
    "# Filter data for years from 2010 onwards\n",
    "df_temp = result_df\n",
    "selected_rows = df_temp[df_temp['index'].str.endswith('_star')]\n",
    "labels = selected_rows['index'].tolist()\n",
    "sizes = selected_rows[0].tolist()\n",
    "rating_mean = df[df['index'] == 'rating'][0].values[0]\n",
    "\n",
    "# Đảo ngược thứ tự của labels và sizes\n",
    "labels.reverse()\n",
    "sizes.reverse()\n",
    "\n",
    "# Colors\n",
    "colors = ['#fff363', '#fde725', '#9fda3a', '#1fa187', '#004ebe', '#002f72']\n",
    "colors.reverse()\n",
    "\n",
    "# Tạo biểu đồ vòng khuyên\n",
    "fig = px.pie(df_temp, values=sizes, names=labels, hole=0.4, title='Distribution of Ratings', color_discrete_sequence=colors,\n",
    "             category_orders={'names': labels})  # Define the order of slices\n",
    "\n",
    "fig.update_traces(textposition='inside', textfont_size=14)\n",
    "\n",
    "# Thêm text annotation cho giá trị trung bình của \"rating\"\n",
    "fig.add_annotation(\n",
    "    text=f'{rating_mean:.2f} \\u2605',\n",
    "    x=0.5, y=0.5,  # Vị trí của text annotation trong biểu đồ\n",
    "    showarrow=False,\n",
    "    font=dict(size=24, color='#fbb040',)\n",
    ")\n",
    "\n",
    "# Hiển thị biểu đồ\n",
    "fig.show()\n"
   ]
  },
  {
   "cell_type": "code",
   "execution_count": 142,
   "metadata": {},
   "outputs": [
    {
     "name": "stdout",
     "output_type": "stream",
     "text": [
      "Index(['Unnamed: 0', 'rating', 'reviewerName', 'reviewText', 'categories',\n",
      "       'gPlusPlaceId', 'unixReviewTime', 'reviewTime', 'gPlusUserId', 'gps',\n",
      "       'price', 'dtime', 'hour', 'minute', 'second', 'latitude', 'longitude'],\n",
      "      dtype='object')\n"
     ]
    }
   ],
   "source": [
    "import pandas as pd\n",
    "\n",
    "def extract_lat_long_from_gps(df, gps_column='gps'):\n",
    "    # Function to extract latitude and longitude from a string\n",
    "    def extract_lat_long(coord_str):\n",
    "        try:\n",
    "            coordinates = eval(coord_str)\n",
    "            if len(coordinates) == 2:\n",
    "                return pd.Series({'latitude': coordinates[0], 'longitude': coordinates[1]})\n",
    "            else:\n",
    "                raise ValueError(\"Invalid coordinate format\")\n",
    "        except (SyntaxError, ValueError):\n",
    "            return pd.Series({'latitude': None, 'longitude': None})\n",
    "\n",
    "    # Apply the extract_lat_long function to the specified column\n",
    "    df[['latitude', 'longitude']] = df[gps_column].apply(extract_lat_long)\n",
    "\n",
    "    return df\n",
    "\n",
    "# Example usage:\n",
    "# Assuming df is your DataFrame with a column named 'gps'\n",
    "df = pd.read_csv(csv_file_path)\n",
    "# df = pd.DataFrame({'gps': [\"[40.179159, -122.236162]\", \"[37.774929, -122.419416]\"]})\n",
    "\n",
    "# Apply the function to extract latitude and longitude\n",
    "df = extract_lat_long_from_gps(df)\n",
    "\n",
    "# Display the DataFrame with new columns\n",
    "print(df.columns)\n"
   ]
  },
  {
   "cell_type": "code",
   "execution_count": 150,
   "metadata": {},
   "outputs": [
    {
     "name": "stdout",
     "output_type": "stream",
     "text": [
      "                                          reviewText  rating\n",
      "0  Walk go pick hot accept early. Enough trial be...       3\n",
      "1  Little threat which know myself style feel. Ah...       1\n",
      "2  Decade pretty draw idea shake news. Result los...       4\n",
      "3  Care buy reduce central policy senior. Do hair...       4\n",
      "4  Billion event continue which away happy televi...       3\n"
     ]
    }
   ],
   "source": [
    "import pandas as pd\n",
    "from faker import Faker\n",
    "import random\n",
    "\n",
    "# Khởi tạo mô-đun Faker để tạo dữ liệu giả định\n",
    "fake = Faker()\n",
    "\n",
    "# Tạo DataFrame mẫu\n",
    "data = {\n",
    "    'reviewText': [fake.paragraph() for _ in range(100)],\n",
    "    'rating': [random.randint(0, 5) for _ in range(100)],\n",
    "}\n",
    "\n",
    "df_sample = pd.DataFrame(data)\n",
    "\n",
    "# In và hiển thị 5 dòng đầu tiên của DataFrame mẫu\n",
    "print(df_sample.head())\n"
   ]
  },
  {
   "cell_type": "code",
   "execution_count": 21,
   "metadata": {},
   "outputs": [
    {
     "data": {
      "image/png": "[encoded data removed]",
      "text/plain": [
       "<Figure size 1000x500 with 1 Axes>"
      ]
     },
     "metadata": {},
     "output_type": "display_data"
    }
   ],
   "source": [
    "from wordcloud import WordCloud, STOPWORDS\n",
    "import matplotlib.pyplot as plt\n",
    "import pandas as pd\n",
    "from faker import Faker\n",
    "import random\n",
    "from wordcloud import STOPWORDS\n",
    "from wordcloud import ImageColorGenerator\n",
    "from PIL import Image\n",
    "import numpy as np\n",
    "\n",
    "import pickle\n",
    "\n",
    "# Load the Counter from the file\n",
    "with open('pos_counter.pkl', 'rb') as file:\n",
    "    loaded_counter = pickle.load(file)\n",
    "\n",
    "# print(loaded_counter)\n",
    "\n",
    "# Khởi tạo mô-đun Faker để tạo dữ liệu giả định\n",
    "# fake = Faker()\n",
    "\n",
    "# Tạo DataFrame mẫu\n",
    "# data = {\n",
    "#     'reviewText': [fake.paragraph() for _ in range(100)],\n",
    "#     'rating': [random.randint(0, 5) for _ in range(100)],\n",
    "# }\n",
    "\n",
    "\n",
    "\n",
    "df_sample = pd.DataFrame(loaded_counter, columns = ['Text', 'count'])\n",
    "# print(df_sample)\n",
    "\n",
    "\n",
    "\n",
    "# Đường dẫn tuyệt đối của file CSV trên máy tính của bạn\n",
    "csv_file_path = 'df_ca.csv'\n",
    "\n",
    "# Đọc dữ liệu từ file CSV\n",
    "df = pd.read_csv(csv_file_path)\n",
    "data = pd.DataFrame(df)\n",
    "filter_data = data[(data['gPlusPlaceId'] == '118445064751572130992') & (data['rating'] >= 4.0)]\n",
    "# # Tạo một văn bản từ tất cả các reviewText\n",
    "text = ' '.join(filter_data['reviewText'])\n",
    "\n",
    "wordcloud = WordCloud(width=800, height=400, background_color='white', colormap='viridis', collocations=False).generate(text)\n",
    "\n",
    "# # Hiển thị WordCloud bằng matplotlib\n",
    "plt.figure(figsize=(10, 5))\n",
    "plt.imshow(wordcloud, interpolation='bilinear')\n",
    "plt.axis('off')\n",
    "plt.show()\n"
   ]
  },
  {
   "cell_type": "code",
   "execution_count": 28,
   "metadata": {},
   "outputs": [
    {
     "data": {
      "image/png": "[encoded data removed]",
      "text/plain": [
       "<Figure size 1000x500 with 1 Axes>"
      ]
     },
     "metadata": {},
     "output_type": "display_data"
    }
   ],
   "source": [
    "filter_data = data[(data['gPlusPlaceId'] == '118445064751572130992') & (data['rating'] <= 3.0)]\n",
    "# # Tạo một văn bản từ tất cả các reviewText\n",
    "text = ' '.join(filter_data['reviewText'])\n",
    "\n",
    "wordcloud = WordCloud(width=800, height=400, background_color='white', colormap='turbo', collocations=False).generate(text)\n",
    "\n",
    "# # Hiển thị WordCloud bằng matplotlib\n",
    "plt.figure(figsize=(10, 5))\n",
    "plt.imshow(wordcloud, interpolation='bilinear')\n",
    "plt.axis('off')\n",
    "plt.show()"
   ]
  },
  {
   "cell_type": "code",
   "execution_count": 184,
   "metadata": {},
   "outputs": [
    {
     "data": {
      "application/vnd.plotly.v1+json": {
       "config": {
        "plotlyServerURL": "https://plot.ly"
       },
       "data": [
        {
         "hole": 0.4,
         "labels": [
          "Positive",
          "Negative",
          "Neutral"
         ],
         "marker": {
          "colors": [
           "#2ca155",
           "#e63946",
           "#a8a8a8"
          ],
          "line": {
           "color": "white",
           "width": 2
          }
         },
         "textinfo": "label+percent",
         "type": "pie",
         "values": [
          48,
          37,
          15
         ]
        }
       ],
       "layout": {
        "annotations": [
         {
          "font": {
           "size": 20
          },
          "showarrow": false,
          "text": "Total Feedback",
          "x": 0.5,
          "y": 0.5
         }
        ],
        "template": {
         "data": {
          "bar": [
           {
            "error_x": {
             "color": "#2a3f5f"
            },
            "error_y": {
             "color": "#2a3f5f"
            },
            "marker": {
             "line": {
              "color": "#E5ECF6",
              "width": 0.5
             },
             "pattern": {
              "fillmode": "overlay",
              "size": 10,
              "solidity": 0.2
             }
            },
            "type": "bar"
           }
          ],
          "barpolar": [
           {
            "marker": {
             "line": {
              "color": "#E5ECF6",
              "width": 0.5
             },
             "pattern": {
              "fillmode": "overlay",
              "size": 10,
              "solidity": 0.2
             }
            },
            "type": "barpolar"
           }
          ],
          "carpet": [
           {
            "aaxis": {
             "endlinecolor": "#2a3f5f",
             "gridcolor": "white",
             "linecolor": "white",
             "minorgridcolor": "white",
             "startlinecolor": "#2a3f5f"
            },
            "baxis": {
             "endlinecolor": "#2a3f5f",
             "gridcolor": "white",
             "linecolor": "white",
             "minorgridcolor": "white",
             "startlinecolor": "#2a3f5f"
            },
            "type": "carpet"
           }
          ],
          "choropleth": [
           {
            "colorbar": {
             "outlinewidth": 0,
             "ticks": ""
            },
            "type": "choropleth"
           }
          ],
          "contour": [
           {
            "colorbar": {
             "outlinewidth": 0,
             "ticks": ""
            },
            "colorscale": [
             [
              0,
              "#0d0887"
             ],
             [
              0.1111111111111111,
              "#46039f"
             ],
             [
              0.2222222222222222,
              "#7201a8"
             ],
             [
              0.3333333333333333,
              "#9c179e"
             ],
             [
              0.4444444444444444,
              "#bd3786"
             ],
             [
              0.5555555555555556,
              "#d8576b"
             ],
             [
              0.6666666666666666,
              "#ed7953"
             ],
             [
              0.7777777777777778,
              "#fb9f3a"
             ],
             [
              0.8888888888888888,
              "#fdca26"
             ],
             [
              1,
              "#f0f921"
             ]
            ],
            "type": "contour"
           }
          ],
          "contourcarpet": [
           {
            "colorbar": {
             "outlinewidth": 0,
             "ticks": ""
            },
            "type": "contourcarpet"
           }
          ],
          "heatmap": [
           {
            "colorbar": {
             "outlinewidth": 0,
             "ticks": ""
            },
            "colorscale": [
             [
              0,
              "#0d0887"
             ],
             [
              0.1111111111111111,
              "#46039f"
             ],
             [
              0.2222222222222222,
              "#7201a8"
             ],
             [
              0.3333333333333333,
              "#9c179e"
             ],
             [
              0.4444444444444444,
              "#bd3786"
             ],
             [
              0.5555555555555556,
              "#d8576b"
             ],
             [
              0.6666666666666666,
              "#ed7953"
             ],
             [
              0.7777777777777778,
              "#fb9f3a"
             ],
             [
              0.8888888888888888,
              "#fdca26"
             ],
             [
              1,
              "#f0f921"
             ]
            ],
            "type": "heatmap"
           }
          ],
          "heatmapgl": [
           {
            "colorbar": {
             "outlinewidth": 0,
             "ticks": ""
            },
            "colorscale": [
             [
              0,
              "#0d0887"
             ],
             [
              0.1111111111111111,
              "#46039f"
             ],
             [
              0.2222222222222222,
              "#7201a8"
             ],
             [
              0.3333333333333333,
              "#9c179e"
             ],
             [
              0.4444444444444444,
              "#bd3786"
             ],
             [
              0.5555555555555556,
              "#d8576b"
             ],
             [
              0.6666666666666666,
              "#ed7953"
             ],
             [
              0.7777777777777778,
              "#fb9f3a"
             ],
             [
              0.8888888888888888,
              "#fdca26"
             ],
             [
              1,
              "#f0f921"
             ]
            ],
            "type": "heatmapgl"
           }
          ],
          "histogram": [
           {
            "marker": {
             "pattern": {
              "fillmode": "overlay",
              "size": 10,
              "solidity": 0.2
             }
            },
            "type": "histogram"
           }
          ],
          "histogram2d": [
           {
            "colorbar": {
             "outlinewidth": 0,
             "ticks": ""
            },
            "colorscale": [
             [
              0,
              "#0d0887"
             ],
             [
              0.1111111111111111,
              "#46039f"
             ],
             [
              0.2222222222222222,
              "#7201a8"
             ],
             [
              0.3333333333333333,
              "#9c179e"
             ],
             [
              0.4444444444444444,
              "#bd3786"
             ],
             [
              0.5555555555555556,
              "#d8576b"
             ],
             [
              0.6666666666666666,
              "#ed7953"
             ],
             [
              0.7777777777777778,
              "#fb9f3a"
             ],
             [
              0.8888888888888888,
              "#fdca26"
             ],
             [
              1,
              "#f0f921"
             ]
            ],
            "type": "histogram2d"
           }
          ],
          "histogram2dcontour": [
           {
            "colorbar": {
             "outlinewidth": 0,
             "ticks": ""
            },
            "colorscale": [
             [
              0,
              "#0d0887"
             ],
             [
              0.1111111111111111,
              "#46039f"
             ],
             [
              0.2222222222222222,
              "#7201a8"
             ],
             [
              0.3333333333333333,
              "#9c179e"
             ],
             [
              0.4444444444444444,
              "#bd3786"
             ],
             [
              0.5555555555555556,
              "#d8576b"
             ],
             [
              0.6666666666666666,
              "#ed7953"
             ],
             [
              0.7777777777777778,
              "#fb9f3a"
             ],
             [
              0.8888888888888888,
              "#fdca26"
             ],
             [
              1,
              "#f0f921"
             ]
            ],
            "type": "histogram2dcontour"
           }
          ],
          "mesh3d": [
           {
            "colorbar": {
             "outlinewidth": 0,
             "ticks": ""
            },
            "type": "mesh3d"
           }
          ],
          "parcoords": [
           {
            "line": {
             "colorbar": {
              "outlinewidth": 0,
              "ticks": ""
             }
            },
            "type": "parcoords"
           }
          ],
          "pie": [
           {
            "automargin": true,
            "type": "pie"
           }
          ],
          "scatter": [
           {
            "fillpattern": {
             "fillmode": "overlay",
             "size": 10,
             "solidity": 0.2
            },
            "type": "scatter"
           }
          ],
          "scatter3d": [
           {
            "line": {
             "colorbar": {
              "outlinewidth": 0,
              "ticks": ""
             }
            },
            "marker": {
             "colorbar": {
              "outlinewidth": 0,
              "ticks": ""
             }
            },
            "type": "scatter3d"
           }
          ],
          "scattercarpet": [
           {
            "marker": {
             "colorbar": {
              "outlinewidth": 0,
              "ticks": ""
             }
            },
            "type": "scattercarpet"
           }
          ],
          "scattergeo": [
           {
            "marker": {
             "colorbar": {
              "outlinewidth": 0,
              "ticks": ""
             }
            },
            "type": "scattergeo"
           }
          ],
          "scattergl": [
           {
            "marker": {
             "colorbar": {
              "outlinewidth": 0,
              "ticks": ""
             }
            },
            "type": "scattergl"
           }
          ],
          "scattermapbox": [
           {
            "marker": {
             "colorbar": {
              "outlinewidth": 0,
              "ticks": ""
             }
            },
            "type": "scattermapbox"
           }
          ],
          "scatterpolar": [
           {
            "marker": {
             "colorbar": {
              "outlinewidth": 0,
              "ticks": ""
             }
            },
            "type": "scatterpolar"
           }
          ],
          "scatterpolargl": [
           {
            "marker": {
             "colorbar": {
              "outlinewidth": 0,
              "ticks": ""
             }
            },
            "type": "scatterpolargl"
           }
          ],
          "scatterternary": [
           {
            "marker": {
             "colorbar": {
              "outlinewidth": 0,
              "ticks": ""
             }
            },
            "type": "scatterternary"
           }
          ],
          "surface": [
           {
            "colorbar": {
             "outlinewidth": 0,
             "ticks": ""
            },
            "colorscale": [
             [
              0,
              "#0d0887"
             ],
             [
              0.1111111111111111,
              "#46039f"
             ],
             [
              0.2222222222222222,
              "#7201a8"
             ],
             [
              0.3333333333333333,
              "#9c179e"
             ],
             [
              0.4444444444444444,
              "#bd3786"
             ],
             [
              0.5555555555555556,
              "#d8576b"
             ],
             [
              0.6666666666666666,
              "#ed7953"
             ],
             [
              0.7777777777777778,
              "#fb9f3a"
             ],
             [
              0.8888888888888888,
              "#fdca26"
             ],
             [
              1,
              "#f0f921"
             ]
            ],
            "type": "surface"
           }
          ],
          "table": [
           {
            "cells": {
             "fill": {
              "color": "#EBF0F8"
             },
             "line": {
              "color": "white"
             }
            },
            "header": {
             "fill": {
              "color": "#C8D4E3"
             },
             "line": {
              "color": "white"
             }
            },
            "type": "table"
           }
          ]
         },
         "layout": {
          "annotationdefaults": {
           "arrowcolor": "#2a3f5f",
           "arrowhead": 0,
           "arrowwidth": 1
          },
          "autotypenumbers": "strict",
          "coloraxis": {
           "colorbar": {
            "outlinewidth": 0,
            "ticks": ""
           }
          },
          "colorscale": {
           "diverging": [
            [
             0,
             "#8e0152"
            ],
            [
             0.1,
             "#c51b7d"
            ],
            [
             0.2,
             "#de77ae"
            ],
            [
             0.3,
             "#f1b6da"
            ],
            [
             0.4,
             "#fde0ef"
            ],
            [
             0.5,
             "#f7f7f7"
            ],
            [
             0.6,
             "#e6f5d0"
            ],
            [
             0.7,
             "#b8e186"
            ],
            [
             0.8,
             "#7fbc41"
            ],
            [
             0.9,
             "#4d9221"
            ],
            [
             1,
             "#276419"
            ]
           ],
           "sequential": [
            [
             0,
             "#0d0887"
            ],
            [
             0.1111111111111111,
             "#46039f"
            ],
            [
             0.2222222222222222,
             "#7201a8"
            ],
            [
             0.3333333333333333,
             "#9c179e"
            ],
            [
             0.4444444444444444,
             "#bd3786"
            ],
            [
             0.5555555555555556,
             "#d8576b"
            ],
            [
             0.6666666666666666,
             "#ed7953"
            ],
            [
             0.7777777777777778,
             "#fb9f3a"
            ],
            [
             0.8888888888888888,
             "#fdca26"
            ],
            [
             1,
             "#f0f921"
            ]
           ],
           "sequentialminus": [
            [
             0,
             "#0d0887"
            ],
            [
             0.1111111111111111,
             "#46039f"
            ],
            [
             0.2222222222222222,
             "#7201a8"
            ],
            [
             0.3333333333333333,
             "#9c179e"
            ],
            [
             0.4444444444444444,
             "#bd3786"
            ],
            [
             0.5555555555555556,
             "#d8576b"
            ],
            [
             0.6666666666666666,
             "#ed7953"
            ],
            [
             0.7777777777777778,
             "#fb9f3a"
            ],
            [
             0.8888888888888888,
             "#fdca26"
            ],
            [
             1,
             "#f0f921"
            ]
           ]
          },
          "colorway": [
           "#636efa",
           "#EF553B",
           "#00cc96",
           "#ab63fa",
           "#FFA15A",
           "#19d3f3",
           "#FF6692",
           "#B6E880",
           "#FF97FF",
           "#FECB52"
          ],
          "font": {
           "color": "#2a3f5f"
          },
          "geo": {
           "bgcolor": "white",
           "lakecolor": "white",
           "landcolor": "#E5ECF6",
           "showlakes": true,
           "showland": true,
           "subunitcolor": "white"
          },
          "hoverlabel": {
           "align": "left"
          },
          "hovermode": "closest",
          "mapbox": {
           "style": "light"
          },
          "paper_bgcolor": "white",
          "plot_bgcolor": "#E5ECF6",
          "polar": {
           "angularaxis": {
            "gridcolor": "white",
            "linecolor": "white",
            "ticks": ""
           },
           "bgcolor": "#E5ECF6",
           "radialaxis": {
            "gridcolor": "white",
            "linecolor": "white",
            "ticks": ""
           }
          },
          "scene": {
           "xaxis": {
            "backgroundcolor": "#E5ECF6",
            "gridcolor": "white",
            "gridwidth": 2,
            "linecolor": "white",
            "showbackground": true,
            "ticks": "",
            "zerolinecolor": "white"
           },
           "yaxis": {
            "backgroundcolor": "#E5ECF6",
            "gridcolor": "white",
            "gridwidth": 2,
            "linecolor": "white",
            "showbackground": true,
            "ticks": "",
            "zerolinecolor": "white"
           },
           "zaxis": {
            "backgroundcolor": "#E5ECF6",
            "gridcolor": "white",
            "gridwidth": 2,
            "linecolor": "white",
            "showbackground": true,
            "ticks": "",
            "zerolinecolor": "white"
           }
          },
          "shapedefaults": {
           "line": {
            "color": "#2a3f5f"
           }
          },
          "ternary": {
           "aaxis": {
            "gridcolor": "white",
            "linecolor": "white",
            "ticks": ""
           },
           "baxis": {
            "gridcolor": "white",
            "linecolor": "white",
            "ticks": ""
           },
           "bgcolor": "#E5ECF6",
           "caxis": {
            "gridcolor": "white",
            "linecolor": "white",
            "ticks": ""
           }
          },
          "title": {
           "x": 0.05
          },
          "xaxis": {
           "automargin": true,
           "gridcolor": "white",
           "linecolor": "white",
           "ticks": "",
           "title": {
            "standoff": 15
           },
           "zerolinecolor": "white",
           "zerolinewidth": 2
          },
          "yaxis": {
           "automargin": true,
           "gridcolor": "white",
           "linecolor": "white",
           "ticks": "",
           "title": {
            "standoff": 15
           },
           "zerolinecolor": "white",
           "zerolinewidth": 2
          }
         }
        },
        "title": {
         "text": "Distribution of User Feedback"
        }
       }
      }
     },
     "metadata": {},
     "output_type": "display_data"
    }
   ],
   "source": [
    "import plotly.graph_objects as go\n",
    "\n",
    "# Dữ liệu phản hồi\n",
    "positive_feedback = 48\n",
    "negative_feedback = 37\n",
    "neutral_feedback = 15\n",
    "\n",
    "# Tạo biểu đồ tròn\n",
    "fig = go.Figure(data=[go.Pie(labels=['Positive', 'Negative', 'Neutral'],\n",
    "                             values=[positive_feedback, negative_feedback, neutral_feedback],\n",
    "                             hole=0.4,\n",
    "                             marker=dict(colors=['#2ca155', '#e63946', '#a8a8a8'],\n",
    "                                         line=dict(color='white', width=2)),\n",
    "                             textinfo='label+percent'\n",
    "                             )])\n",
    "\n",
    "# Tùy chỉnh layout (nếu cần)\n",
    "fig.update_layout(title='Distribution of User Feedback',\n",
    "                  annotations=[dict(text='Total Feedback', x=0.5, y=0.5, font_size=20, showarrow=False)])\n",
    "\n",
    "# Hiển thị biểu đồ\n",
    "fig.show()\n"
   ]
  },
  {
   "cell_type": "code",
   "execution_count": 42,
   "metadata": {},
   "outputs": [
    {
     "data": {
      "application/vnd.plotly.v1+json": {
       "config": {
        "plotlyServerURL": "https://plot.ly"
       },
       "data": [
        {
         "alignmentgroup": "True",
         "hovertemplate": "Count=%{x}<br>Text=%{y}<extra></extra>",
         "legendgroup": "",
         "marker": {
          "color": "#636efa",
          "pattern": {
           "shape": ""
          }
         },
         "name": "",
         "offsetgroup": "",
         "orientation": "h",
         "showlegend": false,
         "textposition": "auto",
         "type": "bar",
         "x": [
          17257,
          18405,
          18468,
          18674,
          18936,
          20209,
          20581,
          21584,
          22932,
          23275,
          23281,
          23407,
          30070,
          33276,
          41009,
          51213,
          62604,
          71366,
          80744,
          81539
         ],
         "xaxis": "x",
         "y": [
          "care",
          "job",
          "dr.",
          "family",
          "everything",
          "way",
          "years",
          "work",
          "customer",
          "great",
          "price",
          "day",
          "people",
          "experience",
          "car",
          "staff",
          "time",
          "food",
          "place",
          "service"
         ],
         "yaxis": "y"
        }
       ],
       "layout": {
        "barmode": "relative",
        "height": 1000,
        "legend": {
         "tracegroupgap": 0
        },
        "template": {
         "data": {
          "bar": [
           {
            "error_x": {
             "color": "#2a3f5f"
            },
            "error_y": {
             "color": "#2a3f5f"
            },
            "marker": {
             "line": {
              "color": "#E5ECF6",
              "width": 0.5
             },
             "pattern": {
              "fillmode": "overlay",
              "size": 10,
              "solidity": 0.2
             }
            },
            "type": "bar"
           }
          ],
          "barpolar": [
           {
            "marker": {
             "line": {
              "color": "#E5ECF6",
              "width": 0.5
             },
             "pattern": {
              "fillmode": "overlay",
              "size": 10,
              "solidity": 0.2
             }
            },
            "type": "barpolar"
           }
          ],
          "carpet": [
           {
            "aaxis": {
             "endlinecolor": "#2a3f5f",
             "gridcolor": "white",
             "linecolor": "white",
             "minorgridcolor": "white",
             "startlinecolor": "#2a3f5f"
            },
            "baxis": {
             "endlinecolor": "#2a3f5f",
             "gridcolor": "white",
             "linecolor": "white",
             "minorgridcolor": "white",
             "startlinecolor": "#2a3f5f"
            },
            "type": "carpet"
           }
          ],
          "choropleth": [
           {
            "colorbar": {
             "outlinewidth": 0,
             "ticks": ""
            },
            "type": "choropleth"
           }
          ],
          "contour": [
           {
            "colorbar": {
             "outlinewidth": 0,
             "ticks": ""
            },
            "colorscale": [
             [
              0,
              "#0d0887"
             ],
             [
              0.1111111111111111,
              "#46039f"
             ],
             [
              0.2222222222222222,
              "#7201a8"
             ],
             [
              0.3333333333333333,
              "#9c179e"
             ],
             [
              0.4444444444444444,
              "#bd3786"
             ],
             [
              0.5555555555555556,
              "#d8576b"
             ],
             [
              0.6666666666666666,
              "#ed7953"
             ],
             [
              0.7777777777777778,
              "#fb9f3a"
             ],
             [
              0.8888888888888888,
              "#fdca26"
             ],
             [
              1,
              "#f0f921"
             ]
            ],
            "type": "contour"
           }
          ],
          "contourcarpet": [
           {
            "colorbar": {
             "outlinewidth": 0,
             "ticks": ""
            },
            "type": "contourcarpet"
           }
          ],
          "heatmap": [
           {
            "colorbar": {
             "outlinewidth": 0,
             "ticks": ""
            },
            "colorscale": [
             [
              0,
              "#0d0887"
             ],
             [
              0.1111111111111111,
              "#46039f"
             ],
             [
              0.2222222222222222,
              "#7201a8"
             ],
             [
              0.3333333333333333,
              "#9c179e"
             ],
             [
              0.4444444444444444,
              "#bd3786"
             ],
             [
              0.5555555555555556,
              "#d8576b"
             ],
             [
              0.6666666666666666,
              "#ed7953"
             ],
             [
              0.7777777777777778,
              "#fb9f3a"
             ],
             [
              0.8888888888888888,
              "#fdca26"
             ],
             [
              1,
              "#f0f921"
             ]
            ],
            "type": "heatmap"
           }
          ],
          "heatmapgl": [
           {
            "colorbar": {
             "outlinewidth": 0,
             "ticks": ""
            },
            "colorscale": [
             [
              0,
              "#0d0887"
             ],
             [
              0.1111111111111111,
              "#46039f"
             ],
             [
              0.2222222222222222,
              "#7201a8"
             ],
             [
              0.3333333333333333,
              "#9c179e"
             ],
             [
              0.4444444444444444,
              "#bd3786"
             ],
             [
              0.5555555555555556,
              "#d8576b"
             ],
             [
              0.6666666666666666,
              "#ed7953"
             ],
             [
              0.7777777777777778,
              "#fb9f3a"
             ],
             [
              0.8888888888888888,
              "#fdca26"
             ],
             [
              1,
              "#f0f921"
             ]
            ],
            "type": "heatmapgl"
           }
          ],
          "histogram": [
           {
            "marker": {
             "pattern": {
              "fillmode": "overlay",
              "size": 10,
              "solidity": 0.2
             }
            },
            "type": "histogram"
           }
          ],
          "histogram2d": [
           {
            "colorbar": {
             "outlinewidth": 0,
             "ticks": ""
            },
            "colorscale": [
             [
              0,
              "#0d0887"
             ],
             [
              0.1111111111111111,
              "#46039f"
             ],
             [
              0.2222222222222222,
              "#7201a8"
             ],
             [
              0.3333333333333333,
              "#9c179e"
             ],
             [
              0.4444444444444444,
              "#bd3786"
             ],
             [
              0.5555555555555556,
              "#d8576b"
             ],
             [
              0.6666666666666666,
              "#ed7953"
             ],
             [
              0.7777777777777778,
              "#fb9f3a"
             ],
             [
              0.8888888888888888,
              "#fdca26"
             ],
             [
              1,
              "#f0f921"
             ]
            ],
            "type": "histogram2d"
           }
          ],
          "histogram2dcontour": [
           {
            "colorbar": {
             "outlinewidth": 0,
             "ticks": ""
            },
            "colorscale": [
             [
              0,
              "#0d0887"
             ],
             [
              0.1111111111111111,
              "#46039f"
             ],
             [
              0.2222222222222222,
              "#7201a8"
             ],
             [
              0.3333333333333333,
              "#9c179e"
             ],
             [
              0.4444444444444444,
              "#bd3786"
             ],
             [
              0.5555555555555556,
              "#d8576b"
             ],
             [
              0.6666666666666666,
              "#ed7953"
             ],
             [
              0.7777777777777778,
              "#fb9f3a"
             ],
             [
              0.8888888888888888,
              "#fdca26"
             ],
             [
              1,
              "#f0f921"
             ]
            ],
            "type": "histogram2dcontour"
           }
          ],
          "mesh3d": [
           {
            "colorbar": {
             "outlinewidth": 0,
             "ticks": ""
            },
            "type": "mesh3d"
           }
          ],
          "parcoords": [
           {
            "line": {
             "colorbar": {
              "outlinewidth": 0,
              "ticks": ""
             }
            },
            "type": "parcoords"
           }
          ],
          "pie": [
           {
            "automargin": true,
            "type": "pie"
           }
          ],
          "scatter": [
           {
            "fillpattern": {
             "fillmode": "overlay",
             "size": 10,
             "solidity": 0.2
            },
            "type": "scatter"
           }
          ],
          "scatter3d": [
           {
            "line": {
             "colorbar": {
              "outlinewidth": 0,
              "ticks": ""
             }
            },
            "marker": {
             "colorbar": {
              "outlinewidth": 0,
              "ticks": ""
             }
            },
            "type": "scatter3d"
           }
          ],
          "scattercarpet": [
           {
            "marker": {
             "colorbar": {
              "outlinewidth": 0,
              "ticks": ""
             }
            },
            "type": "scattercarpet"
           }
          ],
          "scattergeo": [
           {
            "marker": {
             "colorbar": {
              "outlinewidth": 0,
              "ticks": ""
             }
            },
            "type": "scattergeo"
           }
          ],
          "scattergl": [
           {
            "marker": {
             "colorbar": {
              "outlinewidth": 0,
              "ticks": ""
             }
            },
            "type": "scattergl"
           }
          ],
          "scattermapbox": [
           {
            "marker": {
             "colorbar": {
              "outlinewidth": 0,
              "ticks": ""
             }
            },
            "type": "scattermapbox"
           }
          ],
          "scatterpolar": [
           {
            "marker": {
             "colorbar": {
              "outlinewidth": 0,
              "ticks": ""
             }
            },
            "type": "scatterpolar"
           }
          ],
          "scatterpolargl": [
           {
            "marker": {
             "colorbar": {
              "outlinewidth": 0,
              "ticks": ""
             }
            },
            "type": "scatterpolargl"
           }
          ],
          "scatterternary": [
           {
            "marker": {
             "colorbar": {
              "outlinewidth": 0,
              "ticks": ""
             }
            },
            "type": "scatterternary"
           }
          ],
          "surface": [
           {
            "colorbar": {
             "outlinewidth": 0,
             "ticks": ""
            },
            "colorscale": [
             [
              0,
              "#0d0887"
             ],
             [
              0.1111111111111111,
              "#46039f"
             ],
             [
              0.2222222222222222,
              "#7201a8"
             ],
             [
              0.3333333333333333,
              "#9c179e"
             ],
             [
              0.4444444444444444,
              "#bd3786"
             ],
             [
              0.5555555555555556,
              "#d8576b"
             ],
             [
              0.6666666666666666,
              "#ed7953"
             ],
             [
              0.7777777777777778,
              "#fb9f3a"
             ],
             [
              0.8888888888888888,
              "#fdca26"
             ],
             [
              1,
              "#f0f921"
             ]
            ],
            "type": "surface"
           }
          ],
          "table": [
           {
            "cells": {
             "fill": {
              "color": "#EBF0F8"
             },
             "line": {
              "color": "white"
             }
            },
            "header": {
             "fill": {
              "color": "#C8D4E3"
             },
             "line": {
              "color": "white"
             }
            },
            "type": "table"
           }
          ]
         },
         "layout": {
          "annotationdefaults": {
           "arrowcolor": "#2a3f5f",
           "arrowhead": 0,
           "arrowwidth": 1
          },
          "autotypenumbers": "strict",
          "coloraxis": {
           "colorbar": {
            "outlinewidth": 0,
            "ticks": ""
           }
          },
          "colorscale": {
           "diverging": [
            [
             0,
             "#8e0152"
            ],
            [
             0.1,
             "#c51b7d"
            ],
            [
             0.2,
             "#de77ae"
            ],
            [
             0.3,
             "#f1b6da"
            ],
            [
             0.4,
             "#fde0ef"
            ],
            [
             0.5,
             "#f7f7f7"
            ],
            [
             0.6,
             "#e6f5d0"
            ],
            [
             0.7,
             "#b8e186"
            ],
            [
             0.8,
             "#7fbc41"
            ],
            [
             0.9,
             "#4d9221"
            ],
            [
             1,
             "#276419"
            ]
           ],
           "sequential": [
            [
             0,
             "#0d0887"
            ],
            [
             0.1111111111111111,
             "#46039f"
            ],
            [
             0.2222222222222222,
             "#7201a8"
            ],
            [
             0.3333333333333333,
             "#9c179e"
            ],
            [
             0.4444444444444444,
             "#bd3786"
            ],
            [
             0.5555555555555556,
             "#d8576b"
            ],
            [
             0.6666666666666666,
             "#ed7953"
            ],
            [
             0.7777777777777778,
             "#fb9f3a"
            ],
            [
             0.8888888888888888,
             "#fdca26"
            ],
            [
             1,
             "#f0f921"
            ]
           ],
           "sequentialminus": [
            [
             0,
             "#0d0887"
            ],
            [
             0.1111111111111111,
             "#46039f"
            ],
            [
             0.2222222222222222,
             "#7201a8"
            ],
            [
             0.3333333333333333,
             "#9c179e"
            ],
            [
             0.4444444444444444,
             "#bd3786"
            ],
            [
             0.5555555555555556,
             "#d8576b"
            ],
            [
             0.6666666666666666,
             "#ed7953"
            ],
            [
             0.7777777777777778,
             "#fb9f3a"
            ],
            [
             0.8888888888888888,
             "#fdca26"
            ],
            [
             1,
             "#f0f921"
            ]
           ]
          },
          "colorway": [
           "#636efa",
           "#EF553B",
           "#00cc96",
           "#ab63fa",
           "#FFA15A",
           "#19d3f3",
           "#FF6692",
           "#B6E880",
           "#FF97FF",
           "#FECB52"
          ],
          "font": {
           "color": "#2a3f5f"
          },
          "geo": {
           "bgcolor": "white",
           "lakecolor": "white",
           "landcolor": "#E5ECF6",
           "showlakes": true,
           "showland": true,
           "subunitcolor": "white"
          },
          "hoverlabel": {
           "align": "left"
          },
          "hovermode": "closest",
          "mapbox": {
           "style": "light"
          },
          "paper_bgcolor": "white",
          "plot_bgcolor": "#E5ECF6",
          "polar": {
           "angularaxis": {
            "gridcolor": "white",
            "linecolor": "white",
            "ticks": ""
           },
           "bgcolor": "#E5ECF6",
           "radialaxis": {
            "gridcolor": "white",
            "linecolor": "white",
            "ticks": ""
           }
          },
          "scene": {
           "xaxis": {
            "backgroundcolor": "#E5ECF6",
            "gridcolor": "white",
            "gridwidth": 2,
            "linecolor": "white",
            "showbackground": true,
            "ticks": "",
            "zerolinecolor": "white"
           },
           "yaxis": {
            "backgroundcolor": "#E5ECF6",
            "gridcolor": "white",
            "gridwidth": 2,
            "linecolor": "white",
            "showbackground": true,
            "ticks": "",
            "zerolinecolor": "white"
           },
           "zaxis": {
            "backgroundcolor": "#E5ECF6",
            "gridcolor": "white",
            "gridwidth": 2,
            "linecolor": "white",
            "showbackground": true,
            "ticks": "",
            "zerolinecolor": "white"
           }
          },
          "shapedefaults": {
           "line": {
            "color": "#2a3f5f"
           }
          },
          "ternary": {
           "aaxis": {
            "gridcolor": "white",
            "linecolor": "white",
            "ticks": ""
           },
           "baxis": {
            "gridcolor": "white",
            "linecolor": "white",
            "ticks": ""
           },
           "bgcolor": "#E5ECF6",
           "caxis": {
            "gridcolor": "white",
            "linecolor": "white",
            "ticks": ""
           }
          },
          "title": {
           "x": 0.05
          },
          "xaxis": {
           "automargin": true,
           "gridcolor": "white",
           "linecolor": "white",
           "ticks": "",
           "title": {
            "standoff": 15
           },
           "zerolinecolor": "white",
           "zerolinewidth": 2
          },
          "yaxis": {
           "automargin": true,
           "gridcolor": "white",
           "linecolor": "white",
           "ticks": "",
           "title": {
            "standoff": 15
           },
           "zerolinecolor": "white",
           "zerolinewidth": 2
          }
         }
        },
        "title": {
         "text": "Bar Chart of Text Counts"
        },
        "xaxis": {
         "anchor": "y",
         "domain": [
          0,
          1
         ],
         "title": {
          "text": "Count"
         }
        },
        "yaxis": {
         "anchor": "x",
         "domain": [
          0,
          1
         ],
         "title": {
          "text": "Text"
         }
        }
       }
      }
     },
     "metadata": {},
     "output_type": "display_data"
    }
   ],
   "source": [
    "import plotly.graph_objects as go\n",
    "\n",
    "import plotly.express as px\n",
    "\n",
    "# Giả sử df có cột \"text\" và \"count\"\n",
    "# Tạo DataFrame mẫu\n",
    "df = pd.DataFrame(loaded_counter, columns=['Text', 'Count'])\n",
    "\n",
    "# Vẽ biểu đồ cột bằng plotly\n",
    "fig = px.bar(df[:20][::-1], y='Text', x='Count', title='Bar Chart of Text Counts', labels={'count': 'Count'}, height=1000)\n",
    "fig.show()\n"
   ]
  }
 ],
 "metadata": {
  "kernelspec": {
   "display_name": "Python 3",
   "language": "python",
   "name": "python3"
  },
  "language_info": {
   "codemirror_mode": {
    "name": "ipython",
    "version": 3
   },
   "file_extension": ".py",
   "mimetype": "text/x-python",
   "name": "python",
   "nbconvert_exporter": "python",
   "pygments_lexer": "ipython3",
   "version": "3.9.13"
  }
 },
 "nbformat": 4,
 "nbformat_minor": 2
}
