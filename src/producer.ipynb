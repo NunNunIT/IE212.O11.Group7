{
 "cells": [
  {
   "cell_type": "code",
   "execution_count": 1,
   "id": "d157c81c-4a43-4137-829a-1b1c925ce0bb",
   "metadata": {},
   "outputs": [
    {
     "name": "stdout",
     "output_type": "stream",
     "text": [
      "Requirement already satisfied: confluent_kafka in c:\\users\\nunnun\\appdata\\local\\packages\\pythonsoftwarefoundation.python.3.9_qbz5n2kfra8p0\\localcache\\local-packages\\python39\\site-packages (2.3.0)\n"
     ]
    }
   ],
   "source": [
    "!pip install confluent_kafka"
   ]
  },
  {
   "cell_type": "markdown",
   "id": "255dadbe-99be-46af-9d99-39358df6b41c",
   "metadata": {},
   "source": [
    "**Note**: Use cd .. or pwd commands to read the data files if required."
   ]
  },
  {
   "cell_type": "code",
   "execution_count": 1,
   "id": "f0c62119-fb80-4a7d-b3dd-8739d7a7400c",
   "metadata": {},
   "outputs": [
    {
     "name": "stdout",
     "output_type": "stream",
     "text": [
      "E:\\ASTUDY\\HK-5\\BIGDATA\\IE212.O11.Group7\n"
     ]
    },
    {
     "name": "stderr",
     "output_type": "stream",
     "text": [
      "C:\\Users\\NUNNUN\\AppData\\Local\\Packages\\PythonSoftwareFoundation.Python.3.9_qbz5n2kfra8p0\\LocalCache\\local-packages\\Python39\\site-packages\\IPython\\core\\magics\\osm.py:417: UserWarning: using dhist requires you to install the `pickleshare` library.\n",
      "  self.shell.db['dhist'] = compress_dhist(dhist)[-100:]\n"
     ]
    }
   ],
   "source": [
    "cd .."
   ]
  },
  {
   "cell_type": "code",
   "execution_count": 2,
   "id": "1a9b6d0b-32f5-4713-9ec7-4cfef56848f8",
   "metadata": {},
   "outputs": [],
   "source": [
    "import json\n",
    "import gzip\n",
    "from confluent_kafka import Producer\n",
    "import time"
   ]
  },
  {
   "cell_type": "code",
   "execution_count": 8,
   "id": "99e1f645-47f7-4b50-a7f5-420c850b26c4",
   "metadata": {},
   "outputs": [],
   "source": [
    "def read_reviews(file_path):\n",
    "    with gzip.open(file_path) as file:\n",
    "        for line_number, line in enumerate(file, start=100000):\n",
    "            # review = json.loads(eval(line))\n",
    "            review = eval(line)\n",
    "            yield review\n",
    "\n",
    "def kafka_producer(broker, topic, file_path):\n",
    "    producer_conf = {'bootstrap.servers': broker}\n",
    "    producer = Producer(producer_conf)\n",
    "    x = 0\n",
    "\n",
    "    try:\n",
    "        for review in read_reviews(file_path):\n",
    "            x += 1\n",
    "            \n",
    "            # Convert the review to a JSON string\n",
    "            message_value = json.dumps(review)\n",
    "            \n",
    "            # Produce the message to the Kafka topic\n",
    "            producer.produce(topic, value=message_value.encode('utf-8'))\n",
    "\n",
    "            # Flush the producer to ensure the message is sent\n",
    "            producer.flush()\n",
    "\n",
    "            # Print the data just sent\n",
    "            print(f\"Sent {x} :  {message_value}\")\n",
    "\n",
    "            # Pause for 5 seconds\n",
    "            time.sleep(5)\n",
    "\n",
    "    except KeyboardInterrupt:\n",
    "        pass\n",
    "\n",
    "    finally:\n",
    "        # Close the producer (no close method, just flush)\n",
    "        producer.flush()"
   ]
  },
  {
   "cell_type": "code",
   "execution_count": 9,
   "id": "cd2baa92-a40c-4dc1-b265-502c38ecd334",
   "metadata": {},
   "outputs": [
    {
     "name": "stdout",
     "output_type": "stream",
     "text": [
      "Sent 1 :  {\"rating\": 3.0, \"reviewerName\": \"an lam\", \"reviewText\": \"Ch\\u1ea5t l\\u01b0\\u1ee3ng t\\u1ea1m \\u1ed5n\", \"categories\": [\"Gi\\u1ea3i Tr\\u00ed - Caf\\u00e9\"], \"gPlusPlaceId\": \"108103314380004200232\", \"unixReviewTime\": 1372686659, \"reviewTime\": \"Jul 1, 2013\", \"gPlusUserId\": \"100000010817154263736\"}\n",
      "Sent 2 :  {\"rating\": 5.0, \"reviewerName\": \"HAL\\u0130L TURGUT\", \"reviewText\": \"Wc si temiz duzenli..\", \"categories\": [\"Turkish Cuisine\"], \"gPlusPlaceId\": \"102194128241608748649\", \"unixReviewTime\": 1342870724, \"reviewTime\": \"Jul 21, 2012\", \"gPlusUserId\": \"100000013500285534661\"}\n",
      "Sent 3 :  {\"rating\": 5.0, \"reviewerName\": \"\\u68ee\\u7530\\u3055\\u3068\\u3053\", \"reviewText\": \"\\u4f55\\u56de\\u3082\\u79c1\\u306f\\u4e88\\u5b9a\\u306b\\u4f11\\u307f\\u304c\\u30bb\\u30eb\\u30d0\\u306b\\u884c\\u3063\\u305f\\u306e\\u3067\\u899a\\u3048\\u3066\\u898b\\u3066\\u3001\\u5206\\u304b\\u308a\\u307e\\u3059\\u2757\", \"categories\": [\"Fishing\", \"Pond Fish Supplier\", \"Seafood Market\"], \"gPlusPlaceId\": \"101409858828175402384\", \"unixReviewTime\": 1390653513, \"reviewTime\": \"Jan 25, 2014\", \"gPlusUserId\": \"100000021336848867366\"}\n",
      "Sent 4 :  {\"rating\": 5.0, \"reviewerName\": \"\\u68ee\\u7530\\u3055\\u3068\\u3053\", \"reviewText\": \"\\u4eca\\u5ea6\\u306f\\u4e88\\u5b9a\\u306b\\u4f11\\u307f\\u304c\\u767b\\u7c73\\u5e02\\u306b\\u884c\\u304d\\u305f\\u3044\\u2757\\u2600\\ud83d\\ude05\\ud83c\\udf0c \\u697d\\u3057\\u3044\\u306b\\u65e5\\u5e30\\u308a\\u306b\\u767b\\u7c73\\u306e\\u898b\\u5b66\\u306e\\u89b3\\u5149(*^)(*^-^*)\\u309e\", \"categories\": [\"Museum\"], \"gPlusPlaceId\": \"101477177500158511502\", \"unixReviewTime\": 1389187706, \"reviewTime\": \"Jan 8, 2014\", \"gPlusUserId\": \"100000021336848867366\"}\n",
      "Sent 5 :  {\"rating\": 4.0, \"reviewerName\": \"\\u68ee\\u7530\\u3055\\u3068\\u3053\", \"reviewText\": \"\\u6c17\\u4ed9\\u6cbc\\u8b66\\u5bdf\\u7f72\\u306b\\u79fb\\u8ee2\\u4e2d\\u306b\\u7d46 \\ud83d\\udc6e\\ud83d\\udc0e\\u263a\\ud83d\\ude4b\\ud83d\\ude93\\u9811\\u5f35\\u308d\\u3046\\u2757\", \"categories\": [\"Police\"], \"gPlusPlaceId\": \"106994170641063333085\", \"unixReviewTime\": 1390486279, \"reviewTime\": \"Jan 23, 2014\", \"gPlusUserId\": \"100000021336848867366\"}\n",
      "Sent 6 :  {\"rating\": 5.0, \"reviewerName\": \"\\u68ee\\u7530\\u3055\\u3068\\u3053\", \"reviewText\": \"\\u4e45\\u3057\\u3076\\u308a\\u306b\\u4ed9\\u53f0\\u5e02\\u516b\\u6728\\u5c71\\u30d9\\u30cb\\u30fc\\u30e9\\u30f3\\u30c9\\u306b\\u4e57\\u308a\\u305f\\u3044\\u2757\", \"categories\": [\"Theme Park\"], \"gPlusPlaceId\": \"107443380765688783479\", \"unixReviewTime\": 1390192729, \"reviewTime\": \"Jan 19, 2014\", \"gPlusUserId\": \"100000021336848867366\"}\n",
      "Sent 7 :  {\"rating\": 5.0, \"reviewerName\": \"\\u68ee\\u7530\\u3055\\u3068\\u3053\", \"reviewText\": \"\\u79c1\\u306f\\u4eca\\u5ea6\\u306f\\u4f11\\u307f\\u304c\\u30b6\\u30fb\\u30e2\\u30fc\\u30eb\\u2605\\u306e\\u6620\\u753b\\u306b\\u884c\\u3063\\u3066\\u6765\\u307e\\u3059\\u3002\", \"categories\": [\"Shopping Mall\"], \"gPlusPlaceId\": \"107998775704210253660\", \"unixReviewTime\": 1390825528, \"reviewTime\": \"Jan 27, 2014\", \"gPlusUserId\": \"100000021336848867366\"}\n",
      "Sent 8 :  {\"rating\": 4.0, \"reviewerName\": \"\\u68ee\\u7530\\u3055\\u3068\\u3053\", \"reviewText\": \"\\u30a4\\u30d9\\u30f3\\u30c8\\u306e\\u5149\\u306e\\u30da\\u30fc\\u30b8\\u30a7\\u30f3\\u30c8 \\u304c\\u7d20\\u6674\\u3089\\u3057\\u3044\\u2757\\ud83d\\udd0d \\u79c1\\u306f\\u3068\\u3066\\u3082\\u4eee\\u9762\\u30e9\\u30a4\\u30c0\\u30fc\\u304c\\u7d20\\u6674\\u3089\\u3057\\u3044\\u304c\\u826f\\u3044\\u304c\\u3067\\u3059\\ud83c\\udfb5\\u30cd\\u3002\", \"categories\": [\"Art Museum\"], \"gPlusPlaceId\": \"111367239248458923884\", \"unixReviewTime\": 1390445561, \"reviewTime\": \"Jan 22, 2014\", \"gPlusUserId\": \"100000021336848867366\"}\n",
      "Sent 9 :  {\"rating\": 4.0, \"reviewerName\": \"\\u68ee\\u7530\\u3055\\u3068\\u3053\", \"reviewText\": \"\\u30d2\\u30de\\ud83d\\udc7d\\u4f11\\u307f\\u304c\\u4ed9\\u53f0\\u5e02\\u79d1\\u5b66\\u9928 \\u306b\\u884c\\u3063\\u3066\\u898b\\u307e\\u3059\\u2757\", \"categories\": [\"Science Museum\"], \"gPlusPlaceId\": \"111951491217608644315\", \"unixReviewTime\": 1390387529, \"reviewTime\": \"Jan 22, 2014\", \"gPlusUserId\": \"100000021336848867366\"}\n",
      "Sent 10 :  {\"rating\": 5.0, \"reviewerName\": \"\\u68ee\\u7530\\u3055\\u3068\\u3053\", \"reviewText\": \"\\u4e45\\u3057\\u3076\\u308a\\u306b\\u9752\\u8449\\u57ce\\u306b\\u884c\\u304d\\u305f\\u3044\\u2757\", \"categories\": [\"Grocery Store\"], \"gPlusPlaceId\": \"113899620351618240699\", \"unixReviewTime\": 1392295463, \"reviewTime\": \"Feb 13, 2014\", \"gPlusUserId\": \"100000021336848867366\"}\n",
      "Sent 11 :  {\"rating\": 4.0, \"reviewerName\": \"\\u68ee\\u7530\\u3055\\u3068\\u3053\", \"reviewText\": \"\\u3053\\u308c\\u304b\\u3089\\u3001\\u79c1\\u306f\\u4e88\\u5b9a\\u306b\\u79cb\\u304c\\u4e00\\u4eba\\u3067\\u65c5\\u884c\\u306e\\u697d\\u3057\\u3044\\u306b\\u5bae\\u57ce\\u770c\\u767b\\u7c73\\u5e02\\u306b\\u884c\\u3063\\u3066\\u6cca\\u307e\\u308a\\u6765\\u307e\\u3059\\u306e\\u3067\\u601d\\u3044\\u307e\\u3059\\u2757\\u2600\", \"categories\": [\"Budget Hotel\"], \"gPlusPlaceId\": \"116871469190387424406\", \"unixReviewTime\": 1389191801, \"reviewTime\": \"Jan 8, 2014\", \"gPlusUserId\": \"100000021336848867366\"}\n",
      "Sent 12 :  {\"rating\": 5.0, \"reviewerName\": \"\\u68ee\\u7530\\u3055\\u3068\\u3053\", \"reviewText\": \"\\u4f55\\u56de\\u3082\\u79c1\\u306f\\u4f11\\u307f\\u304c\\u30a2\\u30a8\\u30eb\\u30c7\\u30d1\\u30fc\\u30c8\\u306b\\u884c\\u3063\\u305f\\u306e\\u3067\\u5206\\u304b\\u308b\\u2757\", \"categories\": null, \"gPlusPlaceId\": \"117582951880076136638\", \"unixReviewTime\": 1390652445, \"reviewTime\": \"Jan 25, 2014\", \"gPlusUserId\": \"100000021336848867366\"}\n",
      "Sent 13 :  {\"rating\": 5.0, \"reviewerName\": \"amey kore\", \"reviewText\": null, \"categories\": null, \"gPlusPlaceId\": \"111478860057135750881\", \"unixReviewTime\": 1340897319, \"reviewTime\": \"Jun 28, 2012\", \"gPlusUserId\": \"100000030557048145331\"}\n",
      "Sent 14 :  {\"rating\": 4.0, \"reviewerName\": \"william spindler\", \"reviewText\": \"Best War Wanton soup in Red Bluff\", \"categories\": [\"Asian Restaurant\", \"Chinese Restaurant\"], \"gPlusPlaceId\": \"106591714648856494903\", \"unixReviewTime\": 1394669496, \"reviewTime\": \"Mar 12, 2014\", \"gPlusUserId\": \"100000032416892623125\"}\n",
      "Sent 15 :  {\"rating\": 5.0, \"reviewerName\": \"william spindler\", \"reviewText\": \"This is a review that is long overdo. I've been enjoying the great pizza at this restaurant for over a year now and it's hands down the best in town. I saw a review on here saying the pizza was greasy, and I'll bet it was for a peperoni pizza. I don't know how you could put so many slices of peperoni on, where you can't even see the cheese, without a little pepperoni grease escaping. These guys at Firehouse make the pizzas that everyone else does in their commercials, you can watch as they pile the toppings a mile high on every pie. And when was the last time you saw someone slicing bell peppers and tomatoes by hand for your pizza. I honestly have a hard time understanding how these guys stay in business, but I'm glad they do. And the five dollar slice and soda lunch is probably the best value in town. Thanks guys, keep it up.\", \"categories\": [\"European Restaurant\", \"Italian Restaurant\", \"Pizza Restaurant\"], \"gPlusPlaceId\": \"109420033090810328045\", \"unixReviewTime\": 1394826388, \"reviewTime\": \"Mar 14, 2014\", \"gPlusUserId\": \"100000032416892623125\"}\n",
      "Sent 16 :  {\"rating\": 5.0, \"reviewerName\": \"william spindler\", \"reviewText\": \"Some authentic rub BBQ, great food and don't miss the jerky.\", \"categories\": [\"Barbecue Restaurant\"], \"gPlusPlaceId\": \"111623070919810985923\", \"unixReviewTime\": 1394671215, \"reviewTime\": \"Mar 12, 2014\", \"gPlusUserId\": \"100000032416892623125\"}\n",
      "Sent 17 :  {\"rating\": 4.0, \"reviewerName\": \"william spindler\", \"reviewText\": \"Truly a Red Bluff standard. Great old fashioned drive in with everything you could want from one. I see people say they been coming for 15 years but have an off day and I'll teach them by writing a review. Well I've been going there far longer than that and I have no complaints. Where else are you going to get a good root beer shake in this town?\", \"categories\": [\"Restaurant\"], \"gPlusPlaceId\": \"113854191152597312098\", \"unixReviewTime\": 1394670357, \"reviewTime\": \"Mar 12, 2014\", \"gPlusUserId\": \"100000032416892623125\"}\n",
      "Sent 18 :  {\"rating\": 5.0, \"reviewerName\": \"william spindler\", \"reviewText\": \"Long time favorite Mexican food, always consistent and great tasting.\", \"categories\": [\"Mexican Restaurant\"], \"gPlusPlaceId\": \"115827996910815192564\", \"unixReviewTime\": 1394669713, \"reviewTime\": \"Mar 12, 2014\", \"gPlusUserId\": \"100000032416892623125\"}\n",
      "Sent 19 :  {\"rating\": 5.0, \"reviewerName\": \"william spindler\", \"reviewText\": \"Best Hot Sour soup anywhere.\", \"categories\": [\"Chinese Restaurant\"], \"gPlusPlaceId\": \"116585428624152564242\", \"unixReviewTime\": 1394842359, \"reviewTime\": \"Mar 14, 2014\", \"gPlusUserId\": \"100000032416892623125\"}\n",
      "Sent 20 :  {\"rating\": 5.0, \"reviewerName\": \"Jacquelyn Dorris\", \"reviewText\": null, \"categories\": [\"College\"], \"gPlusPlaceId\": \"104616184831707794985\", \"unixReviewTime\": 1331939751, \"reviewTime\": \"Mar 16, 2012\", \"gPlusUserId\": \"100000035085750632094\"}\n",
      "Sent 21 :  {\"rating\": 5.0, \"reviewerName\": \"Bharti Phand\", \"reviewText\": null, \"categories\": [\"Hotel\", \"Restaurant\"], \"gPlusPlaceId\": \"110484732624327291509\", \"unixReviewTime\": 1388050006, \"reviewTime\": \"Dec 26, 2013\", \"gPlusUserId\": \"100000036174088924566\"}\n",
      "Sent 22 :  {\"rating\": 5.0, \"reviewerName\": \"\\u674e\\u68df\\u6881\", \"reviewText\": \"\\u5f70\\u5316\\u5e02\\u9910\\u5ef3\\u88e1\\u7b97 \\u5f88\\u4fbf\\u5b9c\\u725b\\u6392\\u53c8\\u5927\\u4efd\\u91cfok\\u5566\", \"categories\": [\"Steak House\", \"Western Restaurant\", \"American Restaurant\"], \"gPlusPlaceId\": \"105794772368774463602\", \"unixReviewTime\": 1379695355, \"reviewTime\": \"Sep 20, 2013\", \"gPlusUserId\": \"100000037905537879319\"}\n",
      "Sent 23 :  {\"rating\": 4.0, \"reviewerName\": \"Sazidur Rahman\", \"reviewText\": \"M here\", \"categories\": [\"Market\"], \"gPlusPlaceId\": \"103133677716773897224\", \"unixReviewTime\": 1355475072, \"reviewTime\": \"Dec 14, 2012\", \"gPlusUserId\": \"100000039815955317902\"}\n",
      "Sent 24 :  {\"rating\": 5.0, \"reviewerName\": \"Malaba Geoffrey\", \"reviewText\": null, \"categories\": [\"Indoor Lodging\"], \"gPlusPlaceId\": \"111999087671228795673\", \"unixReviewTime\": 1390212286, \"reviewTime\": \"Jan 20, 2014\", \"gPlusUserId\": \"100000042779388982190\"}\n",
      "Sent 25 :  {\"rating\": 2.0, \"reviewerName\": \"Malaba Geoffrey\", \"reviewText\": null, \"categories\": [\"Hotel\"], \"gPlusPlaceId\": \"114222269311366452319\", \"unixReviewTime\": 1372840159, \"reviewTime\": \"Jul 3, 2013\", \"gPlusUserId\": \"100000042779388982190\"}\n",
      "Sent 26 :  {\"rating\": 5.0, \"reviewerName\": \"Mohammad Usmani\", \"reviewText\": \"Have been visiting for 11 years with family never had any problems or issues. Very considerate, generous and professional people. Good job!\", \"categories\": [\"Dental Clinic\", \"Dental Implants Periodontist\", \"Teeth Whitening Service\"], \"gPlusPlaceId\": \"117331301730155452309\", \"unixReviewTime\": 1343696896, \"reviewTime\": \"Jul 30, 2012\", \"gPlusUserId\": \"100000043260896241030\"}\n",
      "Sent 27 :  {\"rating\": 5.0, \"reviewerName\": \"Johanna S\", \"reviewText\": \"My husband uses his truck for work, and several months ago we started having problems with it. We needed it fixed ASAP in order for him to get back to work. It was a Thursday and I called the closest dealership, Lithia in Corpus, and they said they wouldn't be able to even look at it until the following Wednesday. So I called Port Lavaca Dodge. They told me to bring it that day, and they would do their best to get it looked at.  Long story short, the truck was up and running good as new by the following Wednesday. That's why we continue to drive the extra hour to Port Lavaca to have both our trucks serviced there.\", \"categories\": [\"Car Dealer\"], \"gPlusPlaceId\": \"104231480695579463827\", \"unixReviewTime\": 1362944666, \"reviewTime\": \"Mar 10, 2013\", \"gPlusUserId\": \"100000050936341836015\"}\n",
      "Sent 28 :  {\"rating\": 2.0, \"reviewerName\": \"Richard Yocom\", \"reviewText\": \"Open 24 hours is a plus but really slow. Sat in drive thru for 30 minutes. Was not real friendly. Food was ok\", \"categories\": [\"Restaurant\"], \"gPlusPlaceId\": \"100073820849130920147\", \"unixReviewTime\": 1376203530, \"reviewTime\": \"Aug 10, 2013\", \"gPlusUserId\": \"100000053212755369563\"}\n",
      "Sent 29 :  {\"rating\": 2.0, \"reviewerName\": \"Richard Yocom\", \"reviewText\": \"We ordered two large pizzas during the any pizza any way for $10. Our order come to $38 including a salad. You now have to ask for the special or you won't get it. They will charge you full price. The salad was pathetic and disgusting it had gnats all over it in the food and flying around. Service was ok. But for a salad bar to look that way was ridiculous....will not be back. You will wait a while for your pizza....\", \"categories\": [\"Pizza Restaurant\", \"European Restaurant\"], \"gPlusPlaceId\": \"102333498482915416504\", \"unixReviewTime\": 1378170758, \"reviewTime\": \"Sep 2, 2013\", \"gPlusUserId\": \"100000053212755369563\"}\n",
      "Sent 30 :  {\"rating\": 1.0, \"reviewerName\": \"Richard Yocom\", \"reviewText\": \"CLOSED!!!!!\", \"categories\": [\"Pizza Restaurant\", \"European Restaurant\"], \"gPlusPlaceId\": \"102471437282277965376\", \"unixReviewTime\": 1376679290, \"reviewTime\": \"Aug 16, 2013\", \"gPlusUserId\": \"100000053212755369563\"}\n",
      "Sent 31 :  {\"rating\": 2.0, \"reviewerName\": \"Richard Yocom\", \"reviewText\": \"Food was good. Had steak salad and a taco. Was sick and asked for a to go box for the plate of food I had already made and took 5 bites of. The waitress was very polite and friendly and asked her manager if I could have a box and he said NO. I asked to speak with him and he leaned on a wall and asked \\\"whatcha want\\\" I explained my situation and he replied with you have already come in and once you've paid for the buffett that was it. He wasn't even sympathetic about me being sick he wouldnt refund my money either I had to call the  corprate office to get my money back....\", \"categories\": [\"Restaurant\", \"American Restaurant\"], \"gPlusPlaceId\": \"103519165841762621376\", \"unixReviewTime\": 1376616004, \"reviewTime\": \"Aug 15, 2013\", \"gPlusUserId\": \"100000053212755369563\"}\n",
      "Sent 32 :  {\"rating\": 2.0, \"reviewerName\": \"Richard Yocom\", \"reviewText\": \"Got order to go and was fairly fast but was not the cleanest place....\", \"categories\": [\"American Restaurant\"], \"gPlusPlaceId\": \"107667540471917464953\", \"unixReviewTime\": 1376203678, \"reviewTime\": \"Aug 10, 2013\", \"gPlusUserId\": \"100000053212755369563\"}\n",
      "Sent 33 :  {\"rating\": 3.0, \"reviewerName\": \"Jackie Harvilla\", \"reviewText\": \"Biscits hard as a rock..actually knocked on table and watress heard it....food was good biscuits no\", \"categories\": [\"American Restaurant\"], \"gPlusPlaceId\": \"117682556988480065346\", \"unixReviewTime\": 1353780566, \"reviewTime\": \"Nov 24, 2012\", \"gPlusUserId\": \"100000059843227870895\"}\n",
      "Sent 34 :  {\"rating\": 3.0, \"reviewerName\": \"Daniel Galeana\", \"reviewText\": null, \"categories\": [\"Stadium\"], \"gPlusPlaceId\": \"110058017192925236130\", \"unixReviewTime\": 1380378214, \"reviewTime\": \"Sep 28, 2013\", \"gPlusUserId\": \"100000062743976665256\"}\n",
      "Sent 35 :  {\"rating\": 2.0, \"reviewerName\": \"George LaMay\", \"reviewText\": \"This not the place to go for fish and chips worse ive ever had same crap in the new location\", \"categories\": [\"Irish Restaurant\", \"European Restaurant\", \"Seafood Restaurant\"], \"gPlusPlaceId\": \"101223243259821862422\", \"unixReviewTime\": 1381887379, \"reviewTime\": \"Oct 15, 2013\", \"gPlusUserId\": \"100000064326457959539\"}\n",
      "Sent 36 :  {\"rating\": 3.0, \"reviewerName\": \"George LaMay\", \"reviewText\": \"Will never go in to any of there stores again im 64 years old and they card me.please dont take this people stop going.\", \"categories\": [\"Bar & Grill\", \"Chicken Wings Restaurant\", \"Takeout Restaurant\"], \"gPlusPlaceId\": \"101273590867068362261\", \"unixReviewTime\": 1394827088, \"reviewTime\": \"Mar 14, 2014\", \"gPlusUserId\": \"100000064326457959539\"}\n",
      "Sent 37 :  {\"rating\": 4.0, \"reviewerName\": \"Aniello Prezioso\", \"reviewText\": \"Flauti una famiglia da sempre nella ristorazione DA OLTRE 30 ANNI   mitica la pizza e il pesce . grandi  , nello di san demetrio\", \"categories\": [\"European Restaurant\", \"Italian Restaurant\", \"Pizza Restaurant\"], \"gPlusPlaceId\": \"115430931383011939869\", \"unixReviewTime\": 1372960842, \"reviewTime\": \"Jul 4, 2013\", \"gPlusUserId\": \"100000067656171981860\"}\n",
      "Sent 38 :  {\"rating\": 4.0, \"reviewerName\": \"Aniello Prezioso\", \"reviewText\": \"ambiente accogliente PARCHEGGIO buona cucina belle portate\", \"categories\": [\"European Restaurant\", \"Italian Restaurant\", \"Pizza Restaurant\"], \"gPlusPlaceId\": \"116000108749130053652\", \"unixReviewTime\": 1297620680, \"reviewTime\": \"Feb 13, 2011\", \"gPlusUserId\": \"100000067656171981860\"}\n",
      "Sent 39 :  {\"rating\": 2.0, \"reviewerName\": \"Renee Brown\", \"reviewText\": \"if you really care about your education and not just a refund check then dont attend. They are ghetto to the max. Poor service, Obama would not be pleased.  -___-\", \"categories\": [\"Community College\", \"College\", \"University\"], \"gPlusPlaceId\": \"103021148620072345104\", \"unixReviewTime\": 1366220452, \"reviewTime\": \"Apr 17, 2013\", \"gPlusUserId\": \"100000069918550320216\"}\n"
     ]
    }
   ],
   "source": [
    "if __name__ == '__main__':\n",
    "    # Thay thế 'localhost:9092' và 'PREDICT_RATINGS_OF_GOOGLE_LOCAL_REVIEWS_IE212_O11_GROUP7' bằng thông tin Kafka của bạn\n",
    "    bootstrap_servers = 'localhost:9092'\n",
    "    kafka_topic = 'PREDICT_RATINGS_OF_GOOGLE_LOCAL_REVIEWS_IE212_O11_GROUP7'\n",
    "    \n",
    "    # Thay thế 'data/reviews.clean.json.gz' bằng đường dẫn tới tệp của bạn\n",
    "    file_path = 'data/reviews.clean.json.gz'\n",
    "    \n",
    "    try:\n",
    "        kafka_producer(bootstrap_servers, kafka_topic, file_path)\n",
    "    except KeyboardInterrupt:\n",
    "        print(\"Stopping the producer...\")\n",
    "        running = False  # Đặt biến cờ thành False để dừng producer"
   ]
  }
 ],
 "metadata": {
  "kernelspec": {
   "display_name": "Python 3 (ipykernel)",
   "language": "python",
   "name": "python3"
  },
  "language_info": {
   "codemirror_mode": {
    "name": "ipython",
    "version": 3
   },
   "file_extension": ".py",
   "mimetype": "text/x-python",
   "name": "python",
   "nbconvert_exporter": "python",
   "pygments_lexer": "ipython3",
   "version": "3.9.13"
  }
 },
 "nbformat": 4,
 "nbformat_minor": 5
}
