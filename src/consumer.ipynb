{
 "cells": [
  {
   "cell_type": "code",
   "execution_count": 1,
   "id": "d9875d6e-0e80-496d-8851-e998700254f2",
   "metadata": {},
   "outputs": [
    {
     "name": "stdout",
     "output_type": "stream",
     "text": [
      "Could not fetch URL https://pypi.org/simple/pyspark/: There was a problem confirming the ssl certificate: HTTPSConnectionPool(host='pypi.org', port=443): Max retries exceeded with url: /simple/pyspark/ (Caused by SSLError(SSLEOFError(8, 'EOF occurred in violation of protocol (_ssl.c:1129)'))) - skipping\n"
     ]
    },
    {
     "name": "stderr",
     "output_type": "stream",
     "text": [
      "WARNING: Retrying (Retry(total=4, connect=None, read=None, redirect=None, status=None)) after connection broken by 'SSLError(SSLEOFError(8, 'EOF occurred in violation of protocol (_ssl.c:1129)'))': /simple/pyspark/\n",
      "WARNING: Retrying (Retry(total=3, connect=None, read=None, redirect=None, status=None)) after connection broken by 'SSLError(SSLEOFError(8, 'EOF occurred in violation of protocol (_ssl.c:1129)'))': /simple/pyspark/\n",
      "WARNING: Retrying (Retry(total=2, connect=None, read=None, redirect=None, status=None)) after connection broken by 'SSLError(SSLEOFError(8, 'EOF occurred in violation of protocol (_ssl.c:1129)'))': /simple/pyspark/\n",
      "WARNING: Retrying (Retry(total=1, connect=None, read=None, redirect=None, status=None)) after connection broken by 'SSLError(SSLEOFError(8, 'EOF occurred in violation of protocol (_ssl.c:1129)'))': /simple/pyspark/\n",
      "WARNING: Retrying (Retry(total=0, connect=None, read=None, redirect=None, status=None)) after connection broken by 'SSLError(SSLEOFError(8, 'EOF occurred in violation of protocol (_ssl.c:1129)'))': /simple/pyspark/\n",
      "ERROR: Could not find a version that satisfies the requirement pyspark (from versions: none)\n",
      "ERROR: No matching distribution found for pyspark\n"
     ]
    },
    {
     "name": "stdout",
     "output_type": "stream",
     "text": [
      "Requirement already satisfied: findspark in c:\\users\\nunnun\\appdata\\local\\packages\\pythonsoftwarefoundation.python.3.9_qbz5n2kfra8p0\\localcache\\local-packages\\python39\\site-packages (2.0.1)\n"
     ]
    }
   ],
   "source": [
    "!pip install pyspark\n",
    "!pip install findspark"
   ]
  },
  {
   "cell_type": "code",
   "execution_count": 1,
   "id": "93d9c3e7-f77e-466c-bab5-59a7d96c02a3",
   "metadata": {},
   "outputs": [],
   "source": [
    "import findspark\n",
    "findspark.init()\n",
    "import pyspark\n",
    "from pyspark.sql import SparkSession"
   ]
  },
  {
   "cell_type": "code",
   "execution_count": 3,
   "id": "5b79ec55-9e93-4381-a61d-7fa6f589c913",
   "metadata": {},
   "outputs": [
    {
     "data": {
      "text/html": [
       "\n",
       "            <div>\n",
       "                <p><b>SparkSession - in-memory</b></p>\n",
       "                \n",
       "        <div>\n",
       "            <p><b>SparkContext</b></p>\n",
       "\n",
       "            <p><a href=\"http://DESKTOP-GC7B68S:4040\">Spark UI</a></p>\n",
       "\n",
       "            <dl>\n",
       "              <dt>Version</dt>\n",
       "                <dd><code>v3.5.0</code></dd>\n",
       "              <dt>Master</dt>\n",
       "                <dd><code>local</code></dd>\n",
       "              <dt>AppName</dt>\n",
       "                <dd><code>PREDICT_RATINGS_OF_GOOGLE_LOCAL_REVIEWS_IE212_O11_GROUP7</code></dd>\n",
       "            </dl>\n",
       "        </div>\n",
       "        \n",
       "            </div>\n",
       "        "
      ],
      "text/plain": [
       "<pyspark.sql.session.SparkSession at 0x158418ce9a0>"
      ]
     },
     "execution_count": 3,
     "metadata": {},
     "output_type": "execute_result"
    }
   ],
   "source": [
    "scala_version = '2.12'  # your scala version\n",
    "spark_version = '3.5.0' # your spark version\n",
    "packages = [\n",
    "    f'org.apache.spark:spark-sql-kafka-0-10_{scala_version}:{spark_version}',\n",
    "    'org.apache.kafka:kafka-clients:3.6.0' #your kafka version\n",
    "]\n",
    "spark = SparkSession.builder.master(\"local\").appName(\"PREDICT_RATINGS_OF_GOOGLE_LOCAL_REVIEWS_IE212_O11_GROUP7\").config(\"spark.jars.packages\", \",\".join(packages)).getOrCreate()\n",
    "spark"
   ]
  },
  {
   "cell_type": "code",
   "execution_count": 24,
   "id": "765f0837-57f3-44c6-8aa8-0bf78acdca27",
   "metadata": {},
   "outputs": [],
   "source": [
    "# Usage of KafkaConsumer class\n",
    "bootstrap_servers = 'localhost:9092'\n",
    "topic_name = 'PREDICT_RATINGS_OF_GOOGLE_LOCAL_REVIEWS_IE212_O11_GROUP7'\n",
    "\n",
    "kafkaDf = spark.read.format(\"kafka\").option(\"kafka.bootstrap.servers\", bootstrap_servers)\\\n",
    "                .option(\"subscribe\", topic_name)\\\n",
    "                .option(\"startingOffsets\", \"earliest\").load()"
   ]
  },
  {
   "cell_type": "code",
   "execution_count": 8,
   "id": "ec98554e-e3a1-47cc-aacf-347b632632de",
   "metadata": {},
   "outputs": [],
   "source": [
    "selected_columns = [\"rating\", \"reviewerName\", \"reviewText\", \"categories\", \"gPlusPlaceId\", \"unixReviewTime\", \"reviewTime\", \"gPlusUserId\"]"
   ]
  },
  {
   "cell_type": "code",
   "execution_count": 26,
   "id": "55cd9977-4708-4da9-ac7c-b87122e8908f",
   "metadata": {},
   "outputs": [
    {
     "name": "stdout",
     "output_type": "stream",
     "text": [
      "Showing live view refreshed every 5 seconds\n",
      "Seconds passed: 30\n",
      "+------+----------------+----------------------------------------------------------------------------------------------------------------------------------------------------------------------------------------------------------------------------------------------------------------------------------------------------------------------------------------------------------------------------------------------------------------------------------------------------------------------------------------------------------------------------------------------------------------------------------------------------------------------------------------------------------------------------------------------------------------------------------------------------------------------------------------------------------------------------------------------------------------------+--------------------------------------------------------------------------+---------------------+--------------+------------+---------------------+\n",
      "|rating|reviewerName    |reviewText                                                                                                                                                                                                                                                                                                                                                                                                                                                                                                                                                                                                                                                                                                                                                                                                                                                            |categories                                                                |gPlusPlaceId         |unixReviewTime|reviewTime  |gPlusUserId          |\n",
      "+------+----------------+----------------------------------------------------------------------------------------------------------------------------------------------------------------------------------------------------------------------------------------------------------------------------------------------------------------------------------------------------------------------------------------------------------------------------------------------------------------------------------------------------------------------------------------------------------------------------------------------------------------------------------------------------------------------------------------------------------------------------------------------------------------------------------------------------------------------------------------------------------------------+--------------------------------------------------------------------------+---------------------+--------------+------------+---------------------+\n",
      "|4.0   |森田さとこ      |イベントの光のページェント が素晴らしい❗🔍 私はとても仮面ライダーが素晴らしいが良いがです🎵ネ。                                                                                                                                                                                                                                                                                                                                                                                                                                                                                                                                                                                                                                                                                                                                                                       |[\"Art Museum\"]                                                            |111367239248458923884|1390445561    |Jan 22, 2014|100000021336848867366|\n",
      "|4.0   |森田さとこ      |ヒマ👽休みが仙台市科学館 に行って見ます❗                                                                                                                                                                                                                                                                                                                                                                                                                                                                                                                                                                                                                                                                                                                                                                                                                              |[\"Science Museum\"]                                                        |111951491217608644315|1390387529    |Jan 22, 2014|100000021336848867366|\n",
      "|5.0   |森田さとこ      |久しぶりに青葉城に行きたい❗                                                                                                                                                                                                                                                                                                                                                                                                                                                                                                                                                                                                                                                                                                                                                                                                                                           |[\"Grocery Store\"]                                                         |113899620351618240699|1392295463    |Feb 13, 2014|100000021336848867366|\n",
      "|4.0   |森田さとこ      |これから、私は予定に秋が一人で旅行の楽しいに宮城県登米市に行って泊まり来ますので思います❗☀                                                                                                                                                                                                                                                                                                                                                                                                                                                                                                                                                                                                                                                                                                                                                                            |[\"Budget Hotel\"]                                                          |116871469190387424406|1389191801    |Jan 8, 2014 |100000021336848867366|\n",
      "|5.0   |森田さとこ      |何回も私は休みがアエルデパートに行ったので分かる❗                                                                                                                                                                                                                                                                                                                                                                                                                                                                                                                                                                                                                                                                                                                                                                                                                     |NULL                                                                      |117582951880076136638|1390652445    |Jan 25, 2014|100000021336848867366|\n",
      "|5.0   |amey kore       |NULL                                                                                                                                                                                                                                                                                                                                                                                                                                                                                                                                                                                                                                                                                                                                                                                                                                                                  |NULL                                                                      |111478860057135750881|1340897319    |Jun 28, 2012|100000030557048145331|\n",
      "|4.0   |william spindler|Best War Wanton soup in Red Bluff                                                                                                                                                                                                                                                                                                                                                                                                                                                                                                                                                                                                                                                                                                                                                                                                                                     |[\"Asian Restaurant\",\"Chinese Restaurant\"]                                 |106591714648856494903|1394669496    |Mar 12, 2014|100000032416892623125|\n",
      "|5.0   |william spindler|This is a review that is long overdo. I've been enjoying the great pizza at this restaurant for over a year now and it's hands down the best in town. I saw a review on here saying the pizza was greasy, and I'll bet it was for a peperoni pizza. I don't know how you could put so many slices of peperoni on, where you can't even see the cheese, without a little pepperoni grease escaping. These guys at Firehouse make the pizzas that everyone else does in their commercials, you can watch as they pile the toppings a mile high on every pie. And when was the last time you saw someone slicing bell peppers and tomatoes by hand for your pizza. I honestly have a hard time understanding how these guys stay in business, but I'm glad they do. And the five dollar slice and soda lunch is probably the best value in town. Thanks guys, keep it up.|[\"European Restaurant\",\"Italian Restaurant\",\"Pizza Restaurant\"]           |109420033090810328045|1394826388    |Mar 14, 2014|100000032416892623125|\n",
      "|5.0   |william spindler|Some authentic rub BBQ, great food and don't miss the jerky.                                                                                                                                                                                                                                                                                                                                                                                                                                                                                                                                                                                                                                                                                                                                                                                                          |[\"Barbecue Restaurant\"]                                                   |111623070919810985923|1394671215    |Mar 12, 2014|100000032416892623125|\n",
      "|4.0   |william spindler|Truly a Red Bluff standard. Great old fashioned drive in with everything you could want from one. I see people say they been coming for 15 years but have an off day and I'll teach them by writing a review. Well I've been going there far longer than that and I have no complaints. Where else are you going to get a good root beer shake in this town?                                                                                                                                                                                                                                                                                                                                                                                                                                                                                                          |[\"Restaurant\"]                                                            |113854191152597312098|1394670357    |Mar 12, 2014|100000032416892623125|\n",
      "|5.0   |william spindler|Long time favorite Mexican food, always consistent and great tasting.                                                                                                                                                                                                                                                                                                                                                                                                                                                                                                                                                                                                                                                                                                                                                                                                 |[\"Mexican Restaurant\"]                                                    |115827996910815192564|1394669713    |Mar 12, 2014|100000032416892623125|\n",
      "|5.0   |william spindler|Best Hot Sour soup anywhere.                                                                                                                                                                                                                                                                                                                                                                                                                                                                                                                                                                                                                                                                                                                                                                                                                                          |[\"Chinese Restaurant\"]                                                    |116585428624152564242|1394842359    |Mar 14, 2014|100000032416892623125|\n",
      "|5.0   |Jacquelyn Dorris|NULL                                                                                                                                                                                                                                                                                                                                                                                                                                                                                                                                                                                                                                                                                                                                                                                                                                                                  |[\"College\"]                                                               |104616184831707794985|1331939751    |Mar 16, 2012|100000035085750632094|\n",
      "|5.0   |Bharti Phand    |NULL                                                                                                                                                                                                                                                                                                                                                                                                                                                                                                                                                                                                                                                                                                                                                                                                                                                                  |[\"Hotel\",\"Restaurant\"]                                                    |110484732624327291509|1388050006    |Dec 26, 2013|100000036174088924566|\n",
      "|5.0   |李棟梁          |彰化市餐廳裡算 很便宜牛排又大份量ok啦                                                                                                                                                                                                                                                                                                                                                                                                                                                                                                                                                                                                                                                                                                                                                                                                                                 |[\"Steak House\",\"Western Restaurant\",\"American Restaurant\"]                |105794772368774463602|1379695355    |Sep 20, 2013|100000037905537879319|\n",
      "|4.0   |Sazidur Rahman  |M here                                                                                                                                                                                                                                                                                                                                                                                                                                                                                                                                                                                                                                                                                                                                                                                                                                                                |[\"Market\"]                                                                |103133677716773897224|1355475072    |Dec 14, 2012|100000039815955317902|\n",
      "|5.0   |Malaba Geoffrey |NULL                                                                                                                                                                                                                                                                                                                                                                                                                                                                                                                                                                                                                                                                                                                                                                                                                                                                  |[\"Indoor Lodging\"]                                                        |111999087671228795673|1390212286    |Jan 20, 2014|100000042779388982190|\n",
      "|2.0   |Malaba Geoffrey |NULL                                                                                                                                                                                                                                                                                                                                                                                                                                                                                                                                                                                                                                                                                                                                                                                                                                                                  |[\"Hotel\"]                                                                 |114222269311366452319|1372840159    |Jul 3, 2013 |100000042779388982190|\n",
      "|5.0   |Mohammad Usmani |Have been visiting for 11 years with family never had any problems or issues. Very considerate, generous and professional people. Good job!                                                                                                                                                                                                                                                                                                                                                                                                                                                                                                                                                                                                                                                                                                                           |[\"Dental Clinic\",\"Dental Implants Periodontist\",\"Teeth Whitening Service\"]|117331301730155452309|1343696896    |Jul 30, 2012|100000043260896241030|\n",
      "|5.0   |Johanna S       |My husband uses his truck for work, and several months ago we started having problems with it. We needed it fixed ASAP in order for him to get back to work. It was a Thursday and I called the closest dealership, Lithia in Corpus, and they said they wouldn't be able to even look at it until the following Wednesday. So I called Port Lavaca Dodge. They told me to bring it that day, and they would do their best to get it looked at.  Long story short, the truck was up and running good as new by the following Wednesday. That's why we continue to drive the extra hour to Port Lavaca to have both our trucks serviced there.                                                                                                                                                                                                                         |[\"Car Dealer\"]                                                            |104231480695579463827|1362944666    |Mar 10, 2013|100000050936341836015|\n",
      "+------+----------------+----------------------------------------------------------------------------------------------------------------------------------------------------------------------------------------------------------------------------------------------------------------------------------------------------------------------------------------------------------------------------------------------------------------------------------------------------------------------------------------------------------------------------------------------------------------------------------------------------------------------------------------------------------------------------------------------------------------------------------------------------------------------------------------------------------------------------------------------------------------------+--------------------------------------------------------------------------+---------------------+--------------+------------+---------------------+\n",
      "only showing top 20 rows\n",
      "\n",
      "break\n",
      "Live view ended...\n"
     ]
    }
   ],
   "source": [
    "from time import sleep\n",
    "from IPython.display import display, clear_output\n",
    "from pyspark.sql import SparkSession\n",
    "from pyspark.sql.functions import from_json\n",
    "from pyspark.sql.types import StructType, StructField, StringType, DoubleType, IntegerType\n",
    "\n",
    "# Khởi tạo SparkSession\n",
    "spark = SparkSession.builder.appName(\"PREDICT_RATINGS_OF_GOOGLE_LOCAL_REVIEWS_IE212_O11_GROUP7\").getOrCreate()\n",
    "\n",
    "# Định nghĩa schema cho dữ liệu JSON\n",
    "json_schema = StructType([\n",
    "    StructField(\"rating\", DoubleType(), True),\n",
    "    StructField(\"reviewerName\", StringType(), True),\n",
    "    StructField(\"reviewText\", StringType(), True),\n",
    "    StructField(\"categories\", StringType(), True),\n",
    "    StructField(\"gPlusPlaceId\", StringType(), True),\n",
    "    StructField(\"unixReviewTime\", IntegerType(), True),\n",
    "    StructField(\"reviewTime\", StringType(), True),\n",
    "    StructField(\"gPlusUserId\", StringType(), True)\n",
    "])\n",
    "\n",
    "# Đọc dữ liệu từ Kafka topic và chuyển đổi thành DataFrame\n",
    "kafka_stream_df = spark.readStream.format(\"kafka\") \\\n",
    "    .option(\"kafka.bootstrap.servers\", bootstrap_servers) \\\n",
    "    .option(\"subscribe\", topic_name) \\\n",
    "    .load()\n",
    "\n",
    "kafkaDf = spark.read.format(\"kafka\").option(\"kafka.bootstrap.servers\", bootstrap_servers)\\\n",
    "                .option(\"subscribe\", topic_name)\\\n",
    "                .option(\"startingOffsets\", \"earliest\").load()\n",
    "\n",
    "# Chuyển đổi giá trị từ JSON string sang struct với schema đã định nghĩa\n",
    "json_stream_df = kafkaDf.selectExpr(\"CAST(value AS STRING)\") \\\n",
    "    .select(from_json(\"value\", json_schema).alias(\"data\")) \\\n",
    "    .select(\"data.*\")\n",
    "\n",
    "x = 0\n",
    "while True:\n",
    "    try:\n",
    "        print(\"Showing live view refreshed every 5 seconds\")\n",
    "        print(f\"Seconds passed: {x*5}\")\n",
    "        x += 1\n",
    "\n",
    "        newest = json_stream_df.tail(30)  # Chọn 30 dòng mới nhất\n",
    "\n",
    "        # Hiển thị từng dòng một\n",
    "        last_30_rows_df = spark.createDataFrame(newest)\n",
    "        last_30_rows_df.show(truncate=False)\n",
    "\n",
    "        sleep(5)\n",
    "        clear_output(wait=True)\n",
    "\n",
    "    except KeyboardInterrupt:\n",
    "        print(\"break\")\n",
    "        break\n",
    "\n",
    "print(\"Live view ended...\")\n"
   ]
  },
  {
   "cell_type": "code",
   "execution_count": 27,
   "id": "af2ad26e-b1b8-4548-a1d3-ca6eb86f2345",
   "metadata": {},
   "outputs": [
    {
     "name": "stdout",
     "output_type": "stream",
     "text": [
      "+------+----------------+-------------------------------------+--------------------+--------------------+--------------+------------+--------------------+\n",
      "|rating|    reviewerName|                           reviewText|          categories|        gPlusPlaceId|unixReviewTime|  reviewTime|         gPlusUserId|\n",
      "+------+----------------+-------------------------------------+--------------------+--------------------+--------------+------------+--------------------+\n",
      "|   3.0|          an lam|                    Chất lượng tạm ổn| [\"Giải Trí - Café\"]|10810331438000420...|    1372686659| Jul 1, 2013|10000001081715426...|\n",
      "|   5.0|    HALİL TURGUT|                 Wc si temiz duzen...| [\"Turkish Cuisine\"]|10219412824160874...|    1342870724|Jul 21, 2012|10000001350028553...|\n",
      "|   5.0|      森田さとこ|何回も私は予定に休みがセルバに行っ...|[\"Fishing\",\"Pond ...|10140985882817540...|    1390653513|Jan 25, 2014|10000002133684886...|\n",
      "|   5.0|      森田さとこ|今度は予定に休みが登米市に行きたい...|          [\"Museum\"]|10147717750015851...|    1389187706| Jan 8, 2014|10000002133684886...|\n",
      "|   4.0|      森田さとこ|     気仙沼警察署に移転中に絆 👮🐎...|          [\"Police\"]|10699417064106333...|    1390486279|Jan 23, 2014|10000002133684886...|\n",
      "|   5.0|      森田さとこ|久しぶりに仙台市八木山ベニーランド...|      [\"Theme Park\"]|10744338076568878...|    1390192729|Jan 19, 2014|10000002133684886...|\n",
      "|   5.0|      森田さとこ| 私は今度は休みがザ・モール★の映画...|   [\"Shopping Mall\"]|10799877570421025...|    1390825528|Jan 27, 2014|10000002133684886...|\n",
      "|   4.0|      森田さとこ| イベントの光のページェント が素晴...|      [\"Art Museum\"]|11136723924845892...|    1390445561|Jan 22, 2014|10000002133684886...|\n",
      "|   4.0|      森田さとこ|   ヒマ👽休みが仙台市科学館 に行っ...|  [\"Science Museum\"]|11195149121760864...|    1390387529|Jan 22, 2014|10000002133684886...|\n",
      "|   5.0|      森田さとこ|          久しぶりに青葉城に行きたい❗|   [\"Grocery Store\"]|11389962035161824...|    1392295463|Feb 13, 2014|10000002133684886...|\n",
      "|   3.0|          an lam|                    Chất lượng tạm ổn| [\"Giải Trí - Café\"]|10810331438000420...|    1372686659| Jul 1, 2013|10000001081715426...|\n",
      "|   5.0|    HALİL TURGUT|                 Wc si temiz duzen...| [\"Turkish Cuisine\"]|10219412824160874...|    1342870724|Jul 21, 2012|10000001350028553...|\n",
      "|   5.0|      森田さとこ|何回も私は予定に休みがセルバに行っ...|[\"Fishing\",\"Pond ...|10140985882817540...|    1390653513|Jan 25, 2014|10000002133684886...|\n",
      "|   5.0|      森田さとこ|今度は予定に休みが登米市に行きたい...|          [\"Museum\"]|10147717750015851...|    1389187706| Jan 8, 2014|10000002133684886...|\n",
      "|   4.0|      森田さとこ|     気仙沼警察署に移転中に絆 👮🐎...|          [\"Police\"]|10699417064106333...|    1390486279|Jan 23, 2014|10000002133684886...|\n",
      "|   3.0|          an lam|                    Chất lượng tạm ổn| [\"Giải Trí - Café\"]|10810331438000420...|    1372686659| Jul 1, 2013|10000001081715426...|\n",
      "|   5.0|    HALİL TURGUT|                 Wc si temiz duzen...| [\"Turkish Cuisine\"]|10219412824160874...|    1342870724|Jul 21, 2012|10000001350028553...|\n",
      "|   5.0|      森田さとこ|何回も私は予定に休みがセルバに行っ...|[\"Fishing\",\"Pond ...|10140985882817540...|    1390653513|Jan 25, 2014|10000002133684886...|\n",
      "|   5.0|      森田さとこ|今度は予定に休みが登米市に行きたい...|          [\"Museum\"]|10147717750015851...|    1389187706| Jan 8, 2014|10000002133684886...|\n",
      "|   4.0|      森田さとこ|     気仙沼警察署に移転中に絆 👮🐎...|          [\"Police\"]|10699417064106333...|    1390486279|Jan 23, 2014|10000002133684886...|\n",
      "|   5.0|      森田さとこ|久しぶりに仙台市八木山ベニーランド...|      [\"Theme Park\"]|10744338076568878...|    1390192729|Jan 19, 2014|10000002133684886...|\n",
      "|   5.0|      森田さとこ| 私は今度は休みがザ・モール★の映画...|   [\"Shopping Mall\"]|10799877570421025...|    1390825528|Jan 27, 2014|10000002133684886...|\n",
      "|   4.0|      森田さとこ| イベントの光のページェント が素晴...|      [\"Art Museum\"]|11136723924845892...|    1390445561|Jan 22, 2014|10000002133684886...|\n",
      "|   3.0|          an lam|                    Chất lượng tạm ổn| [\"Giải Trí - Café\"]|10810331438000420...|    1372686659| Jul 1, 2013|10000001081715426...|\n",
      "|   5.0|    HALİL TURGUT|                 Wc si temiz duzen...| [\"Turkish Cuisine\"]|10219412824160874...|    1342870724|Jul 21, 2012|10000001350028553...|\n",
      "|   5.0|      森田さとこ|何回も私は予定に休みがセルバに行っ...|[\"Fishing\",\"Pond ...|10140985882817540...|    1390653513|Jan 25, 2014|10000002133684886...|\n",
      "|   5.0|      森田さとこ|今度は予定に休みが登米市に行きたい...|          [\"Museum\"]|10147717750015851...|    1389187706| Jan 8, 2014|10000002133684886...|\n",
      "|   4.0|      森田さとこ|     気仙沼警察署に移転中に絆 👮🐎...|          [\"Police\"]|10699417064106333...|    1390486279|Jan 23, 2014|10000002133684886...|\n",
      "|   5.0|      森田さとこ|久しぶりに仙台市八木山ベニーランド...|      [\"Theme Park\"]|10744338076568878...|    1390192729|Jan 19, 2014|10000002133684886...|\n",
      "|   5.0|      森田さとこ| 私は今度は休みがザ・モール★の映画...|   [\"Shopping Mall\"]|10799877570421025...|    1390825528|Jan 27, 2014|10000002133684886...|\n",
      "|   4.0|      森田さとこ| イベントの光のページェント が素晴...|      [\"Art Museum\"]|11136723924845892...|    1390445561|Jan 22, 2014|10000002133684886...|\n",
      "|   4.0|      森田さとこ|   ヒマ👽休みが仙台市科学館 に行っ...|  [\"Science Museum\"]|11195149121760864...|    1390387529|Jan 22, 2014|10000002133684886...|\n",
      "|   5.0|      森田さとこ|          久しぶりに青葉城に行きたい❗|   [\"Grocery Store\"]|11389962035161824...|    1392295463|Feb 13, 2014|10000002133684886...|\n",
      "|   4.0|      森田さとこ|これから、私は予定に秋が一人で旅行...|    [\"Budget Hotel\"]|11687146919038742...|    1389191801| Jan 8, 2014|10000002133684886...|\n",
      "|   5.0|      森田さとこ|何回も私は休みがアエルデパートに行...|                NULL|11758295188007613...|    1390652445|Jan 25, 2014|10000002133684886...|\n",
      "|   3.0|          an lam|                    Chất lượng tạm ổn| [\"Giải Trí - Café\"]|10810331438000420...|    1372686659| Jul 1, 2013|10000001081715426...|\n",
      "|   5.0|    HALİL TURGUT|                 Wc si temiz duzen...| [\"Turkish Cuisine\"]|10219412824160874...|    1342870724|Jul 21, 2012|10000001350028553...|\n",
      "|   5.0|      森田さとこ|何回も私は予定に休みがセルバに行っ...|[\"Fishing\",\"Pond ...|10140985882817540...|    1390653513|Jan 25, 2014|10000002133684886...|\n",
      "|   5.0|      森田さとこ|今度は予定に休みが登米市に行きたい...|          [\"Museum\"]|10147717750015851...|    1389187706| Jan 8, 2014|10000002133684886...|\n",
      "|   4.0|      森田さとこ|     気仙沼警察署に移転中に絆 👮🐎...|          [\"Police\"]|10699417064106333...|    1390486279|Jan 23, 2014|10000002133684886...|\n",
      "|   5.0|      森田さとこ|久しぶりに仙台市八木山ベニーランド...|      [\"Theme Park\"]|10744338076568878...|    1390192729|Jan 19, 2014|10000002133684886...|\n",
      "|   5.0|      森田さとこ| 私は今度は休みがザ・モール★の映画...|   [\"Shopping Mall\"]|10799877570421025...|    1390825528|Jan 27, 2014|10000002133684886...|\n",
      "|   4.0|      森田さとこ| イベントの光のページェント が素晴...|      [\"Art Museum\"]|11136723924845892...|    1390445561|Jan 22, 2014|10000002133684886...|\n",
      "|   4.0|      森田さとこ|   ヒマ👽休みが仙台市科学館 に行っ...|  [\"Science Museum\"]|11195149121760864...|    1390387529|Jan 22, 2014|10000002133684886...|\n",
      "|   5.0|      森田さとこ|          久しぶりに青葉城に行きたい❗|   [\"Grocery Store\"]|11389962035161824...|    1392295463|Feb 13, 2014|10000002133684886...|\n",
      "|   4.0|      森田さとこ|これから、私は予定に秋が一人で旅行...|    [\"Budget Hotel\"]|11687146919038742...|    1389191801| Jan 8, 2014|10000002133684886...|\n",
      "|   5.0|      森田さとこ|何回も私は休みがアエルデパートに行...|                NULL|11758295188007613...|    1390652445|Jan 25, 2014|10000002133684886...|\n",
      "|   5.0|       amey kore|                                 NULL|                NULL|11147886005713575...|    1340897319|Jun 28, 2012|10000003055704814...|\n",
      "|   4.0|william spindler|                 Best War Wanton s...|[\"Asian Restauran...|10659171464885649...|    1394669496|Mar 12, 2014|10000003241689262...|\n",
      "|   5.0|william spindler|                 This is a review ...|[\"European Restau...|10942003309081032...|    1394826388|Mar 14, 2014|10000003241689262...|\n",
      "|   5.0|william spindler|                 Some authentic ru...|[\"Barbecue Restau...|11162307091981098...|    1394671215|Mar 12, 2014|10000003241689262...|\n",
      "|   4.0|william spindler|                 Truly a Red Bluff...|      [\"Restaurant\"]|11385419115259731...|    1394670357|Mar 12, 2014|10000003241689262...|\n",
      "|   5.0|william spindler|                 Long time favorit...|[\"Mexican Restaur...|11582799691081519...|    1394669713|Mar 12, 2014|10000003241689262...|\n",
      "|   5.0|william spindler|                 Best Hot Sour sou...|[\"Chinese Restaur...|11658542862415256...|    1394842359|Mar 14, 2014|10000003241689262...|\n",
      "|   5.0|Jacquelyn Dorris|                                 NULL|         [\"College\"]|10461618483170779...|    1331939751|Mar 16, 2012|10000003508575063...|\n",
      "|   5.0|    Bharti Phand|                                 NULL|[\"Hotel\",\"Restaur...|11048473262432729...|    1388050006|Dec 26, 2013|10000003617408892...|\n",
      "|   5.0|          李棟梁|彰化市餐廳裡算 很便宜牛排又大份量ok啦|[\"Steak House\",\"W...|10579477236877446...|    1379695355|Sep 20, 2013|10000003790553787...|\n",
      "|   4.0|  Sazidur Rahman|                               M here|          [\"Market\"]|10313367771677389...|    1355475072|Dec 14, 2012|10000003981595531...|\n",
      "|   5.0| Malaba Geoffrey|                                 NULL|  [\"Indoor Lodging\"]|11199908767122879...|    1390212286|Jan 20, 2014|10000004277938898...|\n",
      "|   2.0| Malaba Geoffrey|                                 NULL|           [\"Hotel\"]|11422226931136645...|    1372840159| Jul 3, 2013|10000004277938898...|\n",
      "|   5.0| Mohammad Usmani|                 Have been visitin...|[\"Dental Clinic\",...|11733130173015545...|    1343696896|Jul 30, 2012|10000004326089624...|\n",
      "|   5.0|       Johanna S|                 My husband uses h...|      [\"Car Dealer\"]|10423148069557946...|    1362944666|Mar 10, 2013|10000005093634183...|\n",
      "|   2.0|   Richard Yocom|                 Open 24 hours is ...|      [\"Restaurant\"]|10007382084913092...|    1376203530|Aug 10, 2013|10000005321275536...|\n",
      "|   2.0|   Richard Yocom|                 We ordered two la...|[\"Pizza Restauran...|10233349848291541...|    1378170758| Sep 2, 2013|10000005321275536...|\n",
      "|   1.0|   Richard Yocom|                          CLOSED!!!!!|[\"Pizza Restauran...|10247143728227796...|    1376679290|Aug 16, 2013|10000005321275536...|\n",
      "|   2.0|   Richard Yocom|                 Food was good. Ha...|[\"Restaurant\",\"Am...|10351916584176262...|    1376616004|Aug 15, 2013|10000005321275536...|\n",
      "|   2.0|   Richard Yocom|                 Got order to go a...|[\"American Restau...|10766754047191746...|    1376203678|Aug 10, 2013|10000005321275536...|\n",
      "|   3.0| Jackie Harvilla|                 Biscits hard as a...|[\"American Restau...|11768255698848006...|    1353780566|Nov 24, 2012|10000005984322787...|\n",
      "|   3.0|  Daniel Galeana|                                 NULL|         [\"Stadium\"]|11005801719292523...|    1380378214|Sep 28, 2013|10000006274397666...|\n",
      "|   2.0|    George LaMay|                 This not the plac...|[\"Irish Restauran...|10122324325982186...|    1381887379|Oct 15, 2013|10000006432645795...|\n",
      "|   3.0|    George LaMay|                 Will never go in ...|[\"Bar & Grill\",\"C...|10127359086706836...|    1394827088|Mar 14, 2014|10000006432645795...|\n",
      "|   4.0|Aniello Prezioso|                 Flauti una famigl...|[\"European Restau...|11543093138301193...|    1372960842| Jul 4, 2013|10000006765617198...|\n",
      "|   4.0|Aniello Prezioso|                 ambiente accoglie...|[\"European Restau...|11600010874913005...|    1297620680|Feb 13, 2011|10000006765617198...|\n",
      "|   2.0|     Renee Brown|                 if you really car...|[\"Community Colle...|10302114862007234...|    1366220452|Apr 17, 2013|10000006991855032...|\n",
      "+------+----------------+-------------------------------------+--------------------+--------------------+--------------+------------+--------------------+\n",
      "\n"
     ]
    }
   ],
   "source": [
    "json_stream_df.show(100)"
   ]
  }
 ],
 "metadata": {
  "kernelspec": {
   "display_name": "Python 3 (ipykernel)",
   "language": "python",
   "name": "python3"
  },
  "language_info": {
   "codemirror_mode": {
    "name": "ipython",
    "version": 3
   },
   "file_extension": ".py",
   "mimetype": "text/x-python",
   "name": "python",
   "nbconvert_exporter": "python",
   "pygments_lexer": "ipython3",
   "version": "3.11.3"
  }
 },
 "nbformat": 4,
 "nbformat_minor": 5
}
