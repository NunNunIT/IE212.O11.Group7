{
 "cells": [
  {
   "cell_type": "code",
   "execution_count": 1,
   "id": "1a9b6d0b-32f5-4713-9ec7-4cfef56848f8",
   "metadata": {},
   "outputs": [],
   "source": [
    "import json\n",
    "import gzip\n",
    "from confluent_kafka import Producer\n",
    "import time"
   ]
  },
  {
   "cell_type": "code",
   "execution_count": 2,
   "id": "99e1f645-47f7-4b50-a7f5-420c850b26c4",
   "metadata": {},
   "outputs": [],
   "source": [
    "def read_reviews(file_path):\n",
    "    with gzip.open(file_path, 'rb') as file:\n",
    "        for line_number, line in enumerate(file, start=0):\n",
    "            # review = json.loads(eval(line))\n",
    "            # review = eval(line)\n",
    "            # review = eval(line.replace('null', 'None'))\n",
    "            review = json.loads(line)\n",
    "            # review = {k: v if v is not None else None for k, v in review.items()}\n",
    "            yield review\n",
    "\n",
    "def kafka_producer(broker, topic, file_path):\n",
    "    producer_conf = {'bootstrap.servers': broker}\n",
    "    producer = Producer(producer_conf)\n",
    "    x = 0\n",
    "\n",
    "    try:\n",
    "        for review in read_reviews(file_path):\n",
    "            x += 1\n",
    "            \n",
    "            review['last_update_time'] = time.time()\n",
    "            # Convert the review to a JSON string\n",
    "            message_value = json.dumps(review)\n",
    "            \n",
    "            # Produce the message to the Kafka topic\n",
    "            producer.produce(topic, value=message_value.encode('utf-8'))\n",
    "\n",
    "            # Flush the producer to ensure the message is sent\n",
    "            producer.flush()\n",
    "\n",
    "            # Print the data just sent\n",
    "            print(f\"Sent {x} :  {message_value}\")\n",
    "\n",
    "            # Pause for 5 seconds\n",
    "            time.sleep(12)\n",
    "\n",
    "    except KeyboardInterrupt:\n",
    "        pass\n",
    "\n",
    "    finally:\n",
    "        # Close the producer (no close method, just flush)\n",
    "        producer.flush()"
   ]
  },
  {
   "cell_type": "code",
   "execution_count": 8,
   "id": "cd2baa92-a40c-4dc1-b265-502c38ecd334",
   "metadata": {},
   "outputs": [
    {
     "name": "stdout",
     "output_type": "stream",
     "text": [
      "Sent 1 :  {\"reviewId\": \"ChdDSUhNMG9nS0VJQ0FnSUN0cF8zZS13RRAB\", \"placeId\": \"ChIJXbidq_sudTERT6eTAa9jY1A\", \"title\": \"018 Cafe\", \"location/lat\": 10.7551649, \"location/lng\": 106.6676778, \"categoryName\": \"Qu\\u00e1n c\\u00e0 ph\\u00ea\", \"reviewerId\": \"1.10E+20\", \"name\": \"Oh Seatide (seatide)\", \"stars\": 5.0, \"text\": \"\\uc634\\uce74\\ud398\\uc785\\ub2c8\\ub2e4. \\uce5c\\uc808\\ud55c \\ubca0\\ud2b8\\ub0a8 \\uc544\\uac00\\uc528\\ub4e4\\uacfc \\ub300\\ud654\\ub3c4 \\ub098\\ub204\\uace0 \\uc815\\ub2f5\\uac8c \\ub290\\uaef4\\uc9c0\\ub294 \\uce74\\ud398\\uc785\\ub2c8\\ub2e4\", \"publishedAtDate\": \"2024-02-01T09:20:12.196Z\", \"categories\": \"Qu\\u00e1n c\\u00e0 ph\\u00ea\", \"last_update_time\": 1707376236.8952968}\n",
      "Sent 2 :  {\"reviewId\": \"ChZDSUhNMG9nS0VJQ0FnSUR0bklXX1R3EAE\", \"placeId\": \"ChIJPZM8uVYpdTERLvi8c7WWMtU\", \"title\": \"1 Dessert & Cafe\", \"location/lat\": 10.79644, \"location/lng\": 106.6857013, \"categoryName\": \"Qu\\u00e1n c\\u00e0 ph\\u00ea\", \"reviewerId\": \"1.03E+20\", \"name\": \"Oanh Hu\\u1ef3nh\", \"stars\": 4.0, \"text\": \"Qu\\u00e1n n\\u00ean \\u0111\\u1ed5i gh\\u1ebf sang gh\\u1ebf c\\u00f3 t\\u1ef1a, gh\\u1ebf tr\\u00f2n nh\\u1ec9 nh\\u01b0 n\\u00e0y ng\\u1ed3i kh\\u00e1 m\\u1ecfi l\\u01b0ng. \\u0110\\u1ed3 u\\u1ed1ng c\\u0169ng c\\u1ea7n c\\u1ea3i thi\\u1ec7n. M\\u00ecnh th\\u1eed bing su, tr\\u00e0 s\\u1eefa, \\u0111\\u00e1 xay \\u0111\\u1ec1u b\\u1ecb nh\\u1ea1t, kh\\u00f4ng ngon. Qu\\u00e1n trang tr\\u00ed m\\u00e0u \\u0111\\u1eb9p\", \"publishedAtDate\": \"2024-02-03T03:21:04.785Z\", \"categories\": \"Qu\\u00e1n c\\u00e0 ph\\u00ea\", \"last_update_time\": 1707376249.8936727}\n",
      "Sent 3 :  {\"reviewId\": \"ChdDSUhNMG9nS0VJQ0FnSUR0bU5hMmtRRRAB\", \"placeId\": \"ChIJPZM8uVYpdTERLvi8c7WWMtU\", \"title\": \"1 Dessert & Cafe\", \"location/lat\": 10.79644, \"location/lng\": 106.6857013, \"categoryName\": \"Qu\\u00e1n c\\u00e0 ph\\u00ea\", \"reviewerId\": \"1.02E+20\", \"name\": \"Tr\\u1ecdng Vi\\u1ec7t \\u0110inh\", \"stars\": 4.0, \"text\": \"1 dessert & cafe 277 Ho\\u00e0ng sa, t\\u00e2n \\u0111\\u1ecbnh. Ch\\u1ec9 ph\\u00f9 h\\u1ee3p cho l\\u00e0m vi\\u1ec7c online. C\\u00f3 b\\u00e1n b\\u00e1nh. Gi\\u00e1 trung b\\u00ecnh +. H\\u01a1i \\u1ed3n.\", \"publishedAtDate\": \"2024-02-02T09:38:50.263Z\", \"categories\": \"Qu\\u00e1n c\\u00e0 ph\\u00ea\", \"last_update_time\": 1707376261.8991253}\n",
      "Sent 4 :  {\"reviewId\": \"ChdDSUhNMG9nS0VJQ0FnSUR0NmRMNndBRRAB\", \"placeId\": \"ChIJC8n56g0pdTER0YYOkKUfacU\", \"title\": \"27 ELITE SHOPPING COMPLEX\", \"location/lat\": 10.8120578, \"location/lng\": 106.7000769, \"categoryName\": \"C\\u1eeda h\\u00e0ng qu\\u1ea7n \\u00e1o\", \"reviewerId\": \"1.18E+20\", \"name\": \"trung v\\u00f5\", \"stars\": 5.0, \"text\": \"\\u00e1o \\u0111\\u1eb9p nh\\u00e2n vi\\u00ean nhi\\u1ec7t t\\u00ecnh\", \"publishedAtDate\": \"2024-02-05T12:41:58.523Z\", \"categories\": \"C\\u1eeda h\\u00e0ng qu\\u1ea7n \\u00e1o\", \"last_update_time\": 1707376273.933766}\n",
      "Sent 5 :  {\"reviewId\": \"ChZDSUhNMG9nS0VJQ0FnSUR0Nlp5dFdnEAE\", \"placeId\": \"ChIJC8n56g0pdTER0YYOkKUfacU\", \"title\": \"27 ELITE SHOPPING COMPLEX\", \"location/lat\": 10.8120578, \"location/lng\": 106.7000769, \"categoryName\": \"C\\u1eeda h\\u00e0ng qu\\u1ea7n \\u00e1o\", \"reviewerId\": \"1.12E+20\", \"name\": \"Young Doowy\", \"stars\": 5.0, \"text\": \"shop \\u0111\\u1ed3 \\u0111\\u1eb9p nh\\u1ea1c hay anh ch\\u1ee7 nhi\\u1ec7t t\\u00ecnh\", \"publishedAtDate\": \"2024-02-05T12:37:45.059Z\", \"categories\": \"C\\u1eeda h\\u00e0ng qu\\u1ea7n \\u00e1o\", \"last_update_time\": 1707376285.9453688}\n"
     ]
    }
   ],
   "source": [
    "if __name__ == '__main__':\n",
    "    # Thay thế 'localhost:9092' và 'PREDICT_RATINGS_OF_GOOGLE_LOCAL_REVIEWS_IE212_O11_GROUP7' bằng thông tin Kafka của bạn\n",
    "    bootstrap_servers = 'localhost:9092'\n",
    "    kafka_topic = 'PREDICT_RATINGS_OF_GOOGLE_LOCAL_REVIEWS_IE212_O11_GROUP7'\n",
    "    \n",
    "    # Thay thế 'data/reviews.clean.json.gz' bằng đường dẫn tới tệp của bạn\n",
    "    file_path = '../data_vi_tphcm/reviews_HCM_after_31_01_2024.jsonl.gz'\n",
    "    \n",
    "    try:\n",
    "        kafka_producer(bootstrap_servers, kafka_topic, file_path)\n",
    "    except KeyboardInterrupt:\n",
    "        print(\"Stopping the producer...\")\n",
    "        running = False  # Đặt biến cờ thành False để dừng producer"
   ]
  }
 ],
 "metadata": {
  "kernelspec": {
   "display_name": "Python 3 (ipykernel)",
   "language": "python",
   "name": "python3"
  },
  "language_info": {
   "codemirror_mode": {
    "name": "ipython",
    "version": 3
   },
   "file_extension": ".py",
   "mimetype": "text/x-python",
   "name": "python",
   "nbconvert_exporter": "python",
   "pygments_lexer": "ipython3",
   "version": "3.9.13"
  }
 },
 "nbformat": 4,
 "nbformat_minor": 5
}
